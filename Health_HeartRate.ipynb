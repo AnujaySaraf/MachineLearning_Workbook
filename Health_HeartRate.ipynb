{
    "nbformat_minor": 1, 
    "cells": [
        {
            "source": "<center><h1> Predict heart failure with Watson Machine Learning</h1></center>\n![alt text](https://www.cdc.gov/dhdsp/images/heart_failure.jpg \"Heart failure\")\n<p>This notebook contains steps and code to create a predictive model to predict heart failure and then deploy that model to Watson Machine Learning so it can be used in an application.</p>\n## Learning Goals\nThe learning goals of this notebook are:\n* Load a CSV file into the  Object Storage Service linked to your Data Science Experience \n* Create an Apache\u00ae Spark machine learning model\n* Train and evaluate a model\n* Persist a model in a Watson Machine Learning repository\n\n## 1. Setup\n\nBefore you use the sample code in this notebook, you must perform the following setup tasks:\n* Create a Watson Machine Learning Service instance (a free plan is offered) and associate it with your project\n* Upload heart failure  data to the Object Store service that is part of your data Science Experience trial\n", 
            "cell_type": "markdown", 
            "metadata": {}
        }, 
        {
            "source": "## 2. Load and explore data\n<p>In this section you will load the data as an Apache\u00ae Spark DataFrame and perform a basic exploration.</p>\n\n<p>Load the data to the Spark DataFrame from your associated Object Storage instance.</p>", 
            "cell_type": "markdown", 
            "metadata": {}
        }, 
        {
            "execution_count": null, 
            "cell_type": "code", 
            "metadata": {
                "scrolled": true
            }, 
            "outputs": [], 
            "source": "# The code was removed by DSX for sharing."
        }, 
        {
            "source": "Explore the loaded data by using the following Apache\u00ae Spark DataFrame methods:\n* print schema\n* print top ten records\n* count all records", 
            "cell_type": "markdown", 
            "metadata": {}
        }, 
        {
            "execution_count": null, 
            "cell_type": "code", 
            "metadata": {
                "scrolled": true
            }, 
            "outputs": [], 
            "source": "df_data.printSchema()"
        }, 
        {
            "source": "As you can see, the data contains ten  fields. The  HEARTFAILURE field is the one we would like to predict (label).", 
            "cell_type": "markdown", 
            "metadata": {}
        }, 
        {
            "execution_count": null, 
            "cell_type": "code", 
            "metadata": {
                "scrolled": false
            }, 
            "outputs": [], 
            "source": "df_data.show()"
        }, 
        {
            "execution_count": null, 
            "cell_type": "code", 
            "metadata": {
                "scrolled": true
            }, 
            "outputs": [], 
            "source": "df_data.describe().show()"
        }, 
        {
            "execution_count": null, 
            "cell_type": "code", 
            "metadata": {
                "scrolled": true
            }, 
            "outputs": [], 
            "source": "df_data.count()"
        }, 
        {
            "source": "As you can see, the data set contains 10800 records.", 
            "cell_type": "markdown", 
            "metadata": {}
        }, 
        {
            "source": "## 3 Interactive Visualizations w/PixieDust", 
            "cell_type": "markdown", 
            "metadata": {}
        }, 
        {
            "execution_count": null, 
            "cell_type": "code", 
            "metadata": {
                "scrolled": true
            }, 
            "outputs": [], 
            "source": "# To confirm you have the latest version of PixieDust on your system, run this cell\n!pip install --user pixiedust==1.1.2\n!pip install scikit-learn==0.18"
        }, 
        {
            "source": "If indicated by the installer, restart the kernel and rerun the notebook until here and continue with the workshop.", 
            "cell_type": "markdown", 
            "metadata": {}
        }, 
        {
            "execution_count": null, 
            "cell_type": "code", 
            "metadata": {
                "scrolled": true
            }, 
            "outputs": [], 
            "source": "import pixiedust"
        }, 
        {
            "source": "### Simple visualization using bar charts\nWith PixieDust display(), you can visually explore the loaded data using built-in charts, such as, bar charts, line charts, scatter plots, or maps.\nTo explore a data set: choose the desired chart type from the drop down, configure chart options, configure display options.", 
            "cell_type": "markdown", 
            "metadata": {}
        }, 
        {
            "execution_count": null, 
            "cell_type": "code", 
            "metadata": {
                "pixiedust": {
                    "displayParams": {
                        "kind": "kde", 
                        "title": "Explore", 
                        "chartsize": "78", 
                        "mpld3": "false", 
                        "aggregation": "AVG", 
                        "rowCount": "500", 
                        "handlerId": "scatterPlot", 
                        "valueFields": "BMI", 
                        "rendererId": "seaborn", 
                        "keyFields": "AGE"
                    }
                }, 
                "scrolled": true
            }, 
            "outputs": [], 
            "source": "display(df_data)"
        }, 
        {
            "source": "## 4. Create an Apache\u00ae Spark machine learning model\nIn this section you will learn how to prepare data, create and train an Apache\u00ae Spark machine learning model.\n\n### 4.1: Prepare data\nIn this subsection you will split your data into: train and  test  data sets.", 
            "cell_type": "markdown", 
            "metadata": {}
        }, 
        {
            "execution_count": null, 
            "cell_type": "code", 
            "metadata": {
                "scrolled": true
            }, 
            "outputs": [], 
            "source": "split_data = df_data.randomSplit([0.8, 0.20], 24)\ntrain_data = split_data[0]\ntest_data = split_data[1]\n\n\nprint \"Number of training records: \" + str(train_data.count())\nprint \"Number of testing records : \" + str(test_data.count())"
        }, 
        {
            "source": "As you can see our data has been successfully split into two data sets:\n* The train data set, which is the largest group, is used for training.\n* The test data set will be used for model evaluation and is used to test the assumptions of the model.\n\n### 4.2: Create pipeline and train a model\nIn this section you will create an Apache\u00ae Spark machine learning pipeline and then train the model.\nIn the first step you need to import the Apache\u00ae Spark machine learning packages that will be needed in the subsequent steps.\n\nA sequence of data processing is called a _data pipeline_.  Each step in the pipeline processes the data and passes the result to the next step in the pipeline, this allows you to transform and fit your model with the raw input data.", 
            "cell_type": "markdown", 
            "metadata": {}
        }, 
        {
            "execution_count": null, 
            "cell_type": "code", 
            "metadata": {
                "scrolled": true
            }, 
            "outputs": [], 
            "source": "from pyspark.ml.feature import StringIndexer, IndexToString, VectorAssembler\nfrom pyspark.ml.classification import RandomForestClassifier\nfrom pyspark.ml.evaluation import MulticlassClassificationEvaluator\nfrom pyspark.ml import Pipeline, Model"
        }, 
        {
            "source": "In the following step, convert all the string fields to numeric ones by using the StringIndexer transformer.", 
            "cell_type": "markdown", 
            "metadata": {}
        }, 
        {
            "execution_count": null, 
            "cell_type": "code", 
            "metadata": {
                "scrolled": true
            }, 
            "outputs": [], 
            "source": "stringIndexer_label = StringIndexer(inputCol=\"HEARTFAILURE\", outputCol=\"label\").fit(df_data)\nstringIndexer_sex = StringIndexer(inputCol=\"SEX\", outputCol=\"SEX_IX\")\nstringIndexer_famhist = StringIndexer(inputCol=\"FAMILYHISTORY\", outputCol=\"FAMILYHISTORY_IX\")\nstringIndexer_smoker = StringIndexer(inputCol=\"SMOKERLAST5YRS\", outputCol=\"SMOKERLAST5YRS_IX\")"
        }, 
        {
            "source": "\nIn the following step, create a feature vector by combining all features together.", 
            "cell_type": "markdown", 
            "metadata": {}
        }, 
        {
            "execution_count": null, 
            "cell_type": "code", 
            "metadata": {
                "scrolled": true
            }, 
            "outputs": [], 
            "source": "vectorAssembler_features = VectorAssembler(inputCols=[\"AVGHEARTBEATSPERMIN\",\"PALPITATIONSPERDAY\",\"CHOLESTEROL\",\"BMI\",\"AGE\",\"SEX_IX\",\"FAMILYHISTORY_IX\",\"SMOKERLAST5YRS_IX\",\"EXERCISEMINPERWEEK\"], outputCol=\"features\")"
        }, 
        {
            "source": "Next, define estimators you want to use for classification. Random Forest is used in the following example.", 
            "cell_type": "markdown", 
            "metadata": {}
        }, 
        {
            "execution_count": null, 
            "cell_type": "code", 
            "metadata": {
                "scrolled": true
            }, 
            "outputs": [], 
            "source": "rf = RandomForestClassifier(labelCol=\"label\", featuresCol=\"features\")"
        }, 
        {
            "source": "Finally, indexed labels back to original labels.", 
            "cell_type": "markdown", 
            "metadata": {}
        }, 
        {
            "execution_count": null, 
            "cell_type": "code", 
            "metadata": {
                "scrolled": true
            }, 
            "outputs": [], 
            "source": "labelConverter = IndexToString(inputCol=\"prediction\", outputCol=\"predictedLabel\", labels=stringIndexer_label.labels)\nprint (df_data)"
        }, 
        {
            "execution_count": null, 
            "cell_type": "code", 
            "metadata": {
                "scrolled": true
            }, 
            "outputs": [], 
            "source": "transform_df_pipeline = Pipeline(stages=[stringIndexer_label, stringIndexer_sex, stringIndexer_famhist, stringIndexer_smoker, vectorAssembler_features])\ntransformed_df = transform_df_pipeline.fit(df_data).transform(df_data)\ntransformed_df.show()"
        }, 
        {
            "source": "Let's build the pipeline now. A pipeline consists of transformers and an estimator.", 
            "cell_type": "markdown", 
            "metadata": {}
        }, 
        {
            "execution_count": null, 
            "cell_type": "code", 
            "metadata": {
                "scrolled": true
            }, 
            "outputs": [], 
            "source": "pipeline_rf = Pipeline(stages=[stringIndexer_label, stringIndexer_sex, stringIndexer_famhist, stringIndexer_smoker, vectorAssembler_features, rf, labelConverter])"
        }, 
        {
            "source": "Now, you can train your Random Forest model by using the previously defined **pipeline** and **training data**.", 
            "cell_type": "markdown", 
            "metadata": {}
        }, 
        {
            "execution_count": null, 
            "cell_type": "code", 
            "metadata": {
                "scrolled": true
            }, 
            "outputs": [], 
            "source": "model_rf = pipeline_rf.fit(train_data)"
        }, 
        {
            "source": "You can check your **model accuracy** now. To evaluate the model, use **test data**.", 
            "cell_type": "markdown", 
            "metadata": {}
        }, 
        {
            "execution_count": null, 
            "cell_type": "code", 
            "metadata": {
                "scrolled": true
            }, 
            "outputs": [], 
            "source": "predictions = model_rf.transform(test_data)\nevaluatorRF = MulticlassClassificationEvaluator(labelCol=\"label\", predictionCol=\"prediction\", metricName=\"accuracy\")\naccuracy = evaluatorRF.evaluate(predictions)\nprint(\"Accuracy = %g\" % accuracy)\nprint(\"Test Error = %g\" % (1.0 - accuracy))"
        }, 
        {
            "source": "You can tune your model now to achieve better accuracy. For simplicity of this example tuning section is omitted.\n## 5. Persist model\nIn this section you will learn how to store your pipeline and model in Watson Machine Learning repository by using Python client libraries.\nFirst, you must import client libraries.", 
            "cell_type": "markdown", 
            "metadata": {}
        }, 
        {
            "execution_count": null, 
            "cell_type": "code", 
            "metadata": {
                "scrolled": true
            }, 
            "outputs": [], 
            "source": "from repository.mlrepositoryclient import MLRepositoryClient\nfrom repository.mlrepositoryartifact import MLRepositoryArtifact"
        }, 
        {
            "source": "Authenticate to Watson Machine Learning service on IBM Cloud.\n\n## **STOP here !!!!:** \nPut authentication information (username and password)  from your instance of Watson Machine Learning service here.", 
            "cell_type": "markdown", 
            "metadata": {}
        }, 
        {
            "execution_count": null, 
            "cell_type": "code", 
            "metadata": {
                "scrolled": true
            }, 
            "outputs": [], 
            "source": "wml_url = 'https://ibm-watson-ml.mybluemix.net'\nusername = 'c976ddb2-943d-4ca8-92f0-7cfd34d8e56f'\npassword = '44436bbd-f730-43cd-8e68-2a5f52b53f8f'\ninstance_id= \"c2822f68-9e0c-40bd-a837-a0f86248bd57\""
        }, 
        {
            "source": "**Tip:** service_path, username and password can be found on Service Credentials tab of the Watson Machine Learning service instance created on the IBM Cloud.", 
            "cell_type": "markdown", 
            "metadata": {}
        }, 
        {
            "execution_count": null, 
            "cell_type": "code", 
            "metadata": {
                "scrolled": true
            }, 
            "outputs": [], 
            "source": "ml_repository_client = MLRepositoryClient(wml_url)\nml_repository_client.authorize(username, password)"
        }, 
        {
            "source": "Create model artifact (abstraction layer).", 
            "cell_type": "markdown", 
            "metadata": {}
        }, 
        {
            "execution_count": null, 
            "cell_type": "code", 
            "metadata": {
                "scrolled": true
            }, 
            "outputs": [], 
            "source": "pipeline_artifact = MLRepositoryArtifact(pipeline_rf, name=\"pipeline\")"
        }, 
        {
            "execution_count": null, 
            "cell_type": "code", 
            "metadata": {
                "scrolled": true
            }, 
            "outputs": [], 
            "source": "model_artifact = MLRepositoryArtifact(model_rf, training_data=train_data, name=\"Heart Failure Prediction Model\", pipeline_artifact=pipeline_artifact)"
        }, 
        {
            "source": "**Tip:** The MLRepositoryArtifact method expects a trained model object, training data, and a model name. (It is this model name that is displayed by the Watson Machine Learning service).\n## 5.1: Save pipeline and model\u00b6\nIn this subsection you will learn how to save pipeline and model artifacts to your Watson Machine Learning instance.", 
            "cell_type": "markdown", 
            "metadata": {}
        }, 
        {
            "execution_count": null, 
            "cell_type": "code", 
            "metadata": {
                "scrolled": true
            }, 
            "outputs": [], 
            "source": "saved_model = ml_repository_client.models.save(model_artifact)"
        }, 
        {
            "source": "Get saved model metadata from Watson Machine Learning.\n**Tip:** Use *meta.availableProps* to get the list of available props.", 
            "cell_type": "markdown", 
            "metadata": {}
        }, 
        {
            "execution_count": null, 
            "cell_type": "code", 
            "metadata": {
                "scrolled": true
            }, 
            "outputs": [], 
            "source": "saved_model.meta.available_props()"
        }, 
        {
            "execution_count": null, 
            "cell_type": "code", 
            "metadata": {
                "scrolled": true
            }, 
            "outputs": [], 
            "source": "print \"modelType: \" + saved_model.meta.prop(\"modelType\")\nprint \"trainingDataSchema: \" + str(saved_model.meta.prop(\"trainingDataSchema\"))\nprint \"creationTime: \" + str(saved_model.meta.prop(\"creationTime\"))\nprint \"modelVersionHref: \" + saved_model.meta.prop(\"modelVersionHref\")\nprint \"label: \" + saved_model.meta.prop(\"label\")"
        }, 
        {
            "source": "\n## 5.2 Load model to verify that it was saved correctly\nYou can load your model  to make sure that it was saved  correctly.", 
            "cell_type": "markdown", 
            "metadata": {}
        }, 
        {
            "execution_count": null, 
            "cell_type": "code", 
            "metadata": {
                "scrolled": true
            }, 
            "outputs": [], 
            "source": "loadedModelArtifact = ml_repository_client.models.get(saved_model.uid)"
        }, 
        {
            "source": "Print the  model name to make sure that model artifact has been loaded correctly.", 
            "cell_type": "markdown", 
            "metadata": {}
        }, 
        {
            "execution_count": null, 
            "cell_type": "code", 
            "metadata": {
                "scrolled": true
            }, 
            "outputs": [], 
            "source": "print str(loadedModelArtifact.name)"
        }, 
        {
            "source": "Congratulations. You've sucessfully created a predictive model and saved it in the Watson Machine Learning service. You can now switch to the Watson Machine Learning console to deploy the model and then test it in application.\n", 
            "cell_type": "markdown", 
            "metadata": {}
        }, 
        {
            "source": "## 6.0 Accessing Watson ML Models and Deployments through API\nInstead of jumping from your notebook into a web browser manage your model and delopyment through a set of APIs\n", 
            "cell_type": "markdown", 
            "metadata": {}
        }, 
        {
            "source": "Recap of deploying an existing ML model through using a Python SDK\n\n\n`pip install watson-machine-learning-client`\n\n[SDK Documentation](https://watson-ml-staging-libs.mybluemix.net/repository-python/index.html)", 
            "cell_type": "markdown", 
            "metadata": {}
        }, 
        {
            "source": "### 6.1 Get the Watson ML API Token\nThe Watson ML API authenticates all requests through a token, start by requesting the token from our Watson ML Service.", 
            "cell_type": "markdown", 
            "metadata": {}
        }, 
        {
            "execution_count": null, 
            "cell_type": "code", 
            "metadata": {
                "scrolled": true
            }, 
            "outputs": [], 
            "source": "import json\nimport requests\nfrom base64 import b64encode\n\ntoken_url = wml_url + \"/v3/identity/token\"\n\nheaders = {'authorization': \"Basic {}\".format(b64encode(username + \":\" + password).decode(\"ascii\"))}\n\nresponse = requests.request(\"GET\", token_url, headers=headers)\n\nwatson_ml_token = json.loads(response.text)['token']\nprint(watson_ml_token)"
        }, 
        {
            "source": "### 6.2 Preview currenly published models", 
            "cell_type": "markdown", 
            "metadata": {}
        }, 
        {
            "execution_count": null, 
            "cell_type": "code", 
            "metadata": {
                "scrolled": false
            }, 
            "outputs": [], 
            "source": "model_url = wml_url + \"/v3/wml_instances/\" + instance_id + \"/published_models\"\n\nheaders = {'authorization': 'Bearer ' + watson_ml_token }\nresponse = requests.request(\"GET\", model_url, headers=headers)\n\npublished_models = json.loads(response.text)\nprint(json.dumps(published_models, indent=2))"
        }, 
        {
            "source": "Read the details of any returned models", 
            "cell_type": "markdown", 
            "metadata": {}
        }, 
        {
            "source": "Create a new deployment of the Model", 
            "cell_type": "markdown", 
            "metadata": {}
        }, 
        {
            "execution_count": null, 
            "cell_type": "code", 
            "metadata": {
                "scrolled": true
            }, 
            "outputs": [], 
            "source": "model_id = '78726bbd-2e0b-429a-a92f-17351cc83b26'\n\ndeployment_url = wml_url + \"/v3/wml_instances/\" + instance_id + \"/published_models/\" + model_id + \"/deployments\"\n\npayload = \"{\\\"name\\\": \\\"Heart Failure Prediction Model \\\", \\\"description\\\": \\\"First deployment of Heart Failure Prediction Model\\\", \\\"type\\\": \\\"online\\\"}\"\nheaders = {'authorization': 'Bearer ' + watson_ml_token, 'content-type': \"application/json\" }\n\nresponse = requests.request(\"POST\", deployment_url, data=payload, headers=headers)\n\nprint(response.text)"
        }, 
        {
            "execution_count": null, 
            "cell_type": "code", 
            "metadata": {
                "scrolled": true
            }, 
            "outputs": [], 
            "source": "deployment = json.loads(response.text)\n\nprint('Model {} deployed.'.format(model_id))\nprint('\\tname: {}'.format(deployment['entity']['name']))\nprint('\\tdeployment_id: {}'.format(deployment['metadata']['guid']))\nprint('\\tstatus: {}'.format(deployment['entity']['status']))\nprint('\\tscoring url: {}'.format(deployment['entity']['scoring_url']))"
        }, 
        {
            "source": "Monitor the status of deployment", 
            "cell_type": "markdown", 
            "metadata": {}
        }, 
        {
            "execution_count": null, 
            "cell_type": "code", 
            "metadata": {
                "scrolled": true
            }, 
            "outputs": [], 
            "source": "deployment_id = \"af1ae551-cdd5-4b28-96c9-066d4e0a9b19\"\ndeployment_details_url = wml_url + \"/v3/wml_instances/\" + instance_id + \"/published_models/\" + model_id + \"/deployments/\" + deployment_id\n\nheaders = {'authorization': 'Bearer ' + watson_ml_token, 'content-type': \"application/json\" }\n\nresponse = requests.request(\"GET\", deployment_url, headers=headers)\nprint(response.text)"
        }, 
        {
            "execution_count": null, 
            "cell_type": "code", 
            "metadata": {
                "scrolled": true
            }, 
            "outputs": [], 
            "source": "deployment_details = json.loads(response.text)\n\nfor resources in deployment_details['resources']:\n    print('name: {}'.format(resources['entity']['name']))\n    print('status: {}'.format(resources['entity']['status']))\n    print('scoring url: {}'.format(resources['entity']['scoring_url']))"
        }, 
        {
            "source": "## 6.3 Invoke prediction model deployment\nDefine a method to call scoring url. Replace the **scoring_url** in the method below with the scoring_url returned from above.", 
            "cell_type": "markdown", 
            "metadata": {}
        }, 
        {
            "execution_count": null, 
            "cell_type": "code", 
            "metadata": {
                "scrolled": true
            }, 
            "outputs": [], 
            "source": "def get_prediction_ml(ahb, ppd, chol, bmi, age, sex, fh, smoker, exercise_minutes ):\n    scoring_url = 'https://ibm-watson-ml.mybluemix.net/v3/wml_instances/c2822f68-9e0c-40bd-a837-a0f86248bd57/published_models/78726bbd-2e0b-429a-a92f-17351cc83b26/deployments/7b089296-9c81-4a1d-b059-908435a0c199/online'\n    scoring_payload = { \"fields\":[\"AVGHEARTBEATSPERMIN\",\"PALPITATIONSPERDAY\",\"CHOLESTEROL\",\"BMI\",\"AGE\",\"SEX\",\"FAMILYHISTORY\",\"SMOKERLAST5YRS\",\"EXERCISEMINPERWEEK\"],\"values\":[[ahb, ppd, chol, bmi, age, sex, fh, smoker, exercise_minutes]]}\n    header = {'authorization': 'Bearer ' + watson_ml_token, 'content-type': \"application/json\" }\n    scoring_response = requests.post(scoring_url, json=scoring_payload, headers=header)\n    print(scoring_response.text)\n    return (json.loads(scoring_response.text).get(\"values\")[0][12])"
        }, 
        {
            "source": "### Call get_prediction_ml method exercising our prediction model", 
            "cell_type": "markdown", 
            "metadata": {}
        }, 
        {
            "execution_count": null, 
            "cell_type": "code", 
            "metadata": {
                "scrolled": true
            }, 
            "outputs": [], 
            "source": "print('Is a 44 year old female that smokes with a low BMI at risk of Heart Failure?: {}'.format(get_prediction_ml(100,85,242,24,44,\"F\",\"Y\",\"Y\",125)))"
        }, 
        {
            "execution_count": null, 
            "cell_type": "code", 
            "metadata": {
                "scrolled": true
            }, 
            "outputs": [], 
            "source": "print('Is a 42 year old male that smokes with a low BMI at risk of Heart Failure?: {}'.format(get_prediction_ml(100,85,178,22,42,\"M\",\"N\",\"N\",45)))"
        }, 
        {
            "execution_count": null, 
            "cell_type": "code", 
            "metadata": {
                "scrolled": true
            }, 
            "outputs": [], 
            "source": ""
        }
    ], 
    "metadata": {
        "kernelspec": {
            "display_name": "Python 2 with Spark 2.1", 
            "name": "python2-spark21", 
            "language": "python"
        }, 
        "language_info": {
            "mimetype": "text/x-python", 
            "nbconvert_exporter": "python", 
            "version": "2.7.14", 
            "name": "python", 
            "file_extension": ".py", 
            "pygments_lexer": "ipython2", 
            "codemirror_mode": {
                "version": 2, 
                "name": "ipython"
            }
        }, 
        "celltoolbar": "Raw Cell Format"
    }, 
    "nbformat": 4
}