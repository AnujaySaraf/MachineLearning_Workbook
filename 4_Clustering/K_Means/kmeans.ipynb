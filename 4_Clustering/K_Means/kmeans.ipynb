{
 "cells": [
  {
   "cell_type": "code",
   "execution_count": 1,
   "metadata": {
    "collapsed": true
   },
   "outputs": [],
   "source": [
    "# K Means Clustering\n",
    "\n",
    "# Step 1 - Choose the number of K of Clusters\n",
    "# Step 2 - Select at Random K Points the Centroids - Not necessarily from your dataset\n",
    "# Step 3 - Assign each data point to the closest centroid - That forms K Cluster\n",
    "# Step 4 - Compute and place the new Centroid of each cluster\n",
    "# Step 5 - Reassign each data Point to the new closed centoid if any reassignment tookplace go to step4, \n",
    "# Sucess !!\n",
    "\n",
    "# Challenged\n",
    "# Selecting the centroid location\n",
    "# Choosing number of cluster\n",
    "# WCSS\n",
    "# Elbow method"
   ]
  },
  {
   "cell_type": "code",
   "execution_count": 2,
   "metadata": {},
   "outputs": [
    {
     "name": "stderr",
     "output_type": "stream",
     "text": [
      "C:\\Users\\jayyanar\\Anaconda3\\lib\\site-packages\\sklearn\\cross_validation.py:41: DeprecationWarning: This module was deprecated in version 0.18 in favor of the model_selection module into which all the refactored classes and functions are moved. Also note that the interface of the new CV iterators are different from that of this module. This module will be removed in 0.20.\n",
      "  \"This module will be removed in 0.20.\", DeprecationWarning)\n"
     ]
    }
   ],
   "source": [
    "# Import Libraries\n",
    "\n",
    "import numpy as np\n",
    "import pandas as pd\n",
    "from sklearn.cross_validation import train_test_split\n",
    "import matplotlib.pyplot as plt"
   ]
  },
  {
   "cell_type": "code",
   "execution_count": 3,
   "metadata": {},
   "outputs": [
    {
     "data": {
      "text/html": [
       "<div>\n",
       "<style>\n",
       "    .dataframe thead tr:only-child th {\n",
       "        text-align: right;\n",
       "    }\n",
       "\n",
       "    .dataframe thead th {\n",
       "        text-align: left;\n",
       "    }\n",
       "\n",
       "    .dataframe tbody tr th {\n",
       "        vertical-align: top;\n",
       "    }\n",
       "</style>\n",
       "<table border=\"1\" class=\"dataframe\">\n",
       "  <thead>\n",
       "    <tr style=\"text-align: right;\">\n",
       "      <th></th>\n",
       "      <th>CustomerID</th>\n",
       "      <th>Genre</th>\n",
       "      <th>Age</th>\n",
       "      <th>Annual Income (k$)</th>\n",
       "      <th>Spending Score (1-100)</th>\n",
       "    </tr>\n",
       "  </thead>\n",
       "  <tbody>\n",
       "    <tr>\n",
       "      <th>0</th>\n",
       "      <td>1</td>\n",
       "      <td>Male</td>\n",
       "      <td>19</td>\n",
       "      <td>15</td>\n",
       "      <td>39</td>\n",
       "    </tr>\n",
       "    <tr>\n",
       "      <th>1</th>\n",
       "      <td>2</td>\n",
       "      <td>Male</td>\n",
       "      <td>21</td>\n",
       "      <td>15</td>\n",
       "      <td>81</td>\n",
       "    </tr>\n",
       "    <tr>\n",
       "      <th>2</th>\n",
       "      <td>3</td>\n",
       "      <td>Female</td>\n",
       "      <td>20</td>\n",
       "      <td>16</td>\n",
       "      <td>6</td>\n",
       "    </tr>\n",
       "    <tr>\n",
       "      <th>3</th>\n",
       "      <td>4</td>\n",
       "      <td>Female</td>\n",
       "      <td>23</td>\n",
       "      <td>16</td>\n",
       "      <td>77</td>\n",
       "    </tr>\n",
       "    <tr>\n",
       "      <th>4</th>\n",
       "      <td>5</td>\n",
       "      <td>Female</td>\n",
       "      <td>31</td>\n",
       "      <td>17</td>\n",
       "      <td>40</td>\n",
       "    </tr>\n",
       "  </tbody>\n",
       "</table>\n",
       "</div>"
      ],
      "text/plain": [
       "   CustomerID   Genre  Age  Annual Income (k$)  Spending Score (1-100)\n",
       "0           1    Male   19                  15                      39\n",
       "1           2    Male   21                  15                      81\n",
       "2           3  Female   20                  16                       6\n",
       "3           4  Female   23                  16                      77\n",
       "4           5  Female   31                  17                      40"
      ]
     },
     "execution_count": 3,
     "metadata": {},
     "output_type": "execute_result"
    }
   ],
   "source": [
    "dataset = pd.read_csv('Mall_Customers.csv')\n",
    "dataset.head()"
   ]
  },
  {
   "cell_type": "code",
   "execution_count": 4,
   "metadata": {},
   "outputs": [
    {
     "data": {
      "text/plain": [
       "(200, 5)"
      ]
     },
     "execution_count": 4,
     "metadata": {},
     "output_type": "execute_result"
    }
   ],
   "source": [
    "# Identify the shape of the dataset\n",
    "dataset.shape"
   ]
  },
  {
   "cell_type": "code",
   "execution_count": 5,
   "metadata": {
    "collapsed": true
   },
   "outputs": [],
   "source": [
    "# Set the Independent Variable (X) and dependent variable (y) = f(x)=y\n",
    "## Make sure always X is matrix and Y is vector\n",
    "X = dataset.iloc[:,[3,4]].values"
   ]
  },
  {
   "cell_type": "code",
   "execution_count": 21,
   "metadata": {},
   "outputs": [
    {
     "name": "stdout",
     "output_type": "stream",
     "text": [
      "[269981.28000000003, 181363.59595959596, 106348.37306211118, 73679.789039488343, 44448.455447933709, 37265.865204843467, 30259.657207285469, 25095.703209997548, 21830.041978049434, 20736.679938924124]\n"
     ]
    },
    {
     "data": {
      "image/png": "[encoded data removed]",
      "text/plain": [
       "<matplotlib.figure.Figure at 0x223bf14fe10>"
      ]
     },
     "metadata": {},
     "output_type": "display_data"
    }
   ],
   "source": [
    "# Using the Elbow method to find the optimal number of clusters\n",
    "# http://scikit-learn.org/stable/modules/generated/sklearn.cluster.KMeans.html\n",
    "from sklearn.cluster import KMeans\n",
    "wcss = []\n",
    "for i in range(1,11):\n",
    "    k_means = KMeans(n_clusters = i, init = 'k-means++', max_iter = 300, n_init=10, random_state=0)\n",
    "    k_means.fit(X)\n",
    "    wcss.append(k_means.inertia_)\n",
    "print (wcss)\n",
    "plt.plot(range(1,11), wcss, color='red')\n",
    "plt.title(\"The Elbow Method to Calculate the Optimal Number of Cluster\")\n",
    "plt.xlabel(\"Number of Clusters\")\n",
    "plt.ylabel('WCSS')\n",
    "plt.show()\n",
    "    "
   ]
  },
  {
   "cell_type": "code",
   "execution_count": 33,
   "metadata": {
    "collapsed": true
   },
   "outputs": [],
   "source": [
    "# Apply k-means to the Dataset\n",
    "k_means = KMeans(n_clusters=5, init = 'k-means++', max_iter =300, n_init=10, random_state=0)\n",
    "y_means = k_means.fit_predict(X)"
   ]
  },
  {
   "cell_type": "code",
   "execution_count": 34,
   "metadata": {},
   "outputs": [
    {
     "data": {
      "text/plain": [
       "200"
      ]
     },
     "execution_count": 34,
     "metadata": {},
     "output_type": "execute_result"
    }
   ],
   "source": [
    "len(X[y_means == 0])+len(X[y_means == 1])+len(X[y_means == 2])++len(X[y_means == 3])++len(X[y_means == 4])"
   ]
  },
  {
   "cell_type": "code",
   "execution_count": 35,
   "metadata": {},
   "outputs": [
    {
     "data": {
      "text/plain": [
       "(array([ 70,  71,  71,  73,  73,  74,  75,  77,  77,  78,  78,  78,  78,\n",
       "         78,  78,  79,  81,  85,  86,  87,  87,  87,  88,  88,  93,  97,\n",
       "         98,  99, 101, 103, 103, 113, 120, 126, 137], dtype=int64),\n",
       " array([29, 11,  9,  5,  7, 10,  5, 12, 36, 22, 17, 20, 16,  1,  1, 35,  5,\n",
       "        26, 20, 27, 13, 10, 13, 15, 14, 32, 15, 39, 24, 17, 23,  8, 16, 28,\n",
       "        18], dtype=int64))"
      ]
     },
     "execution_count": 35,
     "metadata": {},
     "output_type": "execute_result"
    }
   ],
   "source": [
    "# Careful - Because Their Salary is low but spending rating is high\n",
    "X[y_means == 0,0],X[y_means == 0,1]"
   ]
  },
  {
   "cell_type": "code",
   "execution_count": 36,
   "metadata": {},
   "outputs": [
    {
     "data": {
      "text/plain": [
       "(array([ 69,  70,  71,  71,  71,  72,  73,  73,  74,  75,  76,  77,  77,\n",
       "         78,  78,  78,  78,  78,  78,  79,  81,  85,  86,  87,  87,  87,\n",
       "         88,  88,  93,  97,  98,  99, 101, 103, 103, 113, 120, 126, 137], dtype=int64),\n",
       " array([91, 77, 95, 75, 75, 71, 88, 73, 72, 93, 87, 97, 74, 90, 88, 76, 89,\n",
       "        78, 73, 83, 93, 75, 95, 63, 75, 92, 86, 69, 90, 86, 88, 97, 68, 85,\n",
       "        69, 91, 79, 74, 83], dtype=int64))"
      ]
     },
     "execution_count": 36,
     "metadata": {},
     "output_type": "execute_result"
    }
   ],
   "source": [
    "# Careful - Because Their Salary is low but spending rating is high\n",
    "X[y_means == 2,0],X[y_means == 2,1]"
   ]
  },
  {
   "cell_type": "code",
   "execution_count": 38,
   "metadata": {},
   "outputs": [
    {
     "data": {
      "image/png": "[encoded data removed]",
      "text/plain": [
       "<matplotlib.figure.Figure at 0x223bfbf3198>"
      ]
     },
     "metadata": {},
     "output_type": "display_data"
    }
   ],
   "source": [
    "# Visualization the Clusters Results\n",
    "plt.figure(figsize=(20,10))\n",
    "# plt.scatter(x,y)\n",
    "# We need to Plot X axis for annual income and Y axis for Individual Spending Rating\n",
    "plt.scatter(X[y_means == 0,0], X[y_means ==0, 1], s = 100, c='red', label='Careful')\n",
    "plt.scatter(X[y_means == 1,0], X[y_means ==1, 1], s = 100, c='blue', label='Standard')\n",
    "plt.scatter(X[y_means == 2,0], X[y_means ==2, 1], s = 100, c='green', label='Target')\n",
    "plt.scatter(X[y_means == 3,0], X[y_means ==3, 1], s = 100, c='cyan', label='Careless')\n",
    "plt.scatter(X[y_means == 4,0], X[y_means ==4, 1], s = 100, c='magenta', label='Sensible')\n",
    "\n",
    "# Letz plot the centroid\n",
    "plt.scatter(k_means.cluster_centers_[:,0], k_means.cluster_centers_[:,1],s=100,c = 'yellow', label=\"Centroid\")\n",
    "\n",
    "plt.xlabel(\"Clusters of Clients\")\n",
    "plt.ylabel(\"Spending Rating 1-100\")\n",
    "plt.legend()\n",
    "plt.show()"
   ]
  },
  {
   "cell_type": "code",
   "execution_count": null,
   "metadata": {
    "collapsed": true
   },
   "outputs": [],
   "source": []
  }
 ],
 "metadata": {
  "kernelspec": {
   "display_name": "Python [conda root]",
   "language": "python",
   "name": "conda-root-py"
  },
  "language_info": {
   "codemirror_mode": {
    "name": "ipython",
    "version": 3
   },
   "file_extension": ".py",
   "mimetype": "text/x-python",
   "name": "python",
   "nbconvert_exporter": "python",
   "pygments_lexer": "ipython3",
   "version": "3.6.3"
  }
 },
 "nbformat": 4,
 "nbformat_minor": 2
}
