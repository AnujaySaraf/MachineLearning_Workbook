{
    "nbformat_minor": 1, 
    "cells": [
        {
            "execution_count": 1, 
            "cell_type": "code", 
            "metadata": {}, 
            "outputs": [
                {
                    "output_type": "stream", 
                    "name": "stdout", 
                    "text": "Collecting nolearn\n  Downloading https://files.pythonhosted.org/packages/ff/69/2882491c14c58431c06d5a12a007eefcc4fb3f5ac7af624a5d212b0bbdd4/nolearn-0.6.0.tar.gz (320kB)\n\u001b[K    100% |\u2588\u2588\u2588\u2588\u2588\u2588\u2588\u2588\u2588\u2588\u2588\u2588\u2588\u2588\u2588\u2588\u2588\u2588\u2588\u2588\u2588\u2588\u2588\u2588\u2588\u2588\u2588\u2588\u2588\u2588\u2588\u2588| 327kB 1.1MB/s eta 0:00:01\n\u001b[?25hCollecting gdbn (from nolearn)\n  Downloading https://files.pythonhosted.org/packages/88/5c/512341ac1e6e8fa3008171b8dae49d2bd7b886e79f525658955bc59946c1/gdbn-0.1.tar.gz\nCollecting joblib (from nolearn)\n  Downloading https://files.pythonhosted.org/packages/4f/51/870b2ec270fc29c5d89f85353da420606a9cb39fba4747127e7c7d7eb25d/joblib-0.11-py2.py3-none-any.whl (176kB)\n\u001b[K    100% |\u2588\u2588\u2588\u2588\u2588\u2588\u2588\u2588\u2588\u2588\u2588\u2588\u2588\u2588\u2588\u2588\u2588\u2588\u2588\u2588\u2588\u2588\u2588\u2588\u2588\u2588\u2588\u2588\u2588\u2588\u2588\u2588| 184kB 4.7MB/s eta 0:00:01\n\u001b[?25hRequirement already satisfied: scikit-learn in /gpfs/global_fs01/sym_shared/YPProdSpark/user/s7ed-a18f3badb92bc2-a9f6794a31ec/.local/lib/python2.7/site-packages (from nolearn)\nRequirement already satisfied: tabulate in /usr/local/src/bluemix_jupyter_bundle.v91/notebook/lib/python2.7/site-packages (from nolearn)\nRequirement already satisfied: Lasagne in /usr/local/src/bluemix_jupyter_bundle.v91/notebook/lib/python2.7/site-packages (from nolearn)\nRequirement already satisfied: Theano in /usr/local/src/bluemix_jupyter_bundle.v91/notebook/lib/python2.7/site-packages (from nolearn)\nCollecting gnumpy (from gdbn->nolearn)\n  Downloading https://files.pythonhosted.org/packages/46/63/2c7f2fd6763130700dff21aada32b2d6cf3373a625af71cc74f7090818f4/gnumpy-0.2.tar.gz\nRequirement already satisfied: numpy in /usr/local/src/bluemix_jupyter_bundle.v91/notebook/lib/python2.7/site-packages (from Lasagne->nolearn)\nRequirement already satisfied: scipy>=0.11 in /usr/local/src/bluemix_jupyter_bundle.v91/notebook/lib/python2.7/site-packages (from Theano->nolearn)\nRequirement already satisfied: six>=1.9.0 in /usr/local/src/bluemix_jupyter_bundle.v91/notebook/lib/python2.7/site-packages (from Theano->nolearn)\nBuilding wheels for collected packages: nolearn, gdbn, gnumpy\n  Running setup.py bdist_wheel for nolearn ... \u001b[?25ldone\n\u001b[?25h  Stored in directory: /gpfs/fs01/user/s7ed-a18f3badb92bc2-a9f6794a31ec/.cache/pip/wheels/9c/b3/e8/a863ca29687669deabe68012f333d5c5bd6c9b5a3bea4f2538\n  Running setup.py bdist_wheel for gdbn ... \u001b[?25ldone\n\u001b[?25h  Stored in directory: /gpfs/fs01/user/s7ed-a18f3badb92bc2-a9f6794a31ec/.cache/pip/wheels/f1/aa/d7/7968a6696737f947ab854dc3394186a8fcfbd8aedcc8c66d07\n  Running setup.py bdist_wheel for gnumpy ... \u001b[?25ldone\n\u001b[?25h  Stored in directory: /gpfs/fs01/user/s7ed-a18f3badb92bc2-a9f6794a31ec/.cache/pip/wheels/61/c5/d7/74a2e7afea611ed0469c95bfb9d21f89dd73f1f4f9ecd7a784\nSuccessfully built nolearn gdbn gnumpy\nInstalling collected packages: gnumpy, gdbn, joblib, nolearn\nSuccessfully installed gdbn-0.1 gnumpy-0.2 joblib-0.11 nolearn-0.6.0\n"
                }
            ], 
            "source": "!pip install --user nolearn"
        }, 
        {
            "execution_count": 2, 
            "cell_type": "code", 
            "metadata": {}, 
            "outputs": [
                {
                    "output_type": "stream", 
                    "name": "stderr", 
                    "text": "/gpfs/fs01/user/s7ed-a18f3badb92bc2-a9f6794a31ec/.local/lib/python2.7/site-packages/sklearn/cross_validation.py:44: DeprecationWarning: This module was deprecated in version 0.18 in favor of the model_selection module into which all the refactored classes and functions are moved. Also note that the interface of the new CV iterators are different from that of this module. This module will be removed in 0.20.\n  \"This module will be removed in 0.20.\", DeprecationWarning)\n"
                }, 
                {
                    "output_type": "stream", 
                    "name": "stdout", 
                    "text": "gnumpy: failed to import cudamat. Using npmat instead. No GPU will be used.\n"
                }
            ], 
            "source": "import warnings\nwarnings.filterwarnings(\"ignore\") #suppress warnings\nfrom sklearn.cross_validation import train_test_split\nfrom sklearn.metrics import classification_report\nfrom sklearn import datasets\nfrom nolearn.dbn import DBN\nimport numpy as np\nimport matplotlib.pyplot as plt\nimport matplotlib.image as mpimg\n%matplotlib inline"
        }, 
        {
            "execution_count": 3, 
            "cell_type": "code", 
            "metadata": {}, 
            "outputs": [
                {
                    "output_type": "stream", 
                    "name": "stdout", 
                    "text": "Successfully downloaded train-images-idx3-ubyte.gz 9912422 bytes.\nExtracting MNIST_data/train-images-idx3-ubyte.gz\nSuccessfully downloaded train-labels-idx1-ubyte.gz 28881 bytes.\nExtracting MNIST_data/train-labels-idx1-ubyte.gz\nSuccessfully downloaded t10k-images-idx3-ubyte.gz 1648877 bytes.\nExtracting MNIST_data/t10k-images-idx3-ubyte.gz\nSuccessfully downloaded t10k-labels-idx1-ubyte.gz 4542 bytes.\nExtracting MNIST_data/t10k-labels-idx1-ubyte.gz\n"
                }
            ], 
            "source": "from tensorflow.examples.tutorials.mnist import input_data\nmnist = input_data.read_data_sets(\"MNIST_data/\")"
        }, 
        {
            "execution_count": 4, 
            "cell_type": "code", 
            "metadata": {}, 
            "outputs": [], 
            "source": "mnist_images = mnist.train.images\nmnist_labels = mnist.train.labels"
        }, 
        {
            "execution_count": 5, 
            "cell_type": "code", 
            "metadata": {}, 
            "outputs": [
                {
                    "output_type": "stream", 
                    "name": "stdout", 
                    "text": "Number of images for training: 36850\nNumber of images used for testing: 36850\nEach image is: 28 by 28 pixels\n"
                }
            ], 
            "source": "trX, teX, trY, teY = train_test_split(mnist_images, mnist_labels.astype(\"int0\"), test_size = 0.33)\nprint \"Number of images for training:\", trX.shape[0]\nprint \"Number of images used for testing:\", trY.shape[0]\npix = int(np.sqrt(teX.shape[1]))\nprint \"Each image is:\", pix, \"by\", pix, \"pixels\""
        }, 
        {
            "execution_count": 6, 
            "cell_type": "code", 
            "metadata": {}, 
            "outputs": [
                {
                    "output_type": "stream", 
                    "name": "stdout", 
                    "text": "[DBN] fitting X.shape=(36850, 784)\n[DBN] layers [784, 300, 10]\n[DBN] Fine-tune...\n"
                }, 
                {
                    "output_type": "stream", 
                    "name": "stderr", 
                    "text": "100%\n"
                }, 
                {
                    "output_type": "stream", 
                    "name": "stdout", 
                    "text": "Epoch 1:\n  loss 2.31201524983\n  err  0.896902173913\n  (0:01:01)\n"
                }, 
                {
                    "output_type": "stream", 
                    "name": "stderr", 
                    "text": "100%\n"
                }, 
                {
                    "output_type": "stream", 
                    "name": "stdout", 
                    "text": "Epoch 2:\n  loss 2.3031093415\n  err  0.898152173913\n  (0:00:56)\n"
                }, 
                {
                    "output_type": "stream", 
                    "name": "stderr", 
                    "text": "100%\n"
                }, 
                {
                    "output_type": "stream", 
                    "name": "stdout", 
                    "text": "Epoch 3:\n  loss 2.3030200979\n  err  0.899918478261\n  (0:01:01)\n"
                }, 
                {
                    "output_type": "stream", 
                    "name": "stderr", 
                    "text": "100%\n"
                }, 
                {
                    "output_type": "stream", 
                    "name": "stdout", 
                    "text": "Epoch 4:\n  loss 2.30309300837\n  err  0.901902173913\n  (0:01:00)\n"
                }, 
                {
                    "output_type": "stream", 
                    "name": "stderr", 
                    "text": "100%\n"
                }, 
                {
                    "output_type": "stream", 
                    "name": "stdout", 
                    "text": "Epoch 5:\n  loss 2.3029172491\n  err  0.897635869565\n  (0:01:00)\n"
                }, 
                {
                    "output_type": "stream", 
                    "name": "stderr", 
                    "text": "100%\n"
                }, 
                {
                    "output_type": "stream", 
                    "name": "stdout", 
                    "text": "Epoch 6:\n  loss 2.30296370216\n  err  0.900163043478\n  (0:00:59)\n"
                }, 
                {
                    "output_type": "stream", 
                    "name": "stderr", 
                    "text": "100%\n"
                }, 
                {
                    "output_type": "stream", 
                    "name": "stdout", 
                    "text": "Epoch 9:\n  loss 2.30281360709\n  err  0.899048913043\n  (0:00:53)\n"
                }, 
                {
                    "output_type": "stream", 
                    "name": "stderr", 
                    "text": "100%\n"
                }, 
                {
                    "output_type": "stream", 
                    "name": "stdout", 
                    "text": "Epoch 10:\n  loss 2.30280989274\n  err  0.902092391304\n  (0:00:52)\n"
                }
            ], 
            "source": "dbn = DBN(\n    [trX.shape[1], 300, 10], \n    learn_rates = 0.3,\n    learn_rate_decays = 0.9,\n    epochs = 10, \n    verbose = 1) # set verbose to 0 for not printing output\ndbn.fit(trX, trY)"
        }, 
        {
            "execution_count": 7, 
            "cell_type": "code", 
            "metadata": {}, 
            "outputs": [
                {
                    "output_type": "stream", 
                    "name": "stdout", 
                    "text": "             precision    recall  f1-score   support\n\n          0       0.00      0.00      0.00      1793\n          1       0.10      0.88      0.18      2027\n          2       0.00      0.00      0.00      1900\n          3       0.00      0.00      0.00      1835\n          4       0.00      0.00      0.00      1775\n          5       0.00      0.00      0.00      1605\n          6       0.00      0.00      0.00      1796\n          7       0.21      0.08      0.11      1870\n          8       0.00      0.00      0.00      1744\n          9       0.00      0.00      0.00      1805\n\navg / total       0.03      0.11      0.03     18150\n\n"
                }
            ], 
            "source": "preds = dbn.predict(teX)\nprint classification_report(teY, preds)"
        }, 
        {
            "execution_count": 8, 
            "cell_type": "code", 
            "metadata": {}, 
            "outputs": [], 
            "source": "##function to return random image and predict its class\n\ndef randIm():\n    i = np.random.choice(np.arange(0, len(teY)), size = (1,))\n    pred = dbn.predict(np.atleast_2d(teX[i]))\n    image = (teX[i] * 255).reshape((28, 28)).astype(\"uint8\")\n    # show the prediction\n    print \"Actual digit is\", teY[i][0], \"predicted\", pred[0]\n    imgplot = plt.imshow(image)\n    imgplot.set_cmap('gray')   "
        }, 
        {
            "execution_count": 9, 
            "cell_type": "code", 
            "metadata": {}, 
            "outputs": [
                {
                    "output_type": "stream", 
                    "name": "stdout", 
                    "text": "Actual digit is 2 predicted 1\n"
                }, 
                {
                    "output_type": "display_data", 
                    "data": {
                        "image/png": "[encoded data removed]", 
                        "text/plain": "<matplotlib.figure.Figure at 0x7fa447d2c890>"
                    }, 
                    "metadata": {}
                }
            ], 
            "source": "randIm() #run this cell multiple times to get random images and predicted outputs"
        }, 
        {
            "execution_count": null, 
            "cell_type": "code", 
            "metadata": {}, 
            "outputs": [], 
            "source": ""
        }
    ], 
    "metadata": {
        "kernelspec": {
            "display_name": "Python 2 with Spark 2.1", 
            "name": "python2-spark21", 
            "language": "python"
        }, 
        "language_info": {
            "mimetype": "text/x-python", 
            "nbconvert_exporter": "python", 
            "version": "2.7.14", 
            "name": "python", 
            "file_extension": ".py", 
            "pygments_lexer": "ipython2", 
            "codemirror_mode": {
                "version": 2, 
                "name": "ipython"
            }
        }
    }, 
    "nbformat": 4
}