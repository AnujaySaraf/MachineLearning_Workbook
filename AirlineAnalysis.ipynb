{
    "nbformat_minor": 1, 
    "cells": [
        {
            "execution_count": 1, 
            "cell_type": "code", 
            "metadata": {}, 
            "outputs": [
                {
                    "output_type": "stream", 
                    "name": "stdout", 
                    "text": "--2018-07-20 06:57:39--  http://stat-computing.org/dataexpo/2009/2008.csv.bz2\nResolving stat-computing.org (stat-computing.org)... 52.218.212.43\nConnecting to stat-computing.org (stat-computing.org)|52.218.212.43|:80... connected.\nHTTP request sent, awaiting response... 200 OK\nLength: 113753229 (108M) [application/x-bzip2]\nSaving to: \u20182008.csv.bz2\u2019\n\n100%[======================================>] 113,753,229 9.33MB/s   in 21s    \n\n2018-07-20 06:58:01 (5.06 MB/s) - \u20182008.csv.bz2\u2019 saved [113753229/113753229]\n\n"
                }
            ], 
            "source": "! wget http://stat-computing.org/dataexpo/2009/2008.csv.bz2"
        }, 
        {
            "execution_count": 4, 
            "cell_type": "code", 
            "metadata": {}, 
            "outputs": [
                {
                    "output_type": "stream", 
                    "name": "stdout", 
                    "text": "tar: This does not look like a tar archive\ntar: Skipping to next header\ntar: Exiting with failure status due to previous errors\n"
                }
            ], 
            "source": "! tar -xvjf 2008.csv.bz2"
        }, 
        {
            "execution_count": 5, 
            "cell_type": "code", 
            "metadata": {}, 
            "outputs": [], 
            "source": "! bzip2 -d 2008.csv.bz2"
        }, 
        {
            "execution_count": 6, 
            "cell_type": "code", 
            "metadata": {}, 
            "outputs": [
                {
                    "output_type": "stream", 
                    "name": "stdout", 
                    "text": "total 2019768\r\n-rw------- 1 s7ed-a18f3badb92bc2-a9f6794a31ec users 689413344 Dec  9  2014 2008.csv\r\ndrwx------ 2 s7ed-a18f3badb92bc2-a9f6794a31ec users      4096 May 26 02:48 MNIST_data\r\n"
                }
            ], 
            "source": "! ls -lrt"
        }, 
        {
            "execution_count": 7, 
            "cell_type": "code", 
            "metadata": {}, 
            "outputs": [], 
            "source": "import pandas as pd\nimport numpy as np"
        }, 
        {
            "execution_count": 8, 
            "cell_type": "code", 
            "metadata": {}, 
            "outputs": [], 
            "source": "df = pd.read_csv('2008.csv')"
        }, 
        {
            "execution_count": 9, 
            "cell_type": "code", 
            "metadata": {}, 
            "outputs": [
                {
                    "execution_count": 9, 
                    "metadata": {}, 
                    "data": {
                        "text/html": "<div>\n<style scoped>\n    .dataframe tbody tr th:only-of-type {\n        vertical-align: middle;\n    }\n\n    .dataframe tbody tr th {\n        vertical-align: top;\n    }\n\n    .dataframe thead th {\n        text-align: right;\n    }\n</style>\n<table border=\"1\" class=\"dataframe\">\n  <thead>\n    <tr style=\"text-align: right;\">\n      <th></th>\n      <th>Year</th>\n      <th>Month</th>\n      <th>DayofMonth</th>\n      <th>DayOfWeek</th>\n      <th>DepTime</th>\n      <th>CRSDepTime</th>\n      <th>ArrTime</th>\n      <th>CRSArrTime</th>\n      <th>UniqueCarrier</th>\n      <th>FlightNum</th>\n      <th>...</th>\n      <th>TaxiIn</th>\n      <th>TaxiOut</th>\n      <th>Cancelled</th>\n      <th>CancellationCode</th>\n      <th>Diverted</th>\n      <th>CarrierDelay</th>\n      <th>WeatherDelay</th>\n      <th>NASDelay</th>\n      <th>SecurityDelay</th>\n      <th>LateAircraftDelay</th>\n    </tr>\n  </thead>\n  <tbody>\n    <tr>\n      <th>0</th>\n      <td>2008</td>\n      <td>1</td>\n      <td>3</td>\n      <td>4</td>\n      <td>2003.0</td>\n      <td>1955</td>\n      <td>2211.0</td>\n      <td>2225</td>\n      <td>WN</td>\n      <td>335</td>\n      <td>...</td>\n      <td>4.0</td>\n      <td>8.0</td>\n      <td>0</td>\n      <td>NaN</td>\n      <td>0</td>\n      <td>NaN</td>\n      <td>NaN</td>\n      <td>NaN</td>\n      <td>NaN</td>\n      <td>NaN</td>\n    </tr>\n    <tr>\n      <th>1</th>\n      <td>2008</td>\n      <td>1</td>\n      <td>3</td>\n      <td>4</td>\n      <td>754.0</td>\n      <td>735</td>\n      <td>1002.0</td>\n      <td>1000</td>\n      <td>WN</td>\n      <td>3231</td>\n      <td>...</td>\n      <td>5.0</td>\n      <td>10.0</td>\n      <td>0</td>\n      <td>NaN</td>\n      <td>0</td>\n      <td>NaN</td>\n      <td>NaN</td>\n      <td>NaN</td>\n      <td>NaN</td>\n      <td>NaN</td>\n    </tr>\n    <tr>\n      <th>2</th>\n      <td>2008</td>\n      <td>1</td>\n      <td>3</td>\n      <td>4</td>\n      <td>628.0</td>\n      <td>620</td>\n      <td>804.0</td>\n      <td>750</td>\n      <td>WN</td>\n      <td>448</td>\n      <td>...</td>\n      <td>3.0</td>\n      <td>17.0</td>\n      <td>0</td>\n      <td>NaN</td>\n      <td>0</td>\n      <td>NaN</td>\n      <td>NaN</td>\n      <td>NaN</td>\n      <td>NaN</td>\n      <td>NaN</td>\n    </tr>\n    <tr>\n      <th>3</th>\n      <td>2008</td>\n      <td>1</td>\n      <td>3</td>\n      <td>4</td>\n      <td>926.0</td>\n      <td>930</td>\n      <td>1054.0</td>\n      <td>1100</td>\n      <td>WN</td>\n      <td>1746</td>\n      <td>...</td>\n      <td>3.0</td>\n      <td>7.0</td>\n      <td>0</td>\n      <td>NaN</td>\n      <td>0</td>\n      <td>NaN</td>\n      <td>NaN</td>\n      <td>NaN</td>\n      <td>NaN</td>\n      <td>NaN</td>\n    </tr>\n    <tr>\n      <th>4</th>\n      <td>2008</td>\n      <td>1</td>\n      <td>3</td>\n      <td>4</td>\n      <td>1829.0</td>\n      <td>1755</td>\n      <td>1959.0</td>\n      <td>1925</td>\n      <td>WN</td>\n      <td>3920</td>\n      <td>...</td>\n      <td>3.0</td>\n      <td>10.0</td>\n      <td>0</td>\n      <td>NaN</td>\n      <td>0</td>\n      <td>2.0</td>\n      <td>0.0</td>\n      <td>0.0</td>\n      <td>0.0</td>\n      <td>32.0</td>\n    </tr>\n  </tbody>\n</table>\n<p>5 rows \u00d7 29 columns</p>\n</div>", 
                        "text/plain": "   Year  Month  DayofMonth  DayOfWeek  DepTime  CRSDepTime  ArrTime  \\\n0  2008      1           3          4   2003.0        1955   2211.0   \n1  2008      1           3          4    754.0         735   1002.0   \n2  2008      1           3          4    628.0         620    804.0   \n3  2008      1           3          4    926.0         930   1054.0   \n4  2008      1           3          4   1829.0        1755   1959.0   \n\n   CRSArrTime UniqueCarrier  FlightNum        ...         TaxiIn  TaxiOut  \\\n0        2225            WN        335        ...            4.0      8.0   \n1        1000            WN       3231        ...            5.0     10.0   \n2         750            WN        448        ...            3.0     17.0   \n3        1100            WN       1746        ...            3.0      7.0   \n4        1925            WN       3920        ...            3.0     10.0   \n\n   Cancelled  CancellationCode  Diverted  CarrierDelay WeatherDelay NASDelay  \\\n0          0               NaN         0           NaN          NaN      NaN   \n1          0               NaN         0           NaN          NaN      NaN   \n2          0               NaN         0           NaN          NaN      NaN   \n3          0               NaN         0           NaN          NaN      NaN   \n4          0               NaN         0           2.0          0.0      0.0   \n\n   SecurityDelay  LateAircraftDelay  \n0            NaN                NaN  \n1            NaN                NaN  \n2            NaN                NaN  \n3            NaN                NaN  \n4            0.0               32.0  \n\n[5 rows x 29 columns]"
                    }, 
                    "output_type": "execute_result"
                }
            ], 
            "source": "df.head()"
        }, 
        {
            "execution_count": 10, 
            "cell_type": "code", 
            "metadata": {}, 
            "outputs": [
                {
                    "output_type": "stream", 
                    "name": "stderr", 
                    "text": "/usr/local/src/conda3_runtime/home/envs/DSX-Python35-Spark/lib/python3.5/site-packages/IPython/html.py:14: ShimWarning: The `IPython.html` package has been deprecated since IPython 4.0. You should import from `notebook` instead. `IPython.html.widgets` has moved to `ipywidgets`.\n  \"`IPython.html.widgets` has moved to `ipywidgets`.\", ShimWarning)\n"
                }
            ], 
            "source": "# For SQL-type queries (Spark)\nfrom pyspark.sql import SQLContext\nfrom pyspark.sql.types import *\nfrom pyspark.sql import Row\nfrom pyspark.sql.functions import udf\n\n# For regression and other possible ML tools (Spark)\nfrom pyspark.mllib.regression import LabeledPoint\nfrom pyspark.mllib.linalg import Vectors\nfrom pyspark.ml.classification import LogisticRegression\nfrom pyspark.ml.param import Param, Params\nfrom pyspark.mllib.classification import LogisticRegressionWithLBFGS, LogisticRegressionModel\nfrom pyspark.mllib.regression import LabeledPoint\nfrom pyspark.mllib.stat import Statistics\n\n# Important for managing features  (Spark)\nfrom pyspark.ml.feature import OneHotEncoder, StringIndexer\nfrom pyspark.ml.feature import VectorAssembler\n\n# For displaying and other related IPython tools...\nfrom IPython.display import display\nfrom IPython.html.widgets import interact\n\n# Typycal Python tools\nimport sys\nimport numpy as np\nimport pandas as pd\nimport time\nimport datetime\nimport matplotlib.pyplot as plt\nimport os.path"
        }, 
        {
            "execution_count": 11, 
            "cell_type": "code", 
            "metadata": {}, 
            "outputs": [], 
            "source": "# To show plots inline\nget_ipython().magic(u'matplotlib inline')"
        }, 
        {
            "execution_count": 12, 
            "cell_type": "code", 
            "metadata": {}, 
            "outputs": [], 
            "source": "textFile = sc.textFile('2008.csv')"
        }, 
        {
            "execution_count": 13, 
            "cell_type": "code", 
            "metadata": {}, 
            "outputs": [], 
            "source": "textFileRDD = textFile.map(lambda x: x.split(','))\nheader = textFileRDD.first()\n\ntextRDD = textFileRDD.filter(lambda r: r != header)"
        }, 
        {
            "execution_count": 16, 
            "cell_type": "code", 
            "metadata": {}, 
            "outputs": [
                {
                    "output_type": "stream", 
                    "name": "stdout", 
                    "text": "Number of records  7009729\n"
                }
            ], 
            "source": "num_records = textFileRDD.count()\nprint ('Number of records ' , num_records)"
        }, 
        {
            "execution_count": 17, 
            "cell_type": "code", 
            "metadata": {}, 
            "outputs": [], 
            "source": "aux_ = textFileRDD.take(2)\nfeature_names = aux_[0]\nfeature_example = aux_[1]"
        }, 
        {
            "execution_count": 18, 
            "cell_type": "code", 
            "metadata": {}, 
            "outputs": [
                {
                    "output_type": "stream", 
                    "name": "stdout", 
                    "text": "Feature Names  ['Year', 'Month', 'DayofMonth', 'DayOfWeek', 'DepTime', 'CRSDepTime', 'ArrTime', 'CRSArrTime', 'UniqueCarrier', 'FlightNum', 'TailNum', 'ActualElapsedTime', 'CRSElapsedTime', 'AirTime', 'ArrDelay', 'DepDelay', 'Origin', 'Dest', 'Distance', 'TaxiIn', 'TaxiOut', 'Cancelled', 'CancellationCode', 'Diverted', 'CarrierDelay', 'WeatherDelay', 'NASDelay', 'SecurityDelay', 'LateAircraftDelay']\n"
                }
            ], 
            "source": "print ('Feature Names ' , feature_names)"
        }, 
        {
            "execution_count": 19, 
            "cell_type": "code", 
            "metadata": {}, 
            "outputs": [
                {
                    "output_type": "stream", 
                    "name": "stdout", 
                    "text": "Feature Example  ['2008', '1', '3', '4', '2003', '1955', '2211', '2225', 'WN', '335', 'N712SW', '128', '150', '116', '-14', '8', 'IAD', 'TPA', '810', '4', '8', '0', '', '0', 'NA', 'NA', 'NA', 'NA', 'NA']\n"
                }
            ], 
            "source": "print ('Feature Example ' , feature_example)"
        }, 
        {
            "execution_count": 20, 
            "cell_type": "code", 
            "metadata": {}, 
            "outputs": [
                {
                    "output_type": "stream", 
                    "name": "stdout", 
                    "text": "Number of features =  29\n"
                }
            ], 
            "source": "print (\"Number of features = \" , len(feature_example))"
        }, 
        {
            "execution_count": 35, 
            "cell_type": "code", 
            "metadata": {}, 
            "outputs": [], 
            "source": "# ### Creating a SQL Dataframe from RDD\n# \n# We now create a SQL DataFrame, this entity is a distributed collection of data organized into named columns. It is conceptually equivalent to a table in a relational database or a data frame in Python, but with richer optimizations under the hood. We will utilize the recently created Spark RDD and use the Spark SQL context to create the desired data frame,\n\n# We first create function that will allow to parse a record of our RDD into the desired format. As a reference we take a look at features_names and feature_example we just created above\n\n\n\ndef parse(r):\n    try:\n        x=Row(Year=int(r[0]),\\\n          Month=int(r[1]),\\\n          DayofMonth=int(r[2]),\\\n          DayOfWeek=int(r[3]),\\\n          DepTime=int(float(r[4])), \\\n          CRSDepTime=int(r[5]),\\\n          ArrTime=int(float(r[6])),\\\n          CRSArrTime=int(r[7]), \\\n          UniqueCarrier=r[8],\\\n          DepDelay=int(float(r[15])),\\\n          Origin=r[16],\\\n          Dest=r[17], \\\n          Distance=int(float(r[18])),\\\n          CarrierDelay=int(float(r[24])),\\\n          WeatherDelay=int(float(r[25])),\\\n          NASDelay= int(float(r[26])),\\\n          SecurityDelay=int(float(r[27])),\\\n          LateAircraftDelay=int(float(r[28])))  \n    except:\n        x=None  \n    return x\n\nrowRDD = textRDD.map(lambda r: parse(r)).filter(lambda r:r != None)\nairline_df = sqlContext.createDataFrame(rowRDD)"
        }, 
        {
            "execution_count": 36, 
            "cell_type": "code", 
            "metadata": {}, 
            "outputs": [], 
            "source": "# We add a new column to our data frame, **DepDelayed**, a binary variable:\n# - **True**, for flights that have > 15 minutes of delay\n# - **False**, for flights that have <= 15 minutes of delay\n# \n# We will later use **Depdelayed** as the target/label column in the classification process.\n\n\nairline_df = airline_df.withColumn('DepDelayed', airline_df['DepDelay']>15)"
        }, 
        {
            "execution_count": 37, 
            "cell_type": "code", 
            "metadata": {}, 
            "outputs": [
                {
                    "execution_count": 37, 
                    "metadata": {}, 
                    "data": {
                        "text/plain": "[Row(ArrTime=1959, CRSArrTime=1925, CRSDepTime=1755, CarrierDelay=2, DayOfWeek=4, DayofMonth=3, DepDelay=34, DepTime=1829, Dest='BWI', Distance=515, LateAircraftDelay=32, Month=1, NASDelay=0, Origin='IND', SecurityDelay=0, UniqueCarrier='WN', WeatherDelay=0, Year=2008, DepDelayed=True),\n Row(ArrTime=2037, CRSArrTime=1940, CRSDepTime=1830, CarrierDelay=10, DayOfWeek=4, DayofMonth=3, DepDelay=67, DepTime=1937, Dest='LAS', Distance=1591, LateAircraftDelay=47, Month=1, NASDelay=0, Origin='IND', SecurityDelay=0, UniqueCarrier='WN', WeatherDelay=0, Year=2008, DepDelayed=True),\n Row(ArrTime=1845, CRSArrTime=1725, CRSDepTime=1510, CarrierDelay=8, DayOfWeek=4, DayofMonth=3, DepDelay=94, DepTime=1644, Dest='MCO', Distance=828, LateAircraftDelay=72, Month=1, NASDelay=0, Origin='IND', SecurityDelay=0, UniqueCarrier='WN', WeatherDelay=0, Year=2008, DepDelayed=True),\n Row(ArrTime=1640, CRSArrTime=1625, CRSDepTime=1425, CarrierDelay=3, DayOfWeek=4, DayofMonth=3, DepDelay=27, DepTime=1452, Dest='PHX', Distance=1489, LateAircraftDelay=12, Month=1, NASDelay=0, Origin='IND', SecurityDelay=0, UniqueCarrier='WN', WeatherDelay=0, Year=2008, DepDelayed=True),\n Row(ArrTime=1526, CRSArrTime=1510, CRSDepTime=1255, CarrierDelay=0, DayOfWeek=4, DayofMonth=3, DepDelay=28, DepTime=1323, Dest='TPA', Distance=838, LateAircraftDelay=16, Month=1, NASDelay=0, Origin='IND', SecurityDelay=0, UniqueCarrier='WN', WeatherDelay=0, Year=2008, DepDelayed=True)]"
                    }, 
                    "output_type": "execute_result"
                }
            ], 
            "source": "airline_df.take(5)"
        }, 
        {
            "execution_count": 38, 
            "cell_type": "code", 
            "metadata": {}, 
            "outputs": [
                {
                    "execution_count": 38, 
                    "metadata": {}, 
                    "data": {
                        "text/plain": "[Row(ArrTime=1959, CRSArrTime=1925, CRSDepTime=1755, CarrierDelay=2, DayOfWeek=4, DayofMonth=3, DepDelay=34, DepTime=1829, Dest='BWI', Distance=515, LateAircraftDelay=32, Month=1, NASDelay=0, Origin='IND', SecurityDelay=0, UniqueCarrier='WN', WeatherDelay=0, Year=2008, DepDelayed=True),\n Row(ArrTime=2037, CRSArrTime=1940, CRSDepTime=1830, CarrierDelay=10, DayOfWeek=4, DayofMonth=3, DepDelay=67, DepTime=1937, Dest='LAS', Distance=1591, LateAircraftDelay=47, Month=1, NASDelay=0, Origin='IND', SecurityDelay=0, UniqueCarrier='WN', WeatherDelay=0, Year=2008, DepDelayed=True),\n Row(ArrTime=1845, CRSArrTime=1725, CRSDepTime=1510, CarrierDelay=8, DayOfWeek=4, DayofMonth=3, DepDelay=94, DepTime=1644, Dest='MCO', Distance=828, LateAircraftDelay=72, Month=1, NASDelay=0, Origin='IND', SecurityDelay=0, UniqueCarrier='WN', WeatherDelay=0, Year=2008, DepDelayed=True),\n Row(ArrTime=1640, CRSArrTime=1625, CRSDepTime=1425, CarrierDelay=3, DayOfWeek=4, DayofMonth=3, DepDelay=27, DepTime=1452, Dest='PHX', Distance=1489, LateAircraftDelay=12, Month=1, NASDelay=0, Origin='IND', SecurityDelay=0, UniqueCarrier='WN', WeatherDelay=0, Year=2008, DepDelayed=True),\n Row(ArrTime=1526, CRSArrTime=1510, CRSDepTime=1255, CarrierDelay=0, DayOfWeek=4, DayofMonth=3, DepDelay=28, DepTime=1323, Dest='TPA', Distance=838, LateAircraftDelay=16, Month=1, NASDelay=0, Origin='IND', SecurityDelay=0, UniqueCarrier='WN', WeatherDelay=0, Year=2008, DepDelayed=True),\n Row(ArrTime=1512, CRSArrTime=1435, CRSDepTime=1325, CarrierDelay=12, DayOfWeek=4, DayofMonth=3, DepDelay=51, DepTime=1416, Dest='BWI', Distance=220, LateAircraftDelay=25, Month=1, NASDelay=0, Origin='ISP', SecurityDelay=0, UniqueCarrier='WN', WeatherDelay=0, Year=2008, DepDelayed=True),\n Row(ArrTime=1754, CRSArrTime=1735, CRSDepTime=1625, CarrierDelay=7, DayOfWeek=4, DayofMonth=3, DepDelay=32, DepTime=1657, Dest='BWI', Distance=220, LateAircraftDelay=12, Month=1, NASDelay=0, Origin='ISP', SecurityDelay=0, UniqueCarrier='WN', WeatherDelay=0, Year=2008, DepDelayed=True),\n Row(ArrTime=1657, CRSArrTime=1610, CRSDepTime=1255, CarrierDelay=40, DayOfWeek=4, DayofMonth=3, DepDelay=87, DepTime=1422, Dest='FLL', Distance=1093, LateAircraftDelay=7, Month=1, NASDelay=0, Origin='ISP', SecurityDelay=0, UniqueCarrier='WN', WeatherDelay=0, Year=2008, DepDelayed=True),\n Row(ArrTime=2334, CRSArrTime=2230, CRSDepTime=1945, CarrierDelay=5, DayOfWeek=4, DayofMonth=3, DepDelay=82, DepTime=2107, Dest='MCO', Distance=972, LateAircraftDelay=59, Month=1, NASDelay=0, Origin='ISP', SecurityDelay=0, UniqueCarrier='WN', WeatherDelay=0, Year=2008, DepDelayed=True),\n Row(ArrTime=1927, CRSArrTime=1815, CRSDepTime=1650, CarrierDelay=3, DayOfWeek=4, DayofMonth=3, DepDelay=82, DepTime=1812, Dest='MDW', Distance=765, LateAircraftDelay=69, Month=1, NASDelay=0, Origin='ISP', SecurityDelay=0, UniqueCarrier='WN', WeatherDelay=0, Year=2008, DepDelayed=True)]"
                    }, 
                    "output_type": "execute_result"
                }
            ], 
            "source": "airline_df.take(10)"
        }, 
        {
            "execution_count": 39, 
            "cell_type": "code", 
            "metadata": {}, 
            "outputs": [], 
            "source": "# define hour function to obtain hour of day\ndef hour_ex(x): \n    h = int(str(int(x)).zfill(4)[:2])\n    return h\n\n# register as a UDF \nf = udf(hour_ex, IntegerType())\n\n#CRSDepTime: scheduled departure time (local, hhmm)\nairline_df = airline_df.withColumn('hour', f(airline_df.CRSDepTime))\nairline_df.registerTempTable(\"airlineDF\")"
        }, 
        {
            "execution_count": 40, 
            "cell_type": "code", 
            "metadata": {}, 
            "outputs": [
                {
                    "execution_count": 40, 
                    "metadata": {}, 
                    "data": {
                        "text/html": "<div>\n<style scoped>\n    .dataframe tbody tr th:only-of-type {\n        vertical-align: middle;\n    }\n\n    .dataframe tbody tr th {\n        vertical-align: top;\n    }\n\n    .dataframe thead th {\n        text-align: right;\n    }\n</style>\n<table border=\"1\" class=\"dataframe\">\n  <thead>\n    <tr style=\"text-align: right;\">\n      <th></th>\n      <th>Weather</th>\n      <th>NAS</th>\n      <th>Security</th>\n      <th>lateAircraft</th>\n      <th>Carrier</th>\n    </tr>\n  </thead>\n  <tbody>\n    <tr>\n      <th>0</th>\n      <td>4633717</td>\n      <td>26171501</td>\n      <td>114316</td>\n      <td>31670242</td>\n      <td>24048217</td>\n    </tr>\n  </tbody>\n</table>\n</div>", 
                        "text/plain": "   Weather       NAS  Security  lateAircraft   Carrier\n0  4633717  26171501    114316      31670242  24048217"
                    }, 
                    "output_type": "execute_result"
                }
            ], 
            "source": "#Exploration: What are the primary causes for flight delays\ncause_delay = sqlContext.sql(\"SELECT sum(WeatherDelay) Weather,sum(NASDelay) NAS,sum(SecurityDelay) Security,sum(LateAircraftDelay) lateAircraft,sum(CarrierDelay) Carrier FROM airlineDF \")\ndf_cause_delay = cause_delay.toPandas()\ndf_cause_delay.head()"
        }, 
        {
            "execution_count": 41, 
            "cell_type": "code", 
            "metadata": {}, 
            "outputs": [
                {
                    "execution_count": 41, 
                    "metadata": {}, 
                    "data": {
                        "text/html": "<div>\n<style scoped>\n    .dataframe tbody tr th:only-of-type {\n        vertical-align: middle;\n    }\n\n    .dataframe tbody tr th {\n        vertical-align: top;\n    }\n\n    .dataframe thead th {\n        text-align: right;\n    }\n</style>\n<table border=\"1\" class=\"dataframe\">\n  <thead>\n    <tr style=\"text-align: right;\">\n      <th></th>\n      <th>Origin</th>\n      <th>conFlight</th>\n      <th>delay</th>\n    </tr>\n  </thead>\n  <tbody>\n    <tr>\n      <th>0</th>\n      <td>BGM</td>\n      <td>115</td>\n      <td>62.982609</td>\n    </tr>\n    <tr>\n      <th>1</th>\n      <td>PSE</td>\n      <td>81</td>\n      <td>54.493827</td>\n    </tr>\n    <tr>\n      <th>2</th>\n      <td>DLG</td>\n      <td>55</td>\n      <td>35.927273</td>\n    </tr>\n    <tr>\n      <th>3</th>\n      <td>INL</td>\n      <td>1</td>\n      <td>23.000000</td>\n    </tr>\n    <tr>\n      <th>4</th>\n      <td>MSY</td>\n      <td>7693</td>\n      <td>48.385155</td>\n    </tr>\n  </tbody>\n</table>\n</div>", 
                        "text/plain": "  Origin  conFlight      delay\n0    BGM        115  62.982609\n1    PSE         81  54.493827\n2    DLG         55  35.927273\n3    INL          1  23.000000\n4    MSY       7693  48.385155"
                    }, 
                    "output_type": "execute_result"
                }
            ], 
            "source": "#Exploration: Which Airports have the Most Delays\ngroupedDelay = sqlContext.sql(\"SELECT Origin, count(*) conFlight,avg(DepDelay) delay \\\n                                FROM airlineDF \\\n                                GROUP BY Origin\")\ndf_origin = groupedDelay.toPandas()\ndf_origin.head()\n"
        }, 
        {
            "execution_count": 43, 
            "cell_type": "code", 
            "metadata": {}, 
            "outputs": [
                {
                    "execution_count": 43, 
                    "metadata": {}, 
                    "data": {
                        "text/html": "<div>\n<style scoped>\n    .dataframe tbody tr th:only-of-type {\n        vertical-align: middle;\n    }\n\n    .dataframe tbody tr th {\n        vertical-align: top;\n    }\n\n    .dataframe thead th {\n        text-align: right;\n    }\n</style>\n<table border=\"1\" class=\"dataframe\">\n  <thead>\n    <tr style=\"text-align: right;\">\n      <th></th>\n      <th>Origin</th>\n      <th>conFlight</th>\n      <th>delay</th>\n    </tr>\n  </thead>\n  <tbody>\n    <tr>\n      <th>246</th>\n      <td>ACY</td>\n      <td>14</td>\n      <td>144.142857</td>\n    </tr>\n    <tr>\n      <th>164</th>\n      <td>CMX</td>\n      <td>35</td>\n      <td>110.342857</td>\n    </tr>\n    <tr>\n      <th>135</th>\n      <td>PIR</td>\n      <td>1</td>\n      <td>99.000000</td>\n    </tr>\n    <tr>\n      <th>250</th>\n      <td>PLN</td>\n      <td>22</td>\n      <td>86.909091</td>\n    </tr>\n    <tr>\n      <th>169</th>\n      <td>SPI</td>\n      <td>338</td>\n      <td>85.928994</td>\n    </tr>\n  </tbody>\n</table>\n</div>", 
                        "text/plain": "    Origin  conFlight       delay\n246    ACY         14  144.142857\n164    CMX         35  110.342857\n135    PIR          1   99.000000\n250    PLN         22   86.909091\n169    SPI        338   85.928994"
                    }, 
                    "output_type": "execute_result"
                }
            ], 
            "source": "df_origin.sort_values('delay',ascending=0).head()"
        }, 
        {
            "execution_count": 46, 
            "cell_type": "code", 
            "metadata": {}, 
            "outputs": [
                {
                    "output_type": "stream", 
                    "name": "stdout", 
                    "text": "total 2022912\r\n-rw-------  1 s7ed-a18f3badb92bc2-a9f6794a31ec users 689413344 Dec  9  2014 2008.csv\r\ndrwx------  2 s7ed-a18f3badb92bc2-a9f6794a31ec users      4096 May 26 02:48 MNIST_data\r\ndrwx------ 11 s7ed-a18f3badb92bc2-a9f6794a31ec users      4096 Jul 20 06:55 ..\r\ndrwx------  3 s7ed-a18f3badb92bc2-a9f6794a31ec users      4096 Jul 20 07:22 .\r\n-rw-------  1 s7ed-a18f3badb92bc2-a9f6794a31ec users   1068028 Jul 20 07:22 airports.dat\r\n"
                }
            ], 
            "source": "! ls -lrta"
        }, 
        {
            "execution_count": 94, 
            "cell_type": "code", 
            "metadata": {}, 
            "outputs": [
                {
                    "execution_count": 94, 
                    "metadata": {}, 
                    "data": {
                        "text/html": "<div>\n<style scoped>\n    .dataframe tbody tr th:only-of-type {\n        vertical-align: middle;\n    }\n\n    .dataframe tbody tr th {\n        vertical-align: top;\n    }\n\n    .dataframe thead th {\n        text-align: right;\n    }\n</style>\n<table border=\"1\" class=\"dataframe\">\n  <thead>\n    <tr style=\"text-align: right;\">\n      <th></th>\n      <th></th>\n      <th></th>\n      <th>name</th>\n      <th>city</th>\n      <th>country</th>\n      <th>IATA</th>\n      <th>ICAO</th>\n      <th>lat</th>\n      <th>lng</th>\n      <th>alt</th>\n      <th>TZone</th>\n      <th>DST</th>\n      <th>Tz</th>\n    </tr>\n  </thead>\n  <tbody>\n    <tr>\n      <th>2</th>\n      <th>Madang Airport</th>\n      <th>Madang</th>\n      <td>Papua New Guinea</td>\n      <td>MAG</td>\n      <td>AYMD</td>\n      <td>-5.207080</td>\n      <td>145.789001</td>\n      <td>20</td>\n      <td>10</td>\n      <td>U</td>\n      <td>Pacific/Port_Moresby</td>\n      <td>airport</td>\n      <td>OurAirports</td>\n    </tr>\n    <tr>\n      <th>3</th>\n      <th>Mount Hagen Kagamuga Airport</th>\n      <th>Mount Hagen</th>\n      <td>Papua New Guinea</td>\n      <td>HGU</td>\n      <td>AYMH</td>\n      <td>-5.826790</td>\n      <td>144.296005</td>\n      <td>5388</td>\n      <td>10</td>\n      <td>U</td>\n      <td>Pacific/Port_Moresby</td>\n      <td>airport</td>\n      <td>OurAirports</td>\n    </tr>\n    <tr>\n      <th>4</th>\n      <th>Nadzab Airport</th>\n      <th>Nadzab</th>\n      <td>Papua New Guinea</td>\n      <td>LAE</td>\n      <td>AYNZ</td>\n      <td>-6.569803</td>\n      <td>146.725977</td>\n      <td>239</td>\n      <td>10</td>\n      <td>U</td>\n      <td>Pacific/Port_Moresby</td>\n      <td>airport</td>\n      <td>OurAirports</td>\n    </tr>\n    <tr>\n      <th>5</th>\n      <th>Port Moresby Jacksons International Airport</th>\n      <th>Port Moresby</th>\n      <td>Papua New Guinea</td>\n      <td>POM</td>\n      <td>AYPY</td>\n      <td>-9.443380</td>\n      <td>147.220001</td>\n      <td>146</td>\n      <td>10</td>\n      <td>U</td>\n      <td>Pacific/Port_Moresby</td>\n      <td>airport</td>\n      <td>OurAirports</td>\n    </tr>\n    <tr>\n      <th>6</th>\n      <th>Wewak International Airport</th>\n      <th>Wewak</th>\n      <td>Papua New Guinea</td>\n      <td>WWK</td>\n      <td>AYWK</td>\n      <td>-3.583830</td>\n      <td>143.669006</td>\n      <td>19</td>\n      <td>10</td>\n      <td>U</td>\n      <td>Pacific/Port_Moresby</td>\n      <td>airport</td>\n      <td>OurAirports</td>\n    </tr>\n  </tbody>\n</table>\n</div>", 
                        "text/plain": "                                                                        name  \\\n2 Madang Airport                              Madang        Papua New Guinea   \n3 Mount Hagen Kagamuga Airport                Mount Hagen   Papua New Guinea   \n4 Nadzab Airport                              Nadzab        Papua New Guinea   \n5 Port Moresby Jacksons International Airport Port Moresby  Papua New Guinea   \n6 Wewak International Airport                 Wewak         Papua New Guinea   \n\n                                                           city country  \\\n2 Madang Airport                              Madang        MAG    AYMD   \n3 Mount Hagen Kagamuga Airport                Mount Hagen   HGU    AYMH   \n4 Nadzab Airport                              Nadzab        LAE    AYNZ   \n5 Port Moresby Jacksons International Airport Port Moresby  POM    AYPY   \n6 Wewak International Airport                 Wewak         WWK    AYWK   \n\n                                                                IATA  \\\n2 Madang Airport                              Madang       -5.207080   \n3 Mount Hagen Kagamuga Airport                Mount Hagen  -5.826790   \n4 Nadzab Airport                              Nadzab       -6.569803   \n5 Port Moresby Jacksons International Airport Port Moresby -9.443380   \n6 Wewak International Airport                 Wewak        -3.583830   \n\n                                                                  ICAO   lat  \\\n2 Madang Airport                              Madang        145.789001    20   \n3 Mount Hagen Kagamuga Airport                Mount Hagen   144.296005  5388   \n4 Nadzab Airport                              Nadzab        146.725977   239   \n5 Port Moresby Jacksons International Airport Port Moresby  147.220001   146   \n6 Wewak International Airport                 Wewak         143.669006    19   \n\n                                                           lng alt  \\\n2 Madang Airport                              Madang        10   U   \n3 Mount Hagen Kagamuga Airport                Mount Hagen   10   U   \n4 Nadzab Airport                              Nadzab        10   U   \n5 Port Moresby Jacksons International Airport Port Moresby  10   U   \n6 Wewak International Airport                 Wewak         10   U   \n\n                                                                           TZone  \\\n2 Madang Airport                              Madang        Pacific/Port_Moresby   \n3 Mount Hagen Kagamuga Airport                Mount Hagen   Pacific/Port_Moresby   \n4 Nadzab Airport                              Nadzab        Pacific/Port_Moresby   \n5 Port Moresby Jacksons International Airport Port Moresby  Pacific/Port_Moresby   \n6 Wewak International Airport                 Wewak         Pacific/Port_Moresby   \n\n                                                                DST  \\\n2 Madang Airport                              Madang        airport   \n3 Mount Hagen Kagamuga Airport                Mount Hagen   airport   \n4 Nadzab Airport                              Nadzab        airport   \n5 Port Moresby Jacksons International Airport Port Moresby  airport   \n6 Wewak International Airport                 Wewak         airport   \n\n                                                                     Tz  \n2 Madang Airport                              Madang        OurAirports  \n3 Mount Hagen Kagamuga Airport                Mount Hagen   OurAirports  \n4 Nadzab Airport                              Nadzab        OurAirports  \n5 Port Moresby Jacksons International Airport Port Moresby  OurAirports  \n6 Wewak International Airport                 Wewak         OurAirports  "
                    }, 
                    "output_type": "execute_result"
                }
            ], 
            "source": "#o map each Airport to corresponding Long and Lat,load the dataset needed\n\n\n#df = pd.read_csv('airports.dat', index_col=0, names = ['name', 'city', 'country','IATA','ICAO','lat','lng','alt','TZone','DST','Tz'], header=0)\n#df = pd.read_csv('airports.dat', header=0, names = ['name', 'city', 'country','IATA','ICAO','lat','lng','alt','TZone','DST','Tz'])\ndf= pd.read_csv('airports.dat', header=0, names = ['name', 'city', 'country','IATA','ICAO','lat','lng','alt','TZone','DST','Tz'])\n#df = pd.read_csv('airports.dat', index_col=0,names = ['name', 'city', 'country','IATA','ICAO','lat','lng','alt','TZone','DST','Tz'], header=0)\ndf.head()"
        }, 
        {
            "execution_count": 95, 
            "cell_type": "code", 
            "metadata": {}, 
            "outputs": [
                {
                    "execution_count": 95, 
                    "metadata": {}, 
                    "data": {
                        "text/html": "<div>\n<style scoped>\n    .dataframe tbody tr th:only-of-type {\n        vertical-align: middle;\n    }\n\n    .dataframe tbody tr th {\n        vertical-align: top;\n    }\n\n    .dataframe thead th {\n        text-align: right;\n    }\n</style>\n<table border=\"1\" class=\"dataframe\">\n  <thead>\n    <tr style=\"text-align: right;\">\n      <th></th>\n      <th>Origin</th>\n      <th>conFlight</th>\n      <th>delay</th>\n      <th>name</th>\n      <th>city</th>\n      <th>country</th>\n      <th>IATA</th>\n      <th>ICAO</th>\n      <th>lat</th>\n      <th>lng</th>\n      <th>alt</th>\n      <th>TZone</th>\n      <th>DST</th>\n      <th>Tz</th>\n    </tr>\n  </thead>\n  <tbody>\n  </tbody>\n</table>\n</div>", 
                        "text/plain": "Empty DataFrame\nColumns: [Origin, conFlight, delay, name, city, country, IATA, ICAO, lat, lng, alt, TZone, DST, Tz]\nIndex: []"
                    }, 
                    "output_type": "execute_result"
                }
            ], 
            "source": "df_airports = pd.merge(df_origin, df, left_on = 'Origin', right_on = 'IATA')\ndf_airports.head()"
        }, 
        {
            "execution_count": 97, 
            "cell_type": "code", 
            "metadata": {}, 
            "outputs": [
                {
                    "execution_count": 97, 
                    "metadata": {}, 
                    "data": {
                        "text/html": "<div>\n<style scoped>\n    .dataframe tbody tr th:only-of-type {\n        vertical-align: middle;\n    }\n\n    .dataframe tbody tr th {\n        vertical-align: top;\n    }\n\n    .dataframe thead th {\n        text-align: right;\n    }\n</style>\n<table border=\"1\" class=\"dataframe\">\n  <thead>\n    <tr style=\"text-align: right;\">\n      <th></th>\n      <th>Origin</th>\n      <th>conFlight</th>\n      <th>delay</th>\n      <th>name</th>\n      <th>city</th>\n      <th>country</th>\n      <th>IATA</th>\n      <th>ICAO</th>\n      <th>lat</th>\n      <th>lng</th>\n      <th>alt</th>\n      <th>TZone</th>\n      <th>DST</th>\n      <th>Tz</th>\n    </tr>\n  </thead>\n  <tbody>\n  </tbody>\n</table>\n</div>", 
                        "text/plain": "Empty DataFrame\nColumns: [Origin, conFlight, delay, name, city, country, IATA, ICAO, lat, lng, alt, TZone, DST, Tz]\nIndex: []"
                    }, 
                    "output_type": "execute_result"
                }
            ], 
            "source": "df_airports.sort_values('delay',ascending=0).head(10)"
        }, 
        {
            "execution_count": 98, 
            "cell_type": "code", 
            "metadata": {}, 
            "outputs": [], 
            "source": "def sigmoid(x):\n    return 1 / (1 + np.exp(-x))\n\ndef zscore(x):\n    return (x-np.average(x))/np.std(x)"
        }, 
        {
            "execution_count": null, 
            "cell_type": "code", 
            "metadata": {}, 
            "outputs": [], 
            "source": "! conda install -c conda-forge basemap-data-hires=1.0.8.dev0 -y"
        }, 
        {
            "execution_count": 100, 
            "cell_type": "code", 
            "metadata": {}, 
            "outputs": [
                {
                    "ename": "ImportError", 
                    "evalue": "No module named 'mpl_toolkits.basemap'", 
                    "traceback": [
                        "\u001b[0;31m---------------------------------------------------------------------------\u001b[0m", 
                        "\u001b[0;31mImportError\u001b[0m                               Traceback (most recent call last)", 
                        "\u001b[0;32m<ipython-input-100-c1c69e767e51>\u001b[0m in \u001b[0;36m<module>\u001b[0;34m()\u001b[0m\n\u001b[0;32m----> 1\u001b[0;31m \u001b[0;32mfrom\u001b[0m \u001b[0mmpl_toolkits\u001b[0m\u001b[0;34m.\u001b[0m\u001b[0mbasemap\u001b[0m \u001b[0;32mimport\u001b[0m \u001b[0mBasemap\u001b[0m\u001b[0;34m\u001b[0m\u001b[0m\n\u001b[0m\u001b[1;32m      2\u001b[0m \u001b[0;32mimport\u001b[0m \u001b[0mmatplotlib\u001b[0m\u001b[0;34m.\u001b[0m\u001b[0mpyplot\u001b[0m \u001b[0;32mas\u001b[0m \u001b[0mplt\u001b[0m\u001b[0;34m\u001b[0m\u001b[0m\n\u001b[1;32m      3\u001b[0m \u001b[0;32mfrom\u001b[0m \u001b[0mpylab\u001b[0m \u001b[0;32mimport\u001b[0m \u001b[0mrcParams\u001b[0m\u001b[0;34m\u001b[0m\u001b[0m\n\u001b[1;32m      4\u001b[0m \u001b[0mget_ipython\u001b[0m\u001b[0;34m(\u001b[0m\u001b[0;34m)\u001b[0m\u001b[0;34m.\u001b[0m\u001b[0mmagic\u001b[0m\u001b[0;34m(\u001b[0m\u001b[0;34m'matplotlib inline'\u001b[0m\u001b[0;34m)\u001b[0m\u001b[0;34m\u001b[0m\u001b[0m\n\u001b[1;32m      5\u001b[0m \u001b[0;34m\u001b[0m\u001b[0m\n", 
                        "\u001b[0;31mImportError\u001b[0m: No module named 'mpl_toolkits.basemap'"
                    ], 
                    "output_type": "error"
                }
            ], 
            "source": "from mpl_toolkits.basemap import Basemap\nimport matplotlib.pyplot as plt\nfrom pylab import rcParams\n%matplotlib inline\n\nrcParams['figure.figsize'] = (14,10)\n\n\nmy_map = Basemap(projection='merc',\n            resolution = 'l', area_thresh = 1000.0,\n            llcrnrlon=-130, llcrnrlat=22, #min longitude (llcrnrlon) and latitude (llcrnrlat)\n            urcrnrlon=-60, urcrnrlat=50) #max longitude (urcrnrlon) and latitude (urcrnrlat)\n\nmy_map.drawcoastlines()\nmy_map.drawcountries()\nmy_map.drawmapboundary()\nmy_map.fillcontinents(color = 'white', alpha = 0.3)\nmy_map.shadedrelief()\n\n# To create a color map\ncolors = plt.get_cmap('hot')(np.linspace(0.0, 1.0, 30))\ncolors=np.flipud(colors)\n\n#----- Scatter -------\ncountrange=max(df_airports['conFlight'])-min(df_airports['conFlight'])\nal=np.array([sigmoid(x) for x in zscore(df_airports['delay'])])\nxs,ys = my_map(np.asarray(df_airports['lng']), np.asarray(df_airports['lat']))\nval=df_airports['conFlight']*4000.0/countrange\n\nmy_map.scatter(xs, ys,  marker='o', s= val, alpha = 0.8,color=colors[(al*20).astype(int)])\n\n#----- Text -------\ndf_text=df_airports[(df_airports['conFlight']>60000) & (df_airports['IATA'] != 'HNL')]\nxt,yt = my_map(np.asarray(df_text['lng']), np.asarray(df_text['lat']))\ntxt=np.asarray(df_text['IATA'])\nzp=zip(xt,yt,txt)\nfor row in zp:\n    #print zp[2]\n    plt.text(row[0],row[1],row[2], fontsize=10, color='blue',)\n\nprint(\"Each marker is an airport.\")\nprint(\"Size of markers: Airport Traffic (larger means higher number of flights in year)\")\nprint(\"Color of markers: Average Flight Delay (Redder means longer delays)\")\n\nplt.show()"
        }, 
        {
            "execution_count": null, 
            "cell_type": "code", 
            "metadata": {}, 
            "outputs": [], 
            "source": "\n#Exploration: Route delay\n#Which Routes are typically the most delayed?\ngrp_rout_Delay = sqlContext.sql(\"SELECT Origin, Dest, count(*) traffic,avg(Distance) avgDist,\\\n                                    avg(DepDelay) avgDelay\\\n                                FROM airlineDF \\\n                                GROUP BY Origin,Dest\")\nrout_Delay = grp_rout_Delay.toPandas()"
        }, 
        {
            "execution_count": null, 
            "cell_type": "code", 
            "metadata": {}, 
            "outputs": [], 
            "source": "df_airport_rout1 = pd.merge(rout_Delay, df, left_on = 'Origin', right_on = 'IATA')\ndf_airport_rout2 = pd.merge(df_airport_rout1, df, left_on = 'Dest', right_on = 'IATA')\ndf_airport_rout = df_airport_rout2[[\"Origin\",\"lat_x\",\"lng_x\",\"Dest\",\"lat_y\",\"lng_y\",\\\n                                    \"avgDelay\", \"traffic\"]]"
        }, 
        {
            "execution_count": null, 
            "cell_type": "code", 
            "metadata": {}, 
            "outputs": [], 
            "source": "df_airport_rout.sort('avgDelay',ascending=0).head()"
        }, 
        {
            "execution_count": null, 
            "cell_type": "code", 
            "metadata": {}, 
            "outputs": [], 
            "source": "rcParams['figure.figsize'] = (14,10)\n\n\nmy_map = Basemap(projection='merc',\n            resolution = 'l', area_thresh = 1000.0,\n            llcrnrlon=-130, llcrnrlat=22, #min longitude (llcrnrlon) and latitude (llcrnrlat)\n            urcrnrlon=-60, urcrnrlat=50) #max longitude (urcrnrlon) and latitude (urcrnrlat)\n\nmy_map.drawcoastlines()\nmy_map.drawcountries()\nmy_map.drawmapboundary()\nmy_map.fillcontinents(color = 'white', alpha = 0.3)\nmy_map.shadedrelief()\n\ndelay=np.array([sigmoid(x) for x in zscore(df_airports[\"delay\"])])\ncolors = plt.get_cmap('hot')(np.linspace(0.0, 1.0, 40))\ncolors=np.flipud(colors)\nxs,ys = my_map(np.asarray(df_airports['lng']), np.asarray(df_airports['lat']))\nxo,yo = my_map(np.asarray(df_airport_rout['lng_x']), np.asarray(df_airport_rout['lat_x']))\nxd,yd = my_map(np.asarray(df_airport_rout['lng_y']), np.asarray(df_airport_rout['lat_y']))\n\nmy_map.scatter(xs, ys,  marker='o',  alpha = 0.8,color=colors[(delay*20).astype(int)])\n\n\nal=np.array([sigmoid(x) for x in zscore(df_airport_rout[\"avgDelay\"])])\nf=zip(xo,yo,xd,yd,df_airport_rout['avgDelay'],al)\nfor row in f:\n    plt.plot([row[0],row[2]], [row[1],row[3]],'-',alpha=0.07, \\\n             color=colors[(row[5]*30).astype(int)] )\n    \n\nfor row in zp:\n    plt.text(row[0],row[1],row[2], fontsize=10, color='blue',)\n\nprint(\"Each line represents a route from the Origin to Destination airport.\")\nprint(\"The redder line, the higher probablity of delay.\")\n    \nplt.show()"
        }, 
        {
            "execution_count": null, 
            "cell_type": "code", 
            "metadata": {}, 
            "outputs": [], 
            "source": "#Exploration: Airport Origin delay per month\nOrigin_Airport=\"SJC\""
        }, 
        {
            "execution_count": null, 
            "cell_type": "code", 
            "metadata": {}, 
            "outputs": [], 
            "source": "df_ORG = sqlContext.sql(\"SELECT * from airlineDF WHERE origin='\"+ Origin_Airport+\"'\")\ndf_ORG.registerTempTable(\"df_ORG\")\ndf_ORG.select('ArrTime','CRSArrTime','CRSDepTime',\\\n              'DayOfWeek','DayofMonth','DepDelay','DepTime','Dest').show(2)"
        }, 
        {
            "execution_count": null, 
            "cell_type": "code", 
            "metadata": {}, 
            "outputs": [], 
            "source": "print (\"total flights from this ariport: \" + str(df_ORG.count()))"
        }, 
        {
            "execution_count": null, 
            "cell_type": "code", 
            "metadata": {}, 
            "outputs": [], 
            "source": "grp_carr = sqlContext.sql(\"SELECT  UniqueCarrier,month, avg(DepDelay) avgDelay from df_ORG \\\n                            WHERE DepDelayed=True \\\n                            GROUP BY UniqueCarrier,month\")\ns = grp_carr.toPandas()"
        }, 
        {
            "execution_count": null, 
            "cell_type": "code", 
            "metadata": {}, 
            "outputs": [], 
            "source": "ps = s.pivot(index='month', columns='UniqueCarrier', values='avgDelay')[['AA','UA','US']]"
        }, 
        {
            "execution_count": null, 
            "cell_type": "code", 
            "metadata": {}, 
            "outputs": [], 
            "source": "rcParams['figure.figsize'] = (8,5)\nps.plot(kind='bar', colormap='Greens');\nplt.xlabel('Average delay')\nplt.ylabel('Month')\nplt.title('How much delay does each carrier has in each month?')"
        }, 
        {
            "execution_count": null, 
            "cell_type": "code", 
            "metadata": {}, 
            "outputs": [], 
            "source": "\n#We see that average delay in this year is is highest in November and October in this airport.\n#Exploration: Airport Origin delay per day/hour\nhour_grouped = df_ORG.filter(df_ORG['DepDelayed']).select('DayOfWeek','hour','DepDelay').groupby('DayOfWeek','hour').mean('DepDelay')"
        }, 
        {
            "execution_count": null, 
            "cell_type": "code", 
            "metadata": {}, 
            "outputs": [], 
            "source": "#Modeling: Logistic Regression\ndf_model=df_ORG\nstringIndexer1 = StringIndexer(inputCol=\"Origin\", outputCol=\"originIndex\")\nmodel_stringIndexer = stringIndexer1.fit(df_model)\nindexedOrigin = model_stringIndexer.transform(df_model)\nencoder1 = OneHotEncoder(dropLast=False, inputCol=\"originIndex\", outputCol=\"originVec\")\ndf_model = encoder1.transform(indexedOrigin)"
        }, 
        {
            "execution_count": null, 
            "cell_type": "code", 
            "metadata": {}, 
            "outputs": [], 
            "source": "assembler = VectorAssembler(\n    inputCols = ['Year','Month','DayofMonth','DayOfWeek','hour','Distance','originVec'],\n    outputCol = \"features\")\noutput = assembler.transform(df_model)\nairlineRDD=output.map(lambda row: LabeledPoint([0,1][row['DepDelayed']],row['features']))"
        }, 
        {
            "execution_count": null, 
            "cell_type": "code", 
            "metadata": {}, 
            "outputs": [], 
            "source": "#  Spliting dataset into train and test dtasets\ntrainRDD,testRDD=airlineRDD.randomSplit([0.7,0.3])"
        }, 
        {
            "execution_count": null, 
            "cell_type": "code", 
            "metadata": {}, 
            "outputs": [], 
            "source": "# Build the model\nmodel = LogisticRegressionWithLBFGS.train(trainRDD)"
        }, 
        {
            "execution_count": null, 
            "cell_type": "code", 
            "metadata": {}, 
            "outputs": [], 
            "source": "#Model Evaluation\n# Evaluating the model on testing data\nlabelsAndPreds = testRDD.map(lambda p: (p.label, model.predict(p.features)))"
        }, 
        {
            "execution_count": null, 
            "cell_type": "code", 
            "metadata": {}, 
            "outputs": [], 
            "source": "def conf(r):\n    if r[0] == r[1] ==1: x= 'TP'\n    if r[0] == r[1] ==0: x= 'TN'\n    if r[0] == 1 and  r[1] ==0: x= 'FN'\n    if r[0] == 0 and  r[1] ==1: x= 'FP'\n    return (x)\nacc1 = labelsAndPreds.map(lambda (v, p): ((v, p),1)).reduceByKey(lambda a, b: a + b).take(5)\nacc = [(conf(x[0]),x[1]) for x in acc1]"
        }, 
        {
            "execution_count": null, 
            "cell_type": "code", 
            "metadata": {}, 
            "outputs": [], 
            "source": "TP=TN=FP=FN=0.0\nfor x in acc: \n    if x[0]=='TP': TP= x[1]\n    if x[0]=='TN': TN= x[1]\n    if x[0]=='FP': FP= x[1]\n    if x[0]=='FN': FN= x[1]\neps = sys.float_info.epsilon\nAccuracy = (TP+TN) / (TP + TN+ FP+FN+eps) \nprint (\"Model Accuracy for JFK: %1.2f %%\" % (Accuracy*100))"
        }, 
        {
            "execution_count": null, 
            "cell_type": "code", 
            "metadata": {}, 
            "outputs": [], 
            "source": ""
        }
    ], 
    "metadata": {
        "kernelspec": {
            "display_name": "Python 3.5 with Spark 2.1", 
            "name": "python3-spark21", 
            "language": "python"
        }, 
        "language_info": {
            "mimetype": "text/x-python", 
            "nbconvert_exporter": "python", 
            "version": "3.5.4", 
            "name": "python", 
            "file_extension": ".py", 
            "pygments_lexer": "ipython3", 
            "codemirror_mode": {
                "version": 3, 
                "name": "ipython"
            }
        }
    }, 
    "nbformat": 4
}