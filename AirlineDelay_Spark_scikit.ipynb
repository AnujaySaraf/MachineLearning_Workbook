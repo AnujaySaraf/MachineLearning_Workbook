{
    "nbformat_minor": 1, 
    "cells": [
        {
            "execution_count": null, 
            "cell_type": "code", 
            "metadata": {}, 
            "outputs": [], 
            "source": "! ls -rlta"
        }, 
        {
            "execution_count": 1, 
            "cell_type": "code", 
            "metadata": {}, 
            "outputs": [
                {
                    "output_type": "stream", 
                    "name": "stderr", 
                    "text": "/usr/local/src/conda3_runtime/home/envs/DSX-Python35-Spark/lib/python3.5/site-packages/IPython/html.py:14: ShimWarning: The `IPython.html` package has been deprecated since IPython 4.0. You should import from `notebook` instead. `IPython.html.widgets` has moved to `ipywidgets`.\n  \"`IPython.html.widgets` has moved to `ipywidgets`.\", ShimWarning)\n"
                }
            ], 
            "source": "# For SQL-type queries (Spark)\nfrom pyspark.sql import SQLContext\nfrom pyspark.sql.types import *\nfrom pyspark.sql import Row\nfrom pyspark.sql.functions import *\n\n# For regression and other possible ML tools (Spark)\nfrom pyspark.mllib.regression import LabeledPoint\nfrom pyspark.mllib.linalg import Vectors\nfrom pyspark.ml.classification import LogisticRegression\nfrom pyspark.ml.param import Param, Params\nfrom pyspark.mllib.classification import LogisticRegressionWithLBFGS, LogisticRegressionModel\nfrom pyspark.mllib.regression import LabeledPoint\nfrom pyspark.mllib.stat import Statistics\n\n\n# Important for managing features  (Spark)\nfrom pyspark.ml.feature import OneHotEncoder, StringIndexer\nfrom pyspark.ml.feature import VectorAssembler\n\n# For displaying and other related IPython tools...\nfrom IPython.display import display\nfrom IPython.html.widgets import interact\n\n# Typycal Python tools\nimport sys\nimport numpy as np\nimport pandas as pd\nimport time\nimport datetime\nimport matplotlib.pyplot as plt\nimport os.path"
        }, 
        {
            "execution_count": 2, 
            "cell_type": "code", 
            "metadata": {}, 
            "outputs": [], 
            "source": "# We now create a SQL DataFrame, this entity is a distributed collection of data organized into named columns. It is conceptually equivalent to a table in a relational database or a data frame in Python, but with richer optimizations under the hood. We will utilize the recently created Spark RDD and use the Spark SQL context to create the desired data frame,\n\n# We first create function that will allow to parse a record of our RDD into the desired format. As a reference we take a look at features_names and feature_example we just created above\n\ndef parse(r):\n    try:\n        x=Row(Month=int(r[1]),\\\n          DayofMonth=int(r[2]),\\\n          DayOfWeek=int(r[3]),\\\n          CRSDepTime=int(r[5]),\\\n          DepDelay=int(float(r[15])),\\\n          Origin=r[16],\\\n          Dest=r[17], \\\n          Distance=int(float(r[18]))) \n    except:\n        x=None  \n    return x\n\n# define hour function to obtain hour of day\ndef hour_ex(x): \n    h = int(str(int(x)).zfill(4)[:2])\n    return h\n# register as a UDF \nf = udf(hour_ex, IntegerType())"
        }, 
        {
            "execution_count": 3, 
            "cell_type": "code", 
            "metadata": {}, 
            "outputs": [], 
            "source": "def prepFlightDelay(airfile, orgn):\n    textFile = sc.textFile(airfile)\n    textFileRDD = textFile.map(lambda x: x.split(','))\n    header = textFileRDD.first()\n    textRDD = textFileRDD.filter(lambda r: r != header)\n    rowRDD = textRDD.map(lambda r: parse(r)).filter(lambda r:r != None)\n    airline_df = sqlContext.createDataFrame(rowRDD)\n    airline_df = airline_df.withColumn('hour', f(airline_df.CRSDepTime))\n    airline_df.registerTempTable(\"airlineDF\")\n    airline_df_orgn = airline_df.filter((col(\"Origin\") == orgn))\n    airline_df_orgn_15 = airline_df_orgn.withColumn('DepDelayed', (airline_df_orgn['DepDelay']>15).cast(DoubleType()))\n    return airline_df_orgn_15"
        }, 
        {
            "execution_count": 4, 
            "cell_type": "code", 
            "metadata": {}, 
            "outputs": [], 
            "source": "def prepWeather(wfile):\n    df = sqlContext.read.csv(wfile, header=True)\n    df_parse = df.drop('STATION', 'NAME')\n    df_parse1 = df_parse.withColumn(\"DATE\", regexp_replace('DATE', '/', '-'))\n    df_parse2 = df_parse1.withColumn(\"AWND\", df_parse1[\"AWND\"].cast(\"Int\"))\n    df_parse3 = df_parse2.withColumn(\"PRCP\", df_parse2[\"PRCP\"].cast(\"Int\"))\n    df_parse4 = df_parse3.withColumn(\"SNOW\", df_parse3[\"SNOW\"].cast(\"Int\"))\n    df_parse5 = df_parse4.withColumn(\"TMAX\", df_parse4[\"TMAX\"].cast(\"Int\"))\n    df_parse6 = df_parse5.withColumn(\"TMIN\", df_parse5[\"TMIN\"].cast(\"Int\"))\n    df_month = df_parse6.withColumn(\"Month\", split(df_parse6.DATE, \"-\")[0].cast(\"Int\"))\n    df_day = df_month.withColumn(\"DayofMonth\", split(df_month.DATE, \"-\")[1].cast(\"Int\"))\n    df_weather = df_day.drop('DATE')\n    return df_weather"
        }, 
        {
            "execution_count": 5, 
            "cell_type": "code", 
            "metadata": {}, 
            "outputs": [], 
            "source": "def preprocessing (airfile,wfile,org):\n    airline_delay_org = prepFlightDelay(airfile,org)\n    airlinedelay_pd_df = airline_delay_org.toPandas()\n    df_weather = prepWeather(wfile)\n    weather_pd_df = df_weather.toPandas()\n    airdelay_weather = pd.merge(airlinedelay_pd_df,weather_pd_df,how='right', left_on=['Month','DayofMonth'], right_on = ['Month','DayofMonth'])\n    airdelay_pred = sqlContext.createDataFrame(airdelay_weather)\n    return airdelay_pred"
        }, 
        {
            "execution_count": 6, 
            "cell_type": "code", 
            "metadata": {}, 
            "outputs": [], 
            "source": "flight_delay_2007 = preprocessing (\"2007.csv\",\"2007-ord-weather-data.csv\",\"ORD\")"
        }, 
        {
            "execution_count": 7, 
            "cell_type": "code", 
            "metadata": {}, 
            "outputs": [
                {
                    "output_type": "stream", 
                    "name": "stdout", 
                    "text": "root\n |-- CRSDepTime: long (nullable = true)\n |-- DayOfWeek: long (nullable = true)\n |-- DayofMonth: long (nullable = true)\n |-- DepDelay: long (nullable = true)\n |-- Dest: string (nullable = true)\n |-- Distance: long (nullable = true)\n |-- Month: long (nullable = true)\n |-- Origin: string (nullable = true)\n |-- hour: long (nullable = true)\n |-- DepDelayed: double (nullable = true)\n |-- AWND: long (nullable = true)\n |-- PRCP: long (nullable = true)\n |-- SNOW: long (nullable = true)\n |-- TMAX: long (nullable = true)\n |-- TMIN: long (nullable = true)\n\n"
                }
            ], 
            "source": "flight_delay_2007.printSchema()"
        }, 
        {
            "execution_count": 8, 
            "cell_type": "code", 
            "metadata": {}, 
            "outputs": [
                {
                    "execution_count": 8, 
                    "metadata": {}, 
                    "data": {
                        "text/plain": "[('CRSDepTime', 'bigint'),\n ('DayOfWeek', 'bigint'),\n ('DayofMonth', 'bigint'),\n ('DepDelay', 'bigint'),\n ('Dest', 'string'),\n ('Distance', 'bigint'),\n ('Month', 'bigint'),\n ('Origin', 'string'),\n ('hour', 'bigint'),\n ('DepDelayed', 'double'),\n ('AWND', 'bigint'),\n ('PRCP', 'bigint'),\n ('SNOW', 'bigint'),\n ('TMAX', 'bigint'),\n ('TMIN', 'bigint')]"
                    }, 
                    "output_type": "execute_result"
                }
            ], 
            "source": "flight_delay_2007.dtypes"
        }, 
        {
            "execution_count": 9, 
            "cell_type": "code", 
            "metadata": {}, 
            "outputs": [], 
            "source": "flight_delay_2008 = preprocessing (\"2008.csv\",\"2008-ord-weather-data.csv\",\"ORD\")"
        }, 
        {
            "execution_count": 10, 
            "cell_type": "code", 
            "metadata": {}, 
            "outputs": [], 
            "source": "from pyspark.ml.feature import StringIndexer, IndexToString, VectorAssembler, OneHotEncoder, StandardScaler, StandardScalerModel, VectorSlicer\nfrom pyspark.ml.classification import RandomForestClassifier\nfrom pyspark.ml.evaluation import MulticlassClassificationEvaluator\nfrom pyspark.ml.tuning import CrossValidator, ParamGridBuilder\nfrom pyspark.ml import Pipeline, Model"
        }, 
        {
            "execution_count": 13, 
            "cell_type": "code", 
            "metadata": {}, 
            "outputs": [], 
            "source": "df_2007 = flight_delay_2007.toPandas()\ndf_2008 = flight_delay_2008.toPandas()"
        }, 
        {
            "execution_count": 54, 
            "cell_type": "code", 
            "metadata": {}, 
            "outputs": [], 
            "source": "X_train = df_2007[[\"hour\",\"DayOfWeek\",\"DayofMonth\",\"DepDelay\",\"Distance\",\"Month\",\"AWND\",\"PRCP\",\"SNOW\",\"TMAX\",\"TMIN\",\"Dest\"]]\nX_test = df_2008[[\"hour\",\"DayOfWeek\",\"DayofMonth\",\"DepDelay\",\"Distance\",\"Month\",\"AWND\",\"PRCP\",\"SNOW\",\"TMAX\",\"TMIN\",\"Dest\"]]"
        }, 
        {
            "execution_count": 55, 
            "cell_type": "code", 
            "metadata": {}, 
            "outputs": [
                {
                    "execution_count": 55, 
                    "metadata": {}, 
                    "data": {
                        "text/html": "<div>\n<style scoped>\n    .dataframe tbody tr th:only-of-type {\n        vertical-align: middle;\n    }\n\n    .dataframe tbody tr th {\n        vertical-align: top;\n    }\n\n    .dataframe thead th {\n        text-align: right;\n    }\n</style>\n<table border=\"1\" class=\"dataframe\">\n  <thead>\n    <tr style=\"text-align: right;\">\n      <th></th>\n      <th>hour</th>\n      <th>DayOfWeek</th>\n      <th>DayofMonth</th>\n      <th>DepDelay</th>\n      <th>Distance</th>\n      <th>Month</th>\n      <th>AWND</th>\n      <th>PRCP</th>\n      <th>SNOW</th>\n      <th>TMAX</th>\n      <th>TMIN</th>\n      <th>Dest</th>\n    </tr>\n  </thead>\n  <tbody>\n    <tr>\n      <th>0</th>\n      <td>11</td>\n      <td>4</td>\n      <td>25</td>\n      <td>-8</td>\n      <td>719</td>\n      <td>1</td>\n      <td>9</td>\n      <td>0</td>\n      <td>0</td>\n      <td>24</td>\n      <td>15</td>\n      <td>EWR</td>\n    </tr>\n    <tr>\n      <th>1</th>\n      <td>18</td>\n      <td>4</td>\n      <td>25</td>\n      <td>-3</td>\n      <td>719</td>\n      <td>1</td>\n      <td>9</td>\n      <td>0</td>\n      <td>0</td>\n      <td>24</td>\n      <td>15</td>\n      <td>EWR</td>\n    </tr>\n    <tr>\n      <th>2</th>\n      <td>12</td>\n      <td>4</td>\n      <td>25</td>\n      <td>16</td>\n      <td>719</td>\n      <td>1</td>\n      <td>9</td>\n      <td>0</td>\n      <td>0</td>\n      <td>24</td>\n      <td>15</td>\n      <td>EWR</td>\n    </tr>\n  </tbody>\n</table>\n</div>", 
                        "text/plain": "   hour  DayOfWeek  DayofMonth  DepDelay  Distance  Month  AWND  PRCP  SNOW  \\\n0    11          4          25        -8       719      1     9     0     0   \n1    18          4          25        -3       719      1     9     0     0   \n2    12          4          25        16       719      1     9     0     0   \n\n   TMAX  TMIN Dest  \n0    24    15  EWR  \n1    24    15  EWR  \n2    24    15  EWR  "
                    }, 
                    "output_type": "execute_result"
                }
            ], 
            "source": "X_train.head(3)"
        }, 
        {
            "execution_count": 56, 
            "cell_type": "code", 
            "metadata": {}, 
            "outputs": [
                {
                    "execution_count": 56, 
                    "metadata": {}, 
                    "data": {
                        "text/html": "<div>\n<style scoped>\n    .dataframe tbody tr th:only-of-type {\n        vertical-align: middle;\n    }\n\n    .dataframe tbody tr th {\n        vertical-align: top;\n    }\n\n    .dataframe thead th {\n        text-align: right;\n    }\n</style>\n<table border=\"1\" class=\"dataframe\">\n  <thead>\n    <tr style=\"text-align: right;\">\n      <th></th>\n      <th>hour</th>\n      <th>DayOfWeek</th>\n      <th>DayofMonth</th>\n      <th>DepDelay</th>\n      <th>Distance</th>\n      <th>Month</th>\n      <th>AWND</th>\n      <th>PRCP</th>\n      <th>SNOW</th>\n      <th>TMAX</th>\n      <th>TMIN</th>\n      <th>Dest</th>\n    </tr>\n  </thead>\n  <tbody>\n    <tr>\n      <th>0</th>\n      <td>16</td>\n      <td>2</td>\n      <td>8</td>\n      <td>71</td>\n      <td>719</td>\n      <td>1</td>\n      <td>13</td>\n      <td>0</td>\n      <td>0</td>\n      <td>56</td>\n      <td>37</td>\n      <td>EWR</td>\n    </tr>\n    <tr>\n      <th>1</th>\n      <td>17</td>\n      <td>2</td>\n      <td>8</td>\n      <td>117</td>\n      <td>316</td>\n      <td>1</td>\n      <td>13</td>\n      <td>0</td>\n      <td>0</td>\n      <td>56</td>\n      <td>37</td>\n      <td>CLE</td>\n    </tr>\n    <tr>\n      <th>2</th>\n      <td>8</td>\n      <td>2</td>\n      <td>8</td>\n      <td>28</td>\n      <td>719</td>\n      <td>1</td>\n      <td>13</td>\n      <td>0</td>\n      <td>0</td>\n      <td>56</td>\n      <td>37</td>\n      <td>EWR</td>\n    </tr>\n  </tbody>\n</table>\n</div>", 
                        "text/plain": "   hour  DayOfWeek  DayofMonth  DepDelay  Distance  Month  AWND  PRCP  SNOW  \\\n0    16          2           8        71       719      1    13     0     0   \n1    17          2           8       117       316      1    13     0     0   \n2     8          2           8        28       719      1    13     0     0   \n\n   TMAX  TMIN Dest  \n0    56    37  EWR  \n1    56    37  CLE  \n2    56    37  EWR  "
                    }, 
                    "output_type": "execute_result"
                }
            ], 
            "source": "X_test.head(3)"
        }, 
        {
            "execution_count": 58, 
            "cell_type": "code", 
            "metadata": {}, 
            "outputs": [
                {
                    "ename": "IndexError", 
                    "evalue": "index 47 is out of bounds for axis 1 with size 12", 
                    "traceback": [
                        "\u001b[0;31m---------------------------------------------------------------------------\u001b[0m", 
                        "\u001b[0;31mIndexError\u001b[0m                                Traceback (most recent call last)", 
                        "\u001b[0;32m<ipython-input-58-15a26f2c0ca8>\u001b[0m in \u001b[0;36m<module>\u001b[0;34m()\u001b[0m\n\u001b[1;32m      7\u001b[0m \u001b[0;31m# Encode the last column of categorical value\u001b[0m\u001b[0;34m\u001b[0m\u001b[0;34m\u001b[0m\u001b[0m\n\u001b[1;32m      8\u001b[0m \u001b[0monehotencoder_x\u001b[0m \u001b[0;34m=\u001b[0m \u001b[0mOneHotEncoder\u001b[0m\u001b[0;34m(\u001b[0m\u001b[0mcategorical_features\u001b[0m \u001b[0;34m=\u001b[0m \u001b[0mX_test\u001b[0m\u001b[0;34m[\u001b[0m\u001b[0;34m\"Dest\"\u001b[0m\u001b[0;34m]\u001b[0m\u001b[0;34m)\u001b[0m\u001b[0;34m\u001b[0m\u001b[0m\n\u001b[0;32m----> 9\u001b[0;31m \u001b[0mX_test\u001b[0m \u001b[0;34m=\u001b[0m \u001b[0monehotencoder_x\u001b[0m\u001b[0;34m.\u001b[0m\u001b[0mfit_transform\u001b[0m\u001b[0;34m(\u001b[0m\u001b[0mX_test\u001b[0m\u001b[0;34m)\u001b[0m\u001b[0;34m.\u001b[0m\u001b[0mtoarray\u001b[0m\u001b[0;34m(\u001b[0m\u001b[0;34m)\u001b[0m\u001b[0;34m\u001b[0m\u001b[0m\n\u001b[0m", 
                        "\u001b[0;32m/usr/local/src/conda3_runtime/home/envs/DSX-Python35-Spark/lib/python3.5/site-packages/sklearn/preprocessing/data.py\u001b[0m in \u001b[0;36mfit_transform\u001b[0;34m(self, X, y)\u001b[0m\n\u001b[1;32m   2017\u001b[0m         \"\"\"\n\u001b[1;32m   2018\u001b[0m         return _transform_selected(X, self._fit_transform,\n\u001b[0;32m-> 2019\u001b[0;31m                                    self.categorical_features, copy=True)\n\u001b[0m\u001b[1;32m   2020\u001b[0m \u001b[0;34m\u001b[0m\u001b[0m\n\u001b[1;32m   2021\u001b[0m     \u001b[0;32mdef\u001b[0m \u001b[0m_transform\u001b[0m\u001b[0;34m(\u001b[0m\u001b[0mself\u001b[0m\u001b[0;34m,\u001b[0m \u001b[0mX\u001b[0m\u001b[0;34m)\u001b[0m\u001b[0;34m:\u001b[0m\u001b[0;34m\u001b[0m\u001b[0m\n", 
                        "\u001b[0;32m/usr/local/src/conda3_runtime/home/envs/DSX-Python35-Spark/lib/python3.5/site-packages/sklearn/preprocessing/data.py\u001b[0m in \u001b[0;36m_transform_selected\u001b[0;34m(X, transform, selected, copy)\u001b[0m\n\u001b[1;32m   1818\u001b[0m     \u001b[0mind\u001b[0m \u001b[0;34m=\u001b[0m \u001b[0mnp\u001b[0m\u001b[0;34m.\u001b[0m\u001b[0marange\u001b[0m\u001b[0;34m(\u001b[0m\u001b[0mn_features\u001b[0m\u001b[0;34m)\u001b[0m\u001b[0;34m\u001b[0m\u001b[0m\n\u001b[1;32m   1819\u001b[0m     \u001b[0msel\u001b[0m \u001b[0;34m=\u001b[0m \u001b[0mnp\u001b[0m\u001b[0;34m.\u001b[0m\u001b[0mzeros\u001b[0m\u001b[0;34m(\u001b[0m\u001b[0mn_features\u001b[0m\u001b[0;34m,\u001b[0m \u001b[0mdtype\u001b[0m\u001b[0;34m=\u001b[0m\u001b[0mbool\u001b[0m\u001b[0;34m)\u001b[0m\u001b[0;34m\u001b[0m\u001b[0m\n\u001b[0;32m-> 1820\u001b[0;31m     \u001b[0msel\u001b[0m\u001b[0;34m[\u001b[0m\u001b[0mnp\u001b[0m\u001b[0;34m.\u001b[0m\u001b[0masarray\u001b[0m\u001b[0;34m(\u001b[0m\u001b[0mselected\u001b[0m\u001b[0;34m)\u001b[0m\u001b[0;34m]\u001b[0m \u001b[0;34m=\u001b[0m \u001b[0;32mTrue\u001b[0m\u001b[0;34m\u001b[0m\u001b[0m\n\u001b[0m\u001b[1;32m   1821\u001b[0m     \u001b[0mnot_sel\u001b[0m \u001b[0;34m=\u001b[0m \u001b[0mnp\u001b[0m\u001b[0;34m.\u001b[0m\u001b[0mlogical_not\u001b[0m\u001b[0;34m(\u001b[0m\u001b[0msel\u001b[0m\u001b[0;34m)\u001b[0m\u001b[0;34m\u001b[0m\u001b[0m\n\u001b[1;32m   1822\u001b[0m     \u001b[0mn_selected\u001b[0m \u001b[0;34m=\u001b[0m \u001b[0mnp\u001b[0m\u001b[0;34m.\u001b[0m\u001b[0msum\u001b[0m\u001b[0;34m(\u001b[0m\u001b[0msel\u001b[0m\u001b[0;34m)\u001b[0m\u001b[0;34m\u001b[0m\u001b[0m\n", 
                        "\u001b[0;31mIndexError\u001b[0m: index 47 is out of bounds for axis 1 with size 12"
                    ], 
                    "output_type": "error"
                }
            ], 
            "source": "from sklearn.preprocessing import LabelEncoder, OneHotEncoder\n\n# Encode the label state\n#labelEncoder_X = LabelEncoder()\n#X_test[\"Dest\"] = labelEncoder_X.fit_transform(X_test[\"Dest\"])\n\n# Encode the last column of categorical value\nonehotencoder_x = OneHotEncoder(categorical_features = X_test[\"Dest\"])\nX_test = onehotencoder_x.fit_transform(X_test).toarray()"
        }, 
        {
            "execution_count": 34, 
            "cell_type": "code", 
            "metadata": {}, 
            "outputs": [], 
            "source": "y_train = df_2007[[\"DepDelayed\"]]\ny_test = df_2008[[\"DepDelayed\"]]"
        }, 
        {
            "execution_count": 35, 
            "cell_type": "code", 
            "metadata": {}, 
            "outputs": [], 
            "source": "# Feature Scaling\nfrom sklearn.preprocessing import StandardScaler\nsc_x = StandardScaler()\nX_train = sc_x.fit_transform(X_train)\nX_test = sc_x.transform(X_test)"
        }, 
        {
            "execution_count": 36, 
            "cell_type": "code", 
            "metadata": {}, 
            "outputs": [
                {
                    "output_type": "stream", 
                    "name": "stderr", 
                    "text": "/usr/local/src/conda3_runtime/home/envs/DSX-Python35-Spark/lib/python3.5/site-packages/sklearn/utils/validation.py:578: DataConversionWarning: A column-vector y was passed when a 1d array was expected. Please change the shape of y to (n_samples, ), for example using ravel().\n  y = column_or_1d(y, warn=True)\n"
                }, 
                {
                    "execution_count": 36, 
                    "metadata": {}, 
                    "data": {
                        "text/plain": "LogisticRegression(C=1.0, class_weight=None, dual=False, fit_intercept=True,\n          intercept_scaling=1, max_iter=100, multi_class='ovr', n_jobs=1,\n          penalty='l2', random_state=0, solver='liblinear', tol=0.0001,\n          verbose=0, warm_start=False)"
                    }, 
                    "output_type": "execute_result"
                }
            ], 
            "source": "# Fitting Logistic regression to the training set\nfrom sklearn.linear_model import LogisticRegression\nclassifier = LogisticRegression(random_state=0)\nclassifier.fit(X_train, y_train)"
        }, 
        {
            "execution_count": 37, 
            "cell_type": "code", 
            "metadata": {}, 
            "outputs": [
                {
                    "execution_count": 37, 
                    "metadata": {}, 
                    "data": {
                        "text/plain": "array([1., 1., 1., ..., 1., 1., 1.])"
                    }, 
                    "output_type": "execute_result"
                }
            ], 
            "source": "# Predict the test_set results\ny_predict = classifier.predict(X_test)\ny_predict"
        }, 
        {
            "execution_count": 38, 
            "cell_type": "code", 
            "metadata": {}, 
            "outputs": [], 
            "source": "# Evaluate the Confusion Matrix\nfrom sklearn.metrics import confusion_matrix\ncm_results = confusion_matrix(y_test,y_predict)"
        }, 
        {
            "execution_count": 39, 
            "cell_type": "code", 
            "metadata": {}, 
            "outputs": [
                {
                    "output_type": "stream", 
                    "name": "stdout", 
                    "text": "The True Positive of Number of People Purchased is 242571\n"
                }
            ], 
            "source": "print (\"The True Positive of Number of People Purchased is {}\".format(cm_results[0][0]))"
        }, 
        {
            "execution_count": 41, 
            "cell_type": "code", 
            "metadata": {}, 
            "outputs": [], 
            "source": "\n\n#https://www.kaggle.com/grfiv4/plot-a-confusion-matrix\nimport itertools\ndef plot_confusion_matrix(cm,\n                          target_names,\n                          title='Confusion matrix',\n                          cmap=None,\n                          normalize=True):\n\n    accuracy = np.trace(cm) / float(np.sum(cm))\n    misclass = 1 - accuracy\n\n    if cmap is None:\n        cmap = plt.get_cmap('Blues')\n\n    plt.figure(figsize=(8, 6))\n    plt.imshow(cm, interpolation='nearest', cmap=cmap)\n    plt.title(title)\n    plt.colorbar()\n\n    if target_names is not None:\n        tick_marks = np.arange(len(target_names))\n        plt.xticks(tick_marks, target_names, rotation=45)\n        plt.yticks(tick_marks, target_names)\n\n    if normalize:\n        cm = cm.astype('float') / cm.sum(axis=1)[:, np.newaxis]\n\n\n    thresh = cm.max() / 1.5 if normalize else cm.max() / 2\n    for i, j in itertools.product(range(cm.shape[0]), range(cm.shape[1])):\n        if normalize:\n            plt.text(j, i, \"{:0.4f}\".format(cm[i, j]),\n                     horizontalalignment=\"center\",\n                     color=\"white\" if cm[i, j] > thresh else \"black\")\n        else:\n            plt.text(j, i, \"{:,}\".format(cm[i, j]),\n                     horizontalalignment=\"center\",\n                     color=\"white\" if cm[i, j] > thresh else \"black\")\n\n\n    plt.tight_layout()\n    plt.ylabel('True label')\n    plt.xlabel('Predicted label\\naccuracy={:0.4f}; misclass={:0.4f}'.format(accuracy, misclass))\n    plt.show()"
        }, 
        {
            "execution_count": 43, 
            "cell_type": "code", 
            "metadata": {}, 
            "outputs": [
                {
                    "output_type": "display_data", 
                    "data": {
                        "image/png": "[encoded data removed]", 
                        "text/plain": "<matplotlib.figure.Figure at 0x7f046bb83710>"
                    }, 
                    "metadata": {}
                }
            ], 
            "source": "plot_confusion_matrix(cm           = cm_results, \n                      normalize    = False,\n                      target_names = ['Not Delayed', 'Delayed'],\n                      title        = \"Confusion Matrix\")"
        }, 
        {
            "execution_count": null, 
            "cell_type": "code", 
            "metadata": {}, 
            "outputs": [], 
            "source": "def ml_preprocess(dataset):\n    pipeline_stages = [] # stages in our Pipeline\n    \n    \n    # Transform all features into a vector using VectorAssembler\n    inputColumns = [\"hour\",\"DayOfWeek\",\"DayofMonth\",\"DepDelay\",\"Distance\",\"Month\",\"AWND\",\"PRCP\",\"SNOW\",\"TMAX\",\"TMIN\"]\n    assembler = VectorAssembler(inputCols=inputColumns, outputCol=\"features\")\n    pipeline_stages += [assembler]\n    \n    # Convert label into label indices using the StringIndexer\n    predict_label = StringIndexer(inputCol=\"DepDelayed\", outputCol=\"label\")\n    pipeline_stages += [predict_label]\n\n    \n    # Create a Pipeline.\n    pipeline = Pipeline(stages=pipeline_stages)\n\n    # Run the feature transformations.\n    #  - fit() computes feature statistics as needed.\n    #  - transform() actually transforms the features.\n    pipelineModel = pipeline.fit(dataset)\n    processed_dataset = pipelineModel.transform(dataset)\n    \n    return processed_dataset"
        }, 
        {
            "execution_count": null, 
            "cell_type": "code", 
            "metadata": {}, 
            "outputs": [], 
            "source": "training_data_2007 = ml_preprocess(flight_delay_2007)\ntesting_data_2008 = ml_preprocess(flight_delay_2008)"
        }, 
        {
            "execution_count": null, 
            "cell_type": "code", 
            "metadata": {}, 
            "outputs": [], 
            "source": "lr = LogisticRegression(labelCol=\"label\", featuresCol=\"features\", maxIter=10)\n# Train model with Training Data\nlrModel = lr.fit(training_data_2007)"
        }, 
        {
            "execution_count": null, 
            "cell_type": "code", 
            "metadata": {}, 
            "outputs": [], 
            "source": "lrPredictions = lrModel.transform(testing_data_2008)"
        }, 
        {
            "execution_count": null, 
            "cell_type": "code", 
            "metadata": {}, 
            "outputs": [], 
            "source": "lrPredictions.select(\"prediction\", \"label\", \"features\").show(20)"
        }, 
        {
            "execution_count": null, 
            "cell_type": "code", 
            "metadata": {}, 
            "outputs": [], 
            "source": "training_data_2007.printSchema()"
        }, 
        {
            "execution_count": null, 
            "cell_type": "code", 
            "metadata": {}, 
            "outputs": [], 
            "source": "#%spark2.pyspark\n##### We can obtain the coefficients by using LogisticRegressionModel\u2019s attributes.\nimport matplotlib.pyplot as plt\nimport numpy as np\n\nbeta = np.sort(lrModel.coefficients)\n\nplt.plot(beta)\nplt.ylabel('Training Data Coefficients')\nplt.show()"
        }, 
        {
            "execution_count": null, 
            "cell_type": "code", 
            "metadata": {}, 
            "outputs": [], 
            "source": "trainingSummary = lrModel.summary\n\nroc = trainingSummary.roc.toPandas()\nplt.plot(roc['FPR'],roc['TPR'])\nplt.ylabel('False Positive Rate')\nplt.xlabel('True Positive Rate')\nplt.title('ROC Curve')\nplt.show()\n\nprint('Training set areaUnderROC: ' + str(trainingSummary.areaUnderROC))"
        }, 
        {
            "execution_count": null, 
            "cell_type": "code", 
            "metadata": {}, 
            "outputs": [], 
            "source": "# Precision and Recall\n\npr = trainingSummary.pr.toPandas()\nplt.plot(pr['recall'],pr['precision'])\nplt.ylabel('Precision')\nplt.xlabel('Recall')\nplt.show()"
        }, 
        {
            "execution_count": null, 
            "cell_type": "code", 
            "metadata": {}, 
            "outputs": [], 
            "source": "lrPredictions.printSchema()\nlr_prediction_df = lrPredictions.toPandas()"
        }, 
        {
            "execution_count": null, 
            "cell_type": "code", 
            "metadata": {}, 
            "outputs": [], 
            "source": "lr_prediction_df.head()"
        }, 
        {
            "execution_count": null, 
            "cell_type": "code", 
            "metadata": {}, 
            "outputs": [], 
            "source": "from pyspark.ml.evaluation import BinaryClassificationEvaluator\n\n# Evaluate model\nevaluator_lr = BinaryClassificationEvaluator(rawPredictionCol=\"rawPrediction\")\nevaluator_lr.evaluate(lrPredictions)"
        }, 
        {
            "execution_count": null, 
            "cell_type": "code", 
            "metadata": {}, 
            "outputs": [], 
            "source": "a = lr_prediction_df.count()[0]"
        }, 
        {
            "execution_count": null, 
            "cell_type": "code", 
            "metadata": {}, 
            "outputs": [], 
            "source": "b = lr_prediction_df['label'].sum()"
        }, 
        {
            "execution_count": null, 
            "cell_type": "code", 
            "metadata": {}, 
            "outputs": [], 
            "source": "c =lr_prediction_df['prediction'].sum()"
        }, 
        {
            "execution_count": null, 
            "cell_type": "code", 
            "metadata": {}, 
            "outputs": [], 
            "source": "fig, ax = plt.subplots()\nax.plot(a, b)\nax.plot(a, c)\nax.set_title('Simple plot')"
        }, 
        {
            "execution_count": null, 
            "cell_type": "code", 
            "metadata": {}, 
            "outputs": [], 
            "source": ""
        }
    ], 
    "metadata": {
        "kernelspec": {
            "display_name": "Python 3.5 with Spark 2.1", 
            "name": "python3-spark21", 
            "language": "python"
        }, 
        "language_info": {
            "mimetype": "text/x-python", 
            "nbconvert_exporter": "python", 
            "version": "3.5.4", 
            "name": "python", 
            "file_extension": ".py", 
            "pygments_lexer": "ipython3", 
            "codemirror_mode": {
                "version": 3, 
                "name": "ipython"
            }
        }
    }, 
    "nbformat": 4
}