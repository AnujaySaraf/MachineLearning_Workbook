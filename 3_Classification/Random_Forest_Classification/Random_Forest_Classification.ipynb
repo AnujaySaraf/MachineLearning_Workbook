{
 "cells": [
  {
   "cell_type": "code",
   "execution_count": 1,
   "metadata": {
    "collapsed": true
   },
   "outputs": [],
   "source": [
    "#  Random Forest Classification (category Variable)\n",
    "\n",
    "# Information Entrophy - Head|Tail - Probability\n",
    "#https://www.khanacademy.org/computing/computer-science/informationtheory/moderninfotheory/v/information-entropy\n",
    "#https://www.google.co.in/url?sa=t&rct=j&q=&esrc=s&source=web&cd=1&ved=0ahUKEwiJmtm35ZDaAhXHqY8KHZfwDcYQFggtMAA&url=https%3A%2F%2Fwww.microsoft.com%2Fen-us%2Fresearch%2Fwp-content%2Fuploads%2F2016%2F02%2FBodyPartRecognition.pdf&usg=AOvVaw3Itd-tiBBHN1KHgobqP0bF\n",
    "\n",
    "# Step1 : Pict at Random K DataPoints from the training Set\n",
    "# Step 2 - Build the decision tree assosiated to these K data Point\n",
    "# Step3 - CHoose the number Ntree to trees you want to build and repeat Step1 and 2\n",
    "# Step4 For a new datapont make eachon of your Ntree trees predict the category to the which the data ponts belongs\n",
    "# and assign the new data point to the catehory that wins the majority vote"
   ]
  },
  {
   "cell_type": "code",
   "execution_count": 2,
   "metadata": {},
   "outputs": [
    {
     "name": "stderr",
     "output_type": "stream",
     "text": [
      "C:\\Users\\jayyanar\\Anaconda3\\lib\\site-packages\\sklearn\\cross_validation.py:41: DeprecationWarning: This module was deprecated in version 0.18 in favor of the model_selection module into which all the refactored classes and functions are moved. Also note that the interface of the new CV iterators are different from that of this module. This module will be removed in 0.20.\n",
      "  \"This module will be removed in 0.20.\", DeprecationWarning)\n"
     ]
    }
   ],
   "source": [
    "# Import Libraries\n",
    "\n",
    "import numpy as np\n",
    "import pandas as pd\n",
    "from sklearn.cross_validation import train_test_split\n",
    "import matplotlib.pyplot as plt"
   ]
  },
  {
   "cell_type": "code",
   "execution_count": 3,
   "metadata": {},
   "outputs": [
    {
     "data": {
      "text/html": [
       "<div>\n",
       "<style>\n",
       "    .dataframe thead tr:only-child th {\n",
       "        text-align: right;\n",
       "    }\n",
       "\n",
       "    .dataframe thead th {\n",
       "        text-align: left;\n",
       "    }\n",
       "\n",
       "    .dataframe tbody tr th {\n",
       "        vertical-align: top;\n",
       "    }\n",
       "</style>\n",
       "<table border=\"1\" class=\"dataframe\">\n",
       "  <thead>\n",
       "    <tr style=\"text-align: right;\">\n",
       "      <th></th>\n",
       "      <th>User ID</th>\n",
       "      <th>Gender</th>\n",
       "      <th>Age</th>\n",
       "      <th>EstimatedSalary</th>\n",
       "      <th>Purchased</th>\n",
       "    </tr>\n",
       "  </thead>\n",
       "  <tbody>\n",
       "    <tr>\n",
       "      <th>0</th>\n",
       "      <td>15624510</td>\n",
       "      <td>Male</td>\n",
       "      <td>19</td>\n",
       "      <td>19000</td>\n",
       "      <td>0</td>\n",
       "    </tr>\n",
       "    <tr>\n",
       "      <th>1</th>\n",
       "      <td>15810944</td>\n",
       "      <td>Male</td>\n",
       "      <td>35</td>\n",
       "      <td>20000</td>\n",
       "      <td>0</td>\n",
       "    </tr>\n",
       "    <tr>\n",
       "      <th>2</th>\n",
       "      <td>15668575</td>\n",
       "      <td>Female</td>\n",
       "      <td>26</td>\n",
       "      <td>43000</td>\n",
       "      <td>0</td>\n",
       "    </tr>\n",
       "    <tr>\n",
       "      <th>3</th>\n",
       "      <td>15603246</td>\n",
       "      <td>Female</td>\n",
       "      <td>27</td>\n",
       "      <td>57000</td>\n",
       "      <td>0</td>\n",
       "    </tr>\n",
       "    <tr>\n",
       "      <th>4</th>\n",
       "      <td>15804002</td>\n",
       "      <td>Male</td>\n",
       "      <td>19</td>\n",
       "      <td>76000</td>\n",
       "      <td>0</td>\n",
       "    </tr>\n",
       "  </tbody>\n",
       "</table>\n",
       "</div>"
      ],
      "text/plain": [
       "    User ID  Gender  Age  EstimatedSalary  Purchased\n",
       "0  15624510    Male   19            19000          0\n",
       "1  15810944    Male   35            20000          0\n",
       "2  15668575  Female   26            43000          0\n",
       "3  15603246  Female   27            57000          0\n",
       "4  15804002    Male   19            76000          0"
      ]
     },
     "execution_count": 3,
     "metadata": {},
     "output_type": "execute_result"
    }
   ],
   "source": [
    "dataset = pd.read_csv('Social_Network_Ads.csv')\n",
    "dataset.head()"
   ]
  },
  {
   "cell_type": "code",
   "execution_count": 4,
   "metadata": {},
   "outputs": [
    {
     "data": {
      "text/plain": [
       "(400, 5)"
      ]
     },
     "execution_count": 4,
     "metadata": {},
     "output_type": "execute_result"
    }
   ],
   "source": [
    "# Identify the shape of the dataset\n",
    "dataset.shape"
   ]
  },
  {
   "cell_type": "code",
   "execution_count": 5,
   "metadata": {},
   "outputs": [
    {
     "name": "stdout",
     "output_type": "stream",
     "text": [
      "<class 'pandas.core.frame.DataFrame'>\n",
      "RangeIndex: 400 entries, 0 to 399\n",
      "Data columns (total 5 columns):\n",
      "User ID            400 non-null int64\n",
      "Gender             400 non-null object\n",
      "Age                400 non-null int64\n",
      "EstimatedSalary    400 non-null int64\n",
      "Purchased          400 non-null int64\n",
      "dtypes: int64(4), object(1)\n",
      "memory usage: 15.7+ KB\n"
     ]
    }
   ],
   "source": [
    "# Identify the shape of the dataset\n",
    "dataset.info()"
   ]
  },
  {
   "cell_type": "code",
   "execution_count": 6,
   "metadata": {
    "collapsed": true
   },
   "outputs": [],
   "source": [
    "# Set the Independent Variable (X) and dependent variable (y) = f(x)=y\n",
    "## Make sure always X is matrix and Y is vector\n",
    "X = dataset.iloc[:,[2,3]].values\n",
    "y = dataset.iloc[:,4].values"
   ]
  },
  {
   "cell_type": "code",
   "execution_count": 7,
   "metadata": {
    "collapsed": true
   },
   "outputs": [],
   "source": [
    "# Split the dataset into Training set and Testing Set\n",
    "from sklearn.cross_validation import train_test_split\n",
    "X_train,X_test,y_train,y_test = train_test_split(X, y, test_size=0.25, random_state=0)"
   ]
  },
  {
   "cell_type": "code",
   "execution_count": 8,
   "metadata": {},
   "outputs": [
    {
     "name": "stderr",
     "output_type": "stream",
     "text": [
      "C:\\Users\\jayyanar\\Anaconda3\\lib\\site-packages\\sklearn\\utils\\validation.py:475: DataConversionWarning: Data with input dtype int64 was converted to float64 by StandardScaler.\n",
      "  warnings.warn(msg, DataConversionWarning)\n"
     ]
    }
   ],
   "source": [
    "# Feature Scaling is not needed if we not based on Euclidean DIstance , Since Decision Tree use Mahattan \n",
    "# We dont want to reduce the scale\n",
    "from sklearn.preprocessing import StandardScaler\n",
    "sc_x = StandardScaler()\n",
    "X_train = sc_x.fit_transform(X_train)\n",
    "X_test = sc_x.transform(X_test)"
   ]
  },
  {
   "cell_type": "code",
   "execution_count": 41,
   "metadata": {},
   "outputs": [
    {
     "data": {
      "text/plain": [
       "RandomForestClassifier(bootstrap=True, class_weight=None, criterion='entropy',\n",
       "            max_depth=None, max_features='auto', max_leaf_nodes=None,\n",
       "            min_impurity_decrease=0.0, min_impurity_split=None,\n",
       "            min_samples_leaf=1, min_samples_split=2,\n",
       "            min_weight_fraction_leaf=0.0, n_estimators=5, n_jobs=1,\n",
       "            oob_score=False, random_state=0, verbose=0, warm_start=False)"
      ]
     },
     "execution_count": 41,
     "metadata": {},
     "output_type": "execute_result"
    }
   ],
   "source": [
    "# Fitting SVM regression to the training set\n",
    "# Test  with different Kernel -- \"linear' , 'rbf', 'poly'\n",
    "from sklearn.ensemble import RandomForestClassifier\n",
    "classifier = RandomForestClassifier(n_estimators=5,criterion='entropy',random_state=0)\n",
    "classifier.fit(X_train,y_train)"
   ]
  },
  {
   "cell_type": "code",
   "execution_count": 42,
   "metadata": {},
   "outputs": [
    {
     "data": {
      "text/plain": [
       "(array([[-0.80480212,  0.50496393],\n",
       "        [-0.01254409, -0.5677824 ],\n",
       "        [-0.30964085,  0.1570462 ],\n",
       "        [-0.80480212,  0.27301877],\n",
       "        [-0.30964085, -0.5677824 ],\n",
       "        [-1.10189888, -1.43757673],\n",
       "        [-0.70576986, -1.58254245],\n",
       "        [-0.21060859,  2.15757314],\n",
       "        [-1.99318916, -0.04590581],\n",
       "        [ 0.8787462 , -0.77073441],\n",
       "        [-0.80480212, -0.59677555],\n",
       "        [-1.00286662, -0.42281668],\n",
       "        [-0.11157634, -0.42281668],\n",
       "        [ 0.08648817,  0.21503249],\n",
       "        [-1.79512465,  0.47597078],\n",
       "        [-0.60673761,  1.37475825],\n",
       "        [-0.11157634,  0.21503249],\n",
       "        [-1.89415691,  0.44697764],\n",
       "        [ 1.67100423,  1.75166912],\n",
       "        [-0.30964085, -1.37959044],\n",
       "        [-0.30964085, -0.65476184],\n",
       "        [ 0.8787462 ,  2.15757314],\n",
       "        [ 0.28455268, -0.53878926],\n",
       "        [ 0.8787462 ,  1.02684052],\n",
       "        [-1.49802789, -1.20563157],\n",
       "        [ 1.07681071,  2.07059371],\n",
       "        [-1.00286662,  0.50496393],\n",
       "        [-0.90383437,  0.30201192],\n",
       "        [-0.11157634, -0.21986468],\n",
       "        [-0.60673761,  0.47597078],\n",
       "        [-1.6960924 ,  0.53395707],\n",
       "        [-0.11157634,  0.27301877],\n",
       "        [ 1.86906873, -0.27785096],\n",
       "        [-0.11157634, -0.48080297],\n",
       "        [-1.39899564, -0.33583725],\n",
       "        [-1.99318916, -0.50979612],\n",
       "        [-1.59706014,  0.33100506],\n",
       "        [-0.4086731 , -0.77073441],\n",
       "        [-0.70576986, -1.03167271],\n",
       "        [ 1.07681071, -0.97368642],\n",
       "        [-1.10189888,  0.53395707],\n",
       "        [ 0.28455268, -0.50979612],\n",
       "        [-1.10189888,  0.41798449],\n",
       "        [-0.30964085, -1.43757673],\n",
       "        [ 0.48261718,  1.22979253],\n",
       "        [-1.10189888, -0.33583725],\n",
       "        [-0.11157634,  0.30201192],\n",
       "        [ 1.37390747,  0.59194336],\n",
       "        [-1.20093113, -1.14764529],\n",
       "        [ 1.07681071,  0.47597078],\n",
       "        [ 1.86906873,  1.51972397],\n",
       "        [-0.4086731 , -1.29261101],\n",
       "        [-0.30964085, -0.3648304 ],\n",
       "        [-0.4086731 ,  1.31677196],\n",
       "        [ 2.06713324,  0.53395707],\n",
       "        [ 0.68068169, -1.089659  ],\n",
       "        [-0.90383437,  0.38899135],\n",
       "        [-1.20093113,  0.30201192],\n",
       "        [ 1.07681071, -1.20563157],\n",
       "        [-1.49802789, -1.43757673],\n",
       "        [-0.60673761, -1.49556302],\n",
       "        [ 2.1661655 , -0.79972756],\n",
       "        [-1.89415691,  0.18603934],\n",
       "        [-0.21060859,  0.85288166],\n",
       "        [-1.89415691, -1.26361786],\n",
       "        [ 2.1661655 ,  0.38899135],\n",
       "        [-1.39899564,  0.56295021],\n",
       "        [-1.10189888, -0.33583725],\n",
       "        [ 0.18552042, -0.65476184],\n",
       "        [ 0.38358493,  0.01208048],\n",
       "        [-0.60673761,  2.331532  ],\n",
       "        [-0.30964085,  0.21503249],\n",
       "        [-1.59706014, -0.19087153],\n",
       "        [ 0.68068169, -1.37959044],\n",
       "        [-1.10189888,  0.56295021],\n",
       "        [-1.99318916,  0.35999821],\n",
       "        [ 0.38358493,  0.27301877],\n",
       "        [ 0.18552042, -0.27785096],\n",
       "        [ 1.47293972, -1.03167271],\n",
       "        [ 0.8787462 ,  1.08482681],\n",
       "        [ 1.96810099,  2.15757314],\n",
       "        [ 2.06713324,  0.38899135],\n",
       "        [-1.39899564, -0.42281668],\n",
       "        [-1.20093113, -1.00267957],\n",
       "        [ 1.96810099, -0.91570013],\n",
       "        [ 0.38358493,  0.30201192],\n",
       "        [ 0.18552042,  0.1570462 ],\n",
       "        [ 2.06713324,  1.75166912],\n",
       "        [ 0.77971394, -0.8287207 ],\n",
       "        [ 0.28455268, -0.27785096],\n",
       "        [ 0.38358493, -0.16187839],\n",
       "        [-0.11157634,  2.21555943],\n",
       "        [-1.49802789, -0.62576869],\n",
       "        [-1.29996338, -1.06066585],\n",
       "        [-1.39899564,  0.41798449],\n",
       "        [-1.10189888,  0.76590222],\n",
       "        [-1.49802789, -0.19087153],\n",
       "        [ 0.97777845, -1.06066585],\n",
       "        [ 0.97777845,  0.59194336],\n",
       "        [ 0.38358493,  0.99784738]]),\n",
       " array([0, 0, 0, 0, 0, 0, 0, 1, 0, 0, 0, 0, 0, 0, 0, 0, 0, 0, 1, 0, 0, 1, 0,\n",
       "        1, 0, 1, 0, 0, 0, 0, 0, 1, 1, 0, 0, 0, 0, 0, 0, 1, 0, 0, 0, 0, 1, 0,\n",
       "        0, 1, 0, 1, 1, 0, 0, 0, 1, 1, 0, 0, 1, 0, 0, 1, 0, 1, 0, 1, 0, 0, 0,\n",
       "        0, 1, 0, 0, 1, 0, 0, 0, 0, 1, 1, 1, 0, 0, 0, 1, 1, 0, 1, 1, 0, 0, 1,\n",
       "        0, 0, 0, 1, 0, 1, 1, 1], dtype=int64))"
      ]
     },
     "execution_count": 42,
     "metadata": {},
     "output_type": "execute_result"
    }
   ],
   "source": [
    "X_test,y_test"
   ]
  },
  {
   "cell_type": "code",
   "execution_count": 43,
   "metadata": {},
   "outputs": [
    {
     "data": {
      "text/plain": [
       "array([0, 0, 0, 0, 0, 0, 0, 1, 0, 0, 0, 0, 0, 1, 0, 1, 1, 0, 1, 0, 0, 1, 0,\n",
       "       1, 0, 1, 0, 0, 0, 0, 0, 0, 1, 0, 0, 0, 0, 0, 0, 1, 0, 0, 0, 0, 1, 0,\n",
       "       0, 1, 0, 1, 1, 0, 0, 1, 1, 1, 0, 0, 1, 0, 0, 1, 0, 1, 0, 1, 0, 0, 0,\n",
       "       1, 1, 0, 0, 1, 0, 0, 0, 0, 1, 1, 1, 1, 0, 0, 1, 0, 0, 1, 1, 0, 0, 1,\n",
       "       0, 0, 0, 0, 0, 1, 1, 1], dtype=int64)"
      ]
     },
     "execution_count": 43,
     "metadata": {},
     "output_type": "execute_result"
    }
   ],
   "source": [
    "\n",
    "# Predict the test_set results\n",
    "y_predict = classifier.predict(X_test)\n",
    "y_predict"
   ]
  },
  {
   "cell_type": "code",
   "execution_count": 44,
   "metadata": {},
   "outputs": [
    {
     "data": {
      "text/plain": [
       "array([[62,  6],\n",
       "       [ 3, 29]], dtype=int64)"
      ]
     },
     "execution_count": 44,
     "metadata": {},
     "output_type": "execute_result"
    }
   ],
   "source": [
    "# Evaluate the Confusion Matrix\n",
    "from sklearn.metrics import confusion_matrix\n",
    "cm_results = confusion_matrix(y_test,y_predict)\n",
    "cm_results"
   ]
  },
  {
   "cell_type": "code",
   "execution_count": 45,
   "metadata": {},
   "outputs": [
    {
     "name": "stdout",
     "output_type": "stream",
     "text": [
      "The True Positive of Number of People Purchased is 62\n"
     ]
    }
   ],
   "source": [
    "print (\"The True Positive of Number of People Purchased is {}\".format(cm_results[0][0]))"
   ]
  },
  {
   "cell_type": "code",
   "execution_count": 46,
   "metadata": {},
   "outputs": [
    {
     "data": {
      "image/png": "[encoded data removed]",
      "text/plain": [
       "<matplotlib.figure.Figure at 0x27908b418d0>"
      ]
     },
     "metadata": {},
     "output_type": "display_data"
    }
   ],
   "source": [
    "# Visualize the Testing dataset Result\n",
    "# Import the Color Map class\n",
    "from matplotlib.colors import ListedColormap\n",
    "\n",
    "# Training Dataset\n",
    "X_set,y_set = X_train, y_train\n",
    "\n",
    "# set the plot figsize\n",
    "plt.figure(figsize=(20,10))\n",
    "\n",
    "\n",
    "# Prepare the grid by collect the pixel points and put it in the frame\n",
    "X1, X2 = np.meshgrid(np.arange(start = X_set[:, 0].min() - 1, stop = X_set[:, 0].max() + 1, step = 0.01),\n",
    "                     np.arange(start = X_set[:, 1].min() - 1, stop = X_set[:, 1].max() + 1, step = 0.01))\n",
    "\n",
    "\n",
    "# Contour function will create a linear line between red and green\n",
    "# Use predict function to predict the 0 or 1.If predict as 0 it will colorised as red or else it will green\n",
    "plt.contourf(X1,X2, classifier.predict(np.array([X1.ravel(), X2.ravel()]).T).reshape(X1.shape),\n",
    "            alpha = 0.75, cmap = ListedColormap(('red','green')))\n",
    "\n",
    "# Create a limit of estimate salary\n",
    "plt.ylim(X1.min(), X1.max())\n",
    "plt.ylim(X2.min(), X2.max())\n",
    "\n",
    "\n",
    "# Create a scatter plot\n",
    "for i,j in enumerate(np.unique(y_set)):\n",
    "    plt.scatter(X_set[y_set ==j, 0] , X_set[y_set ==j, 1], c = ListedColormap(('red','green'))(i), label = j)\n",
    "    \n",
    "plt.title(\"SVM - Linear - Training Set\")\n",
    "plt.xlabel(\"Age\")\n",
    "plt.xlabel(\"Estimated Salary\")\n",
    "plt.legend()\n",
    "plt.show()\n"
   ]
  },
  {
   "cell_type": "code",
   "execution_count": 35,
   "metadata": {},
   "outputs": [
    {
     "data": {
      "image/png": "[encoded data removed]",
      "text/plain": [
       "<matplotlib.figure.Figure at 0x279089bb2e8>"
      ]
     },
     "metadata": {},
     "output_type": "display_data"
    }
   ],
   "source": [
    "# Visualize the Testing dataset Result\n",
    "# Import the Color Map class\n",
    "from matplotlib.colors import ListedColormap\n",
    "\n",
    "# Training Dataset\n",
    "X_set,y_set = X_test, y_test\n",
    "\n",
    "# set the plot figsize\n",
    "plt.figure(figsize=(20,10))\n",
    "\n",
    "\n",
    "# Prepare the grid by collect the pixel points and put it in the frame\n",
    "X1, X2 = np.meshgrid(np.arange(start = X_set[:, 0].min() - 1, stop = X_set[:, 0].max() + 1, step = 0.01),\n",
    "                     np.arange(start = X_set[:, 1].min() - 1, stop = X_set[:, 1].max() + 1, step = 0.01))\n",
    "\n",
    "\n",
    "# Contour function will create a linear line between red and green\n",
    "# Use predict function to predict the 0 or 1.If predict as 0 it will colorised as red or else it will green\n",
    "plt.contourf(X1,X2, classifier.predict(np.array([X1.ravel(), X2.ravel()]).T).reshape(X1.shape),\n",
    "            alpha = 0.75, cmap = ListedColormap(('red','green')))\n",
    "\n",
    "# Create a limit of estimate salary\n",
    "plt.ylim(X1.min(), X1.max())\n",
    "plt.ylim(X2.min(), X2.max())\n",
    "\n",
    "\n",
    "# Create a scatter plot\n",
    "for i,j in enumerate(np.unique(y_set)):\n",
    "    plt.scatter(X_set[y_set ==j, 0] , X_set[y_set ==j, 1], c = ListedColormap(('red','green'))(i), label = j)\n",
    "    \n",
    "plt.title(\"SVM - Linear - Testing Set\")\n",
    "plt.xlabel(\"Age\")\n",
    "plt.xlabel(\"Estimated Salary\")\n",
    "plt.legend()\n",
    "plt.show()"
   ]
  },
  {
   "cell_type": "code",
   "execution_count": 36,
   "metadata": {},
   "outputs": [
    {
     "name": "stdout",
     "output_type": "stream",
     "text": [
      "[[63  5]\n",
      " [ 3 29]]\n"
     ]
    }
   ],
   "source": [
    "print (cm_results)"
   ]
  },
  {
   "cell_type": "code",
   "execution_count": 37,
   "metadata": {
    "collapsed": true
   },
   "outputs": [],
   "source": [
    "#https://www.kaggle.com/grfiv4/plot-a-confusion-matrix\n",
    "import itertools\n",
    "def plot_confusion_matrix(cm,\n",
    "                          target_names,\n",
    "                          title='Confusion matrix',\n",
    "                          cmap=None,\n",
    "                          normalize=True):\n",
    "\n",
    "    accuracy = np.trace(cm) / float(np.sum(cm))\n",
    "    misclass = 1 - accuracy\n",
    "\n",
    "    if cmap is None:\n",
    "        cmap = plt.get_cmap('Blues')\n",
    "\n",
    "    plt.figure(figsize=(8, 6))\n",
    "    plt.imshow(cm, interpolation='nearest', cmap=cmap)\n",
    "    plt.title(title)\n",
    "    plt.colorbar()\n",
    "\n",
    "    if target_names is not None:\n",
    "        tick_marks = np.arange(len(target_names))\n",
    "        plt.xticks(tick_marks, target_names, rotation=45)\n",
    "        plt.yticks(tick_marks, target_names)\n",
    "\n",
    "    if normalize:\n",
    "        cm = cm.astype('float') / cm.sum(axis=1)[:, np.newaxis]\n",
    "\n",
    "\n",
    "    thresh = cm.max() / 1.5 if normalize else cm.max() / 2\n",
    "    for i, j in itertools.product(range(cm.shape[0]), range(cm.shape[1])):\n",
    "        if normalize:\n",
    "            plt.text(j, i, \"{:0.4f}\".format(cm[i, j]),\n",
    "                     horizontalalignment=\"center\",\n",
    "                     color=\"white\" if cm[i, j] > thresh else \"black\")\n",
    "        else:\n",
    "            plt.text(j, i, \"{:,}\".format(cm[i, j]),\n",
    "                     horizontalalignment=\"center\",\n",
    "                     color=\"white\" if cm[i, j] > thresh else \"black\")\n",
    "\n",
    "\n",
    "    plt.tight_layout()\n",
    "    plt.ylabel('True label')\n",
    "    plt.xlabel('Predicted label\\naccuracy={:0.4f}; misclass={:0.4f}'.format(accuracy, misclass))\n",
    "    plt.show()"
   ]
  },
  {
   "cell_type": "code",
   "execution_count": 38,
   "metadata": {},
   "outputs": [
    {
     "data": {
      "text/plain": [
       "array([[63,  5],\n",
       "       [ 3, 29]], dtype=int64)"
      ]
     },
     "execution_count": 38,
     "metadata": {},
     "output_type": "execute_result"
    }
   ],
   "source": [
    "cm_results"
   ]
  },
  {
   "cell_type": "code",
   "execution_count": 39,
   "metadata": {},
   "outputs": [
    {
     "data": {
      "image/png": "[encoded data removed]",
      "text/plain": [
       "<matplotlib.figure.Figure at 0x279089a3128>"
      ]
     },
     "metadata": {},
     "output_type": "display_data"
    }
   ],
   "source": [
    "plot_confusion_matrix(cm           = cm_results, \n",
    "                      normalize    = False,\n",
    "                      target_names = ['Purchased', 'Not_Purchased'],\n",
    "                      title        = \"Confusion Matrix\")"
   ]
  },
  {
   "cell_type": "code",
   "execution_count": 40,
   "metadata": {},
   "outputs": [
    {
     "name": "stdout",
     "output_type": "stream",
     "text": [
      "[TP] - Predicted - True Positive of Number of People Purchased is 63\n",
      "[TN] - Predicted - True Negative of Number of People Not-Purchased is 29\n"
     ]
    }
   ],
   "source": [
    "# Predicted Correctly\n",
    "\n",
    "print (\"[TP] - Predicted - True Positive of Number of People Purchased is {}\".format(cm_results[0][0]))\n",
    "print (\"[TN] - Predicted - True Negative of Number of People Not-Purchased is {}\".format(cm_results[1][1]))"
   ]
  },
  {
   "cell_type": "code",
   "execution_count": 23,
   "metadata": {},
   "outputs": [
    {
     "name": "stdout",
     "output_type": "stream",
     "text": [
      "[FN] - Predicted - False Negative of Number of People Purchased is 5\n",
      "[FP] - Predicted - False Positive of Number of People Not-Purchased is 3\n"
     ]
    }
   ],
   "source": [
    "# Predicted Wrongly\n",
    "print (\"[FN] - Predicted - False Negative of Number of People Purchased is {}\".format(cm_results[0][1]))\n",
    "print (\"[FP] - Predicted - False Positive of Number of People Not-Purchased is {}\".format(cm_results[1][0]))"
   ]
  },
  {
   "cell_type": "code",
   "execution_count": 24,
   "metadata": {
    "collapsed": true
   },
   "outputs": [],
   "source": [
    "# Formula for Understanding Model Performance\n",
    "\n",
    "# Accuracy = (TN+TP)/(TN+FP+FN+TP)\n",
    "# Precision = TP/(FP+TP)\n",
    "# Recall = Sensitivity = TP / (TP+FN)\n",
    "# Specificity = TN / (TN+FP)"
   ]
  },
  {
   "cell_type": "code",
   "execution_count": 25,
   "metadata": {},
   "outputs": [
    {
     "name": "stdout",
     "output_type": "stream",
     "text": [
      "Accuracy Score: 0.85\n"
     ]
    }
   ],
   "source": [
    "# http://scikit-learn.org/stable/auto_examples/model_selection/plot_precision_recall.html#sphx-glr-auto-examples-model-selection-plot-precision-recall-py\n",
    "# Precision\n",
    "#Precision (P) is defined as the number of true positives (T_p) over the number of true positives plus the \n",
    "#number of false positives (F_p).\n",
    "\n",
    "## Accuracy = (TN+TP)/(TN+FP+FN+TP)\n",
    "from sklearn.metrics import precision_score\n",
    "accuracy_score = precision_score(y_test, y_predict)\n",
    "print('Accuracy Score: {0:0.2f}'.format(accuracy_score))"
   ]
  },
  {
   "cell_type": "code",
   "execution_count": 26,
   "metadata": {},
   "outputs": [
    {
     "name": "stdout",
     "output_type": "stream",
     "text": [
      "Recall Score: 0.91\n"
     ]
    }
   ],
   "source": [
    "\n",
    "# Recall = Sensitivity = TP / (TP+FN)\n",
    "from sklearn.metrics import recall_score\n",
    "recall_value = recall_score(y_test, y_predict)\n",
    "print('Recall Score: {0:0.2f}'.format(recall_value))"
   ]
  },
  {
   "cell_type": "code",
   "execution_count": 27,
   "metadata": {},
   "outputs": [
    {
     "name": "stdout",
     "output_type": "stream",
     "text": [
      "F-Score: 0.88\n"
     ]
    }
   ],
   "source": [
    "# Calculate F1-Score\n",
    "from sklearn.metrics import f1_score\n",
    "fscore_value = f1_score(y_test, y_predict)\n",
    "print('F-Score: {0:0.2f}'.format(fscore_value))"
   ]
  },
  {
   "cell_type": "code",
   "execution_count": 28,
   "metadata": {},
   "outputs": [
    {
     "name": "stdout",
     "output_type": "stream",
     "text": [
      "Average precision-recall score: 0.80\n",
      "Average recall score: 0.91\n"
     ]
    }
   ],
   "source": [
    "from sklearn.metrics import average_precision_score\n",
    "average_precision = average_precision_score(y_test, y_predict)\n",
    "\n",
    "print('Average precision-recall score: {0:0.2f}'.format(average_precision))\n",
    "\n",
    "from sklearn.metrics import recall_score\n",
    "recall_value = recall_score(y_test, y_predict)\n",
    "print('Average recall score: {0:0.2f}'.format(recall_value))"
   ]
  },
  {
   "cell_type": "code",
   "execution_count": null,
   "metadata": {
    "collapsed": true
   },
   "outputs": [],
   "source": []
  },
  {
   "cell_type": "code",
   "execution_count": null,
   "metadata": {
    "collapsed": true
   },
   "outputs": [],
   "source": []
  }
 ],
 "metadata": {
  "kernelspec": {
   "display_name": "Python [conda root]",
   "language": "python",
   "name": "conda-root-py"
  },
  "language_info": {
   "codemirror_mode": {
    "name": "ipython",
    "version": 3
   },
   "file_extension": ".py",
   "mimetype": "text/x-python",
   "name": "python",
   "nbconvert_exporter": "python",
   "pygments_lexer": "ipython3",
   "version": "3.6.3"
  }
 },
 "nbformat": 4,
 "nbformat_minor": 2
}
