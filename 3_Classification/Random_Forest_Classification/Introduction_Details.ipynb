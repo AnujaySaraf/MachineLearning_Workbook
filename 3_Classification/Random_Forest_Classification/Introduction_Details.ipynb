{
 "cells": [
  {
   "cell_type": "code",
   "execution_count": 1,
   "metadata": {},
   "outputs": [],
   "source": [
    "# False Positive and False Negative - Using Sigmoid 4 datapoint\n",
    "\n",
    "# False Positive - Type 1 Error - Was told earthquake but not happened\n",
    "# False Negative - Type II Error - Not expected earthqyake but happened"
   ]
  },
  {
   "cell_type": "code",
   "execution_count": 10,
   "metadata": {
    "collapsed": true
   },
   "outputs": [],
   "source": [
    "# Confusion Matrix\n",
    "#Accuracy Rate\n",
    "# Error Rate\n",
    "# Accuracy Paradox - Wrong udnerstanding of Accuracy\n"
   ]
  },
  {
   "cell_type": "code",
   "execution_count": 11,
   "metadata": {
    "collapsed": true
   },
   "outputs": [],
   "source": [
    "# CAP Curve - Cummulative Accuracy Profile\n",
    "# !=\n",
    "# ROC = Receiver Operating Characteristic \n",
    "\n",
    "# Amazon Prime offer 10000customer 1000Purchase 10%\n"
   ]
  },
  {
   "cell_type": "code",
   "execution_count": null,
   "metadata": {
    "collapsed": true
   },
   "outputs": [],
   "source": []
  }
 ],
 "metadata": {
  "kernelspec": {
   "display_name": "Python [conda root]",
   "language": "python",
   "name": "conda-root-py"
  },
  "language_info": {
   "codemirror_mode": {
    "name": "ipython",
    "version": 3
   },
   "file_extension": ".py",
   "mimetype": "text/x-python",
   "name": "python",
   "nbconvert_exporter": "python",
   "pygments_lexer": "ipython3",
   "version": "3.6.3"
  }
 },
 "nbformat": 4,
 "nbformat_minor": 2
}
