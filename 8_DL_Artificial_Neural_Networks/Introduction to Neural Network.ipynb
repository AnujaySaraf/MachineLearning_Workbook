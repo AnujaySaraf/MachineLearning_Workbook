{
 "cells": [
  {
   "cell_type": "code",
   "execution_count": 1,
   "metadata": {
    "collapsed": true
   },
   "outputs": [],
   "source": [
    "# Input, Hidden Layer, Output Layer\n",
    "# Neuron\n",
    "# Activation Fucntion\n",
    "# How do neural network work\n",
    "# how do Neural network learn\n",
    "# Gradient Descent"
   ]
  },
  {
   "cell_type": "code",
   "execution_count": 2,
   "metadata": {
    "collapsed": true
   },
   "outputs": [],
   "source": [
    "#Neuron , Dendrites, Axon, Synapse(Weights), Receptor, NeuraTransmiter\n",
    "\n",
    "# Neuron(Node) get input layer(neuron)\n",
    "\n",
    "# What happened in Neuron (Multiply the weight and variable and Sum all the input)\n",
    "\n",
    "# Activation Function - Threshold\n",
    "# X-axis Weighted Sum\n",
    "# Y - Axis Values 0 to 1\n",
    "# 0 or 1 based on weighted Sum\n",
    "\n",
    "# Activation Function - Sigmoid \n",
    "# X-axis Weighted Sum\n",
    "# Y - Axis Values 0 to 1\n",
    "# Smooth\n",
    "\n",
    "\n",
    "# Activation Function - Rectifier\n",
    "# X-axis Weighted Sum\n",
    "# Y - Axis Values # max(x,0)\n",
    "\n",
    "\n",
    "\n",
    "# Activation Function - Hyperbolic Tangent\n",
    "# X-axis Weighted Sum\n",
    "# Y - Axis Values -1 to 1\n",
    "\n",
    "#Xavier Glorot Rectified book\n",
    "\n",
    "# Hidden Layer we appliy Rectified and Output layer we apply sigmoid\n",
    "\n"
   ]
  },
  {
   "cell_type": "code",
   "execution_count": 3,
   "metadata": {
    "collapsed": true
   },
   "outputs": [],
   "source": [
    "# How neural Network work and Learn\n",
    "\n",
    "# Example of Relu is Age of house 0-100 is 0 and 100 more is 1\n",
    "# Y^ is output value , Y is Actual Value\n",
    "# Cost function 1/2(y^-y)2 - Error in Prediction\n",
    "\n",
    "# Only Control to the Neural network is weight, it will be updated based on Cost function\n",
    "#X1,x2,XM input is looking at 3 values in row, and try to predict fourth value (Exam result)\n",
    "# x1 - Study Hrs - 12, x2 -Sleep Hrs - 6, x3 - Quiz -78%\n",
    "\n",
    "# 1 Epoc is go through whole dataset\n",
    "\n",
    "# Cross Validated - Reading - stackexchange list of cost exchange\n",
    "\n",
    "# Gradient descent - How weight get changed based on error\n",
    "# Very simple - Pecerptor - Single forward Neural network\n",
    "\n",
    "# Approach 1 - for grdient descent - Brute force to minimize the cost function.- Convex\n",
    "# Batch Gradient Descent, Deterministic Alogorithm\n",
    "# Curse of Dimensionality\n",
    "\n",
    "# Stochastic Gradient Descent - Non Convex\n",
    "# Take one row , Run a Network, Adjust the weight - \n",
    "# Reading Andrew Trask (15)\n",
    "# Michael Nielson - neural networks and deep la=\n",
    "\n",
    "# Backpropogation\n",
    "# During the process of BP, We are able to adjust the weight of all nodes\n",
    "\n",
    "\n",
    "\n",
    "#Training the ANN with Stochastic Gradient Descent\n",
    "\n",
    "#Step1 : Randomly intialise the weights to small numbers close to 0 (but not 0)\n",
    "\n",
    "#Step 2 : Input the first observation of your dataset in the input layer, each feature in one input node.\n",
    "\n",
    "#Step 3: Forward Propogration : from left to right the neurons are activated in a way the impact of each neurons activation\n",
    "#    is limited by  thr weights. Propogate the activations until getting the precited result Y^\n",
    "\n",
    "# Step 4 : Compare the predicted result to the actual result, Measure the generated error.\n",
    "\n",
    "# Step 5 : Backpropogation : from right to left the error is back propogated, update the weights according to\n",
    "#   how much they are responsible for the error, The learning rate decided how much we update the weights\n",
    "\n",
    "# Step 6 : Repeat 1 to 5 , Update the weights after each observation(Reinforcement learning) or\n",
    "# Repeat 1 to 5 but update the weights only after  a batch of observation (Batch learning)\n",
    "\n",
    "# Step 7 : When the who training set passed through the ANN, that makes an epoch, Redo more epochs\n",
    "\n",
    "\n",
    "\n",
    "\n",
    "\n",
    "\n",
    "\n",
    "\n"
   ]
  },
  {
   "cell_type": "code",
   "execution_count": 4,
   "metadata": {},
   "outputs": [
    {
     "data": {
      "text/plain": [
       "3"
      ]
     },
     "execution_count": 4,
     "metadata": {},
     "output_type": "execute_result"
    }
   ],
   "source": [
    "1+2"
   ]
  },
  {
   "cell_type": "code",
   "execution_count": 5,
   "metadata": {
    "collapsed": true
   },
   "outputs": [],
   "source": [
    "# Theano\n",
    "# Theano Numerical computation library can run also in GPU\n",
    "# GPU is much more computation and process more parallel and Floating Point operations(FLOPS)\n",
    "# Developed by University of Montreal\n",
    "\n",
    "# Tensor Flow - Developed by google deepmind\n",
    "# Keras - wraps both Tensorflow and Theano\n"
   ]
  },
  {
   "cell_type": "code",
   "execution_count": 6,
   "metadata": {},
   "outputs": [
    {
     "name": "stderr",
     "output_type": "stream",
     "text": [
      "C:\\Users\\jayyanar\\Anaconda3\\lib\\site-packages\\sklearn\\cross_validation.py:41: DeprecationWarning: This module was deprecated in version 0.18 in favor of the model_selection module into which all the refactored classes and functions are moved. Also note that the interface of the new CV iterators are different from that of this module. This module will be removed in 0.20.\n",
      "  \"This module will be removed in 0.20.\", DeprecationWarning)\n"
     ]
    }
   ],
   "source": [
    "# Import Libraries\n",
    "\n",
    "import numpy as np\n",
    "import pandas as pd\n",
    "from sklearn.cross_validation import train_test_split\n",
    "import matplotlib.pyplot as plt"
   ]
  },
  {
   "cell_type": "code",
   "execution_count": 7,
   "metadata": {},
   "outputs": [
    {
     "data": {
      "text/html": [
       "<div>\n",
       "<style>\n",
       "    .dataframe thead tr:only-child th {\n",
       "        text-align: right;\n",
       "    }\n",
       "\n",
       "    .dataframe thead th {\n",
       "        text-align: left;\n",
       "    }\n",
       "\n",
       "    .dataframe tbody tr th {\n",
       "        vertical-align: top;\n",
       "    }\n",
       "</style>\n",
       "<table border=\"1\" class=\"dataframe\">\n",
       "  <thead>\n",
       "    <tr style=\"text-align: right;\">\n",
       "      <th></th>\n",
       "      <th>RowNumber</th>\n",
       "      <th>CustomerId</th>\n",
       "      <th>Surname</th>\n",
       "      <th>CreditScore</th>\n",
       "      <th>Geography</th>\n",
       "      <th>Gender</th>\n",
       "      <th>Age</th>\n",
       "      <th>Tenure</th>\n",
       "      <th>Balance</th>\n",
       "      <th>NumOfProducts</th>\n",
       "      <th>HasCrCard</th>\n",
       "      <th>IsActiveMember</th>\n",
       "      <th>EstimatedSalary</th>\n",
       "      <th>Exited</th>\n",
       "    </tr>\n",
       "  </thead>\n",
       "  <tbody>\n",
       "    <tr>\n",
       "      <th>0</th>\n",
       "      <td>1</td>\n",
       "      <td>15634602</td>\n",
       "      <td>Hargrave</td>\n",
       "      <td>619</td>\n",
       "      <td>France</td>\n",
       "      <td>Female</td>\n",
       "      <td>42</td>\n",
       "      <td>2</td>\n",
       "      <td>0.00</td>\n",
       "      <td>1</td>\n",
       "      <td>1</td>\n",
       "      <td>1</td>\n",
       "      <td>101348.88</td>\n",
       "      <td>1</td>\n",
       "    </tr>\n",
       "    <tr>\n",
       "      <th>1</th>\n",
       "      <td>2</td>\n",
       "      <td>15647311</td>\n",
       "      <td>Hill</td>\n",
       "      <td>608</td>\n",
       "      <td>Spain</td>\n",
       "      <td>Female</td>\n",
       "      <td>41</td>\n",
       "      <td>1</td>\n",
       "      <td>83807.86</td>\n",
       "      <td>1</td>\n",
       "      <td>0</td>\n",
       "      <td>1</td>\n",
       "      <td>112542.58</td>\n",
       "      <td>0</td>\n",
       "    </tr>\n",
       "    <tr>\n",
       "      <th>2</th>\n",
       "      <td>3</td>\n",
       "      <td>15619304</td>\n",
       "      <td>Onio</td>\n",
       "      <td>502</td>\n",
       "      <td>France</td>\n",
       "      <td>Female</td>\n",
       "      <td>42</td>\n",
       "      <td>8</td>\n",
       "      <td>159660.80</td>\n",
       "      <td>3</td>\n",
       "      <td>1</td>\n",
       "      <td>0</td>\n",
       "      <td>113931.57</td>\n",
       "      <td>1</td>\n",
       "    </tr>\n",
       "    <tr>\n",
       "      <th>3</th>\n",
       "      <td>4</td>\n",
       "      <td>15701354</td>\n",
       "      <td>Boni</td>\n",
       "      <td>699</td>\n",
       "      <td>France</td>\n",
       "      <td>Female</td>\n",
       "      <td>39</td>\n",
       "      <td>1</td>\n",
       "      <td>0.00</td>\n",
       "      <td>2</td>\n",
       "      <td>0</td>\n",
       "      <td>0</td>\n",
       "      <td>93826.63</td>\n",
       "      <td>0</td>\n",
       "    </tr>\n",
       "    <tr>\n",
       "      <th>4</th>\n",
       "      <td>5</td>\n",
       "      <td>15737888</td>\n",
       "      <td>Mitchell</td>\n",
       "      <td>850</td>\n",
       "      <td>Spain</td>\n",
       "      <td>Female</td>\n",
       "      <td>43</td>\n",
       "      <td>2</td>\n",
       "      <td>125510.82</td>\n",
       "      <td>1</td>\n",
       "      <td>1</td>\n",
       "      <td>1</td>\n",
       "      <td>79084.10</td>\n",
       "      <td>0</td>\n",
       "    </tr>\n",
       "    <tr>\n",
       "      <th>5</th>\n",
       "      <td>6</td>\n",
       "      <td>15574012</td>\n",
       "      <td>Chu</td>\n",
       "      <td>645</td>\n",
       "      <td>Spain</td>\n",
       "      <td>Male</td>\n",
       "      <td>44</td>\n",
       "      <td>8</td>\n",
       "      <td>113755.78</td>\n",
       "      <td>2</td>\n",
       "      <td>1</td>\n",
       "      <td>0</td>\n",
       "      <td>149756.71</td>\n",
       "      <td>1</td>\n",
       "    </tr>\n",
       "    <tr>\n",
       "      <th>6</th>\n",
       "      <td>7</td>\n",
       "      <td>15592531</td>\n",
       "      <td>Bartlett</td>\n",
       "      <td>822</td>\n",
       "      <td>France</td>\n",
       "      <td>Male</td>\n",
       "      <td>50</td>\n",
       "      <td>7</td>\n",
       "      <td>0.00</td>\n",
       "      <td>2</td>\n",
       "      <td>1</td>\n",
       "      <td>1</td>\n",
       "      <td>10062.80</td>\n",
       "      <td>0</td>\n",
       "    </tr>\n",
       "    <tr>\n",
       "      <th>7</th>\n",
       "      <td>8</td>\n",
       "      <td>15656148</td>\n",
       "      <td>Obinna</td>\n",
       "      <td>376</td>\n",
       "      <td>Germany</td>\n",
       "      <td>Female</td>\n",
       "      <td>29</td>\n",
       "      <td>4</td>\n",
       "      <td>115046.74</td>\n",
       "      <td>4</td>\n",
       "      <td>1</td>\n",
       "      <td>0</td>\n",
       "      <td>119346.88</td>\n",
       "      <td>1</td>\n",
       "    </tr>\n",
       "    <tr>\n",
       "      <th>8</th>\n",
       "      <td>9</td>\n",
       "      <td>15792365</td>\n",
       "      <td>He</td>\n",
       "      <td>501</td>\n",
       "      <td>France</td>\n",
       "      <td>Male</td>\n",
       "      <td>44</td>\n",
       "      <td>4</td>\n",
       "      <td>142051.07</td>\n",
       "      <td>2</td>\n",
       "      <td>0</td>\n",
       "      <td>1</td>\n",
       "      <td>74940.50</td>\n",
       "      <td>0</td>\n",
       "    </tr>\n",
       "    <tr>\n",
       "      <th>9</th>\n",
       "      <td>10</td>\n",
       "      <td>15592389</td>\n",
       "      <td>H?</td>\n",
       "      <td>684</td>\n",
       "      <td>France</td>\n",
       "      <td>Male</td>\n",
       "      <td>27</td>\n",
       "      <td>2</td>\n",
       "      <td>134603.88</td>\n",
       "      <td>1</td>\n",
       "      <td>1</td>\n",
       "      <td>1</td>\n",
       "      <td>71725.73</td>\n",
       "      <td>0</td>\n",
       "    </tr>\n",
       "    <tr>\n",
       "      <th>10</th>\n",
       "      <td>11</td>\n",
       "      <td>15767821</td>\n",
       "      <td>Bearce</td>\n",
       "      <td>528</td>\n",
       "      <td>France</td>\n",
       "      <td>Male</td>\n",
       "      <td>31</td>\n",
       "      <td>6</td>\n",
       "      <td>102016.72</td>\n",
       "      <td>2</td>\n",
       "      <td>0</td>\n",
       "      <td>0</td>\n",
       "      <td>80181.12</td>\n",
       "      <td>0</td>\n",
       "    </tr>\n",
       "    <tr>\n",
       "      <th>11</th>\n",
       "      <td>12</td>\n",
       "      <td>15737173</td>\n",
       "      <td>Andrews</td>\n",
       "      <td>497</td>\n",
       "      <td>Spain</td>\n",
       "      <td>Male</td>\n",
       "      <td>24</td>\n",
       "      <td>3</td>\n",
       "      <td>0.00</td>\n",
       "      <td>2</td>\n",
       "      <td>1</td>\n",
       "      <td>0</td>\n",
       "      <td>76390.01</td>\n",
       "      <td>0</td>\n",
       "    </tr>\n",
       "    <tr>\n",
       "      <th>12</th>\n",
       "      <td>13</td>\n",
       "      <td>15632264</td>\n",
       "      <td>Kay</td>\n",
       "      <td>476</td>\n",
       "      <td>France</td>\n",
       "      <td>Female</td>\n",
       "      <td>34</td>\n",
       "      <td>10</td>\n",
       "      <td>0.00</td>\n",
       "      <td>2</td>\n",
       "      <td>1</td>\n",
       "      <td>0</td>\n",
       "      <td>26260.98</td>\n",
       "      <td>0</td>\n",
       "    </tr>\n",
       "    <tr>\n",
       "      <th>13</th>\n",
       "      <td>14</td>\n",
       "      <td>15691483</td>\n",
       "      <td>Chin</td>\n",
       "      <td>549</td>\n",
       "      <td>France</td>\n",
       "      <td>Female</td>\n",
       "      <td>25</td>\n",
       "      <td>5</td>\n",
       "      <td>0.00</td>\n",
       "      <td>2</td>\n",
       "      <td>0</td>\n",
       "      <td>0</td>\n",
       "      <td>190857.79</td>\n",
       "      <td>0</td>\n",
       "    </tr>\n",
       "    <tr>\n",
       "      <th>14</th>\n",
       "      <td>15</td>\n",
       "      <td>15600882</td>\n",
       "      <td>Scott</td>\n",
       "      <td>635</td>\n",
       "      <td>Spain</td>\n",
       "      <td>Female</td>\n",
       "      <td>35</td>\n",
       "      <td>7</td>\n",
       "      <td>0.00</td>\n",
       "      <td>2</td>\n",
       "      <td>1</td>\n",
       "      <td>1</td>\n",
       "      <td>65951.65</td>\n",
       "      <td>0</td>\n",
       "    </tr>\n",
       "    <tr>\n",
       "      <th>15</th>\n",
       "      <td>16</td>\n",
       "      <td>15643966</td>\n",
       "      <td>Goforth</td>\n",
       "      <td>616</td>\n",
       "      <td>Germany</td>\n",
       "      <td>Male</td>\n",
       "      <td>45</td>\n",
       "      <td>3</td>\n",
       "      <td>143129.41</td>\n",
       "      <td>2</td>\n",
       "      <td>0</td>\n",
       "      <td>1</td>\n",
       "      <td>64327.26</td>\n",
       "      <td>0</td>\n",
       "    </tr>\n",
       "    <tr>\n",
       "      <th>16</th>\n",
       "      <td>17</td>\n",
       "      <td>15737452</td>\n",
       "      <td>Romeo</td>\n",
       "      <td>653</td>\n",
       "      <td>Germany</td>\n",
       "      <td>Male</td>\n",
       "      <td>58</td>\n",
       "      <td>1</td>\n",
       "      <td>132602.88</td>\n",
       "      <td>1</td>\n",
       "      <td>1</td>\n",
       "      <td>0</td>\n",
       "      <td>5097.67</td>\n",
       "      <td>1</td>\n",
       "    </tr>\n",
       "    <tr>\n",
       "      <th>17</th>\n",
       "      <td>18</td>\n",
       "      <td>15788218</td>\n",
       "      <td>Henderson</td>\n",
       "      <td>549</td>\n",
       "      <td>Spain</td>\n",
       "      <td>Female</td>\n",
       "      <td>24</td>\n",
       "      <td>9</td>\n",
       "      <td>0.00</td>\n",
       "      <td>2</td>\n",
       "      <td>1</td>\n",
       "      <td>1</td>\n",
       "      <td>14406.41</td>\n",
       "      <td>0</td>\n",
       "    </tr>\n",
       "    <tr>\n",
       "      <th>18</th>\n",
       "      <td>19</td>\n",
       "      <td>15661507</td>\n",
       "      <td>Muldrow</td>\n",
       "      <td>587</td>\n",
       "      <td>Spain</td>\n",
       "      <td>Male</td>\n",
       "      <td>45</td>\n",
       "      <td>6</td>\n",
       "      <td>0.00</td>\n",
       "      <td>1</td>\n",
       "      <td>0</td>\n",
       "      <td>0</td>\n",
       "      <td>158684.81</td>\n",
       "      <td>0</td>\n",
       "    </tr>\n",
       "    <tr>\n",
       "      <th>19</th>\n",
       "      <td>20</td>\n",
       "      <td>15568982</td>\n",
       "      <td>Hao</td>\n",
       "      <td>726</td>\n",
       "      <td>France</td>\n",
       "      <td>Female</td>\n",
       "      <td>24</td>\n",
       "      <td>6</td>\n",
       "      <td>0.00</td>\n",
       "      <td>2</td>\n",
       "      <td>1</td>\n",
       "      <td>1</td>\n",
       "      <td>54724.03</td>\n",
       "      <td>0</td>\n",
       "    </tr>\n",
       "  </tbody>\n",
       "</table>\n",
       "</div>"
      ],
      "text/plain": [
       "    RowNumber  CustomerId    Surname  CreditScore Geography  Gender  Age  \\\n",
       "0           1    15634602   Hargrave          619    France  Female   42   \n",
       "1           2    15647311       Hill          608     Spain  Female   41   \n",
       "2           3    15619304       Onio          502    France  Female   42   \n",
       "3           4    15701354       Boni          699    France  Female   39   \n",
       "4           5    15737888   Mitchell          850     Spain  Female   43   \n",
       "5           6    15574012        Chu          645     Spain    Male   44   \n",
       "6           7    15592531   Bartlett          822    France    Male   50   \n",
       "7           8    15656148     Obinna          376   Germany  Female   29   \n",
       "8           9    15792365         He          501    France    Male   44   \n",
       "9          10    15592389         H?          684    France    Male   27   \n",
       "10         11    15767821     Bearce          528    France    Male   31   \n",
       "11         12    15737173    Andrews          497     Spain    Male   24   \n",
       "12         13    15632264        Kay          476    France  Female   34   \n",
       "13         14    15691483       Chin          549    France  Female   25   \n",
       "14         15    15600882      Scott          635     Spain  Female   35   \n",
       "15         16    15643966    Goforth          616   Germany    Male   45   \n",
       "16         17    15737452      Romeo          653   Germany    Male   58   \n",
       "17         18    15788218  Henderson          549     Spain  Female   24   \n",
       "18         19    15661507    Muldrow          587     Spain    Male   45   \n",
       "19         20    15568982        Hao          726    France  Female   24   \n",
       "\n",
       "    Tenure    Balance  NumOfProducts  HasCrCard  IsActiveMember  \\\n",
       "0        2       0.00              1          1               1   \n",
       "1        1   83807.86              1          0               1   \n",
       "2        8  159660.80              3          1               0   \n",
       "3        1       0.00              2          0               0   \n",
       "4        2  125510.82              1          1               1   \n",
       "5        8  113755.78              2          1               0   \n",
       "6        7       0.00              2          1               1   \n",
       "7        4  115046.74              4          1               0   \n",
       "8        4  142051.07              2          0               1   \n",
       "9        2  134603.88              1          1               1   \n",
       "10       6  102016.72              2          0               0   \n",
       "11       3       0.00              2          1               0   \n",
       "12      10       0.00              2          1               0   \n",
       "13       5       0.00              2          0               0   \n",
       "14       7       0.00              2          1               1   \n",
       "15       3  143129.41              2          0               1   \n",
       "16       1  132602.88              1          1               0   \n",
       "17       9       0.00              2          1               1   \n",
       "18       6       0.00              1          0               0   \n",
       "19       6       0.00              2          1               1   \n",
       "\n",
       "    EstimatedSalary  Exited  \n",
       "0         101348.88       1  \n",
       "1         112542.58       0  \n",
       "2         113931.57       1  \n",
       "3          93826.63       0  \n",
       "4          79084.10       0  \n",
       "5         149756.71       1  \n",
       "6          10062.80       0  \n",
       "7         119346.88       1  \n",
       "8          74940.50       0  \n",
       "9          71725.73       0  \n",
       "10         80181.12       0  \n",
       "11         76390.01       0  \n",
       "12         26260.98       0  \n",
       "13        190857.79       0  \n",
       "14         65951.65       0  \n",
       "15         64327.26       0  \n",
       "16          5097.67       1  \n",
       "17         14406.41       0  \n",
       "18        158684.81       0  \n",
       "19         54724.03       0  "
      ]
     },
     "execution_count": 7,
     "metadata": {},
     "output_type": "execute_result"
    }
   ],
   "source": [
    "dataset = pd.read_csv('Churn_Modelling.csv')\n",
    "dataset.head(20)"
   ]
  },
  {
   "cell_type": "code",
   "execution_count": 57,
   "metadata": {},
   "outputs": [
    {
     "data": {
      "text/plain": [
       "2037"
      ]
     },
     "execution_count": 57,
     "metadata": {},
     "output_type": "execute_result"
    }
   ],
   "source": [
    "dataset.iloc[:,-1].sum()"
   ]
  },
  {
   "cell_type": "code",
   "execution_count": 8,
   "metadata": {},
   "outputs": [
    {
     "data": {
      "text/plain": [
       "(10000, 14)"
      ]
     },
     "execution_count": 8,
     "metadata": {},
     "output_type": "execute_result"
    }
   ],
   "source": [
    "dataset.shape"
   ]
  },
  {
   "cell_type": "code",
   "execution_count": 9,
   "metadata": {},
   "outputs": [
    {
     "data": {
      "text/plain": [
       "Index(['RowNumber', 'CustomerId', 'Surname', 'CreditScore', 'Geography',\n",
       "       'Gender', 'Age', 'Tenure', 'Balance', 'NumOfProducts', 'HasCrCard',\n",
       "       'IsActiveMember', 'EstimatedSalary', 'Exited'],\n",
       "      dtype='object')"
      ]
     },
     "execution_count": 9,
     "metadata": {},
     "output_type": "execute_result"
    }
   ],
   "source": [
    "dataset.columns"
   ]
  },
  {
   "cell_type": "code",
   "execution_count": 10,
   "metadata": {
    "collapsed": true
   },
   "outputs": [],
   "source": [
    "# Select the independend variable impact on Churn or predict value Y^\n",
    "# Select the dataset\n",
    "X = dataset.iloc[:,3:13].values\n",
    "y = dataset.iloc[:,-1].values"
   ]
  },
  {
   "cell_type": "code",
   "execution_count": 11,
   "metadata": {},
   "outputs": [
    {
     "data": {
      "text/plain": [
       "array([[619, 'France', 'Female', ..., 1, 1, 101348.88],\n",
       "       [608, 'Spain', 'Female', ..., 0, 1, 112542.58],\n",
       "       [502, 'France', 'Female', ..., 1, 0, 113931.57],\n",
       "       ..., \n",
       "       [709, 'France', 'Female', ..., 0, 1, 42085.58],\n",
       "       [772, 'Germany', 'Male', ..., 1, 0, 92888.52],\n",
       "       [792, 'France', 'Female', ..., 1, 0, 38190.78]], dtype=object)"
      ]
     },
     "execution_count": 11,
     "metadata": {},
     "output_type": "execute_result"
    }
   ],
   "source": [
    "X"
   ]
  },
  {
   "cell_type": "code",
   "execution_count": 12,
   "metadata": {
    "collapsed": true
   },
   "outputs": [],
   "source": [
    "# Perform the encode the categorical variable lies on independed variable X ( Country and Gender)\n",
    "from sklearn.preprocessing import LabelEncoder, OneHotEncoder\n",
    "label_encoder_X_1 = LabelEncoder()\n",
    "X[:,1] = label_encoder_X_1.fit_transform(X[:,1])\n",
    "label_encoder_X_2 = LabelEncoder()\n",
    "X[:,2] = label_encoder_X_2.fit_transform(X[:,2])"
   ]
  },
  {
   "cell_type": "code",
   "execution_count": 13,
   "metadata": {
    "collapsed": true
   },
   "outputs": [],
   "source": [
    "# Need to create a dummy variable for Country since we have three country, No need for gender since we have only two variable\n",
    "\n",
    "onehot_encoder = OneHotEncoder(categorical_features=[1])\n",
    "X = onehot_encoder.fit_transform(X).toarray()"
   ]
  },
  {
   "cell_type": "code",
   "execution_count": 14,
   "metadata": {},
   "outputs": [
    {
     "data": {
      "text/plain": [
       "12"
      ]
     },
     "execution_count": 14,
     "metadata": {},
     "output_type": "execute_result"
    }
   ],
   "source": [
    "len(X[0])"
   ]
  },
  {
   "cell_type": "code",
   "execution_count": 15,
   "metadata": {
    "collapsed": true
   },
   "outputs": [],
   "source": [
    "#Remove the extra dummy variable \n",
    "X = X[:,1:]"
   ]
  },
  {
   "cell_type": "code",
   "execution_count": 16,
   "metadata": {},
   "outputs": [
    {
     "data": {
      "text/plain": [
       "11"
      ]
     },
     "execution_count": 16,
     "metadata": {},
     "output_type": "execute_result"
    }
   ],
   "source": [
    "len(X[0])"
   ]
  },
  {
   "cell_type": "code",
   "execution_count": 17,
   "metadata": {
    "collapsed": true
   },
   "outputs": [],
   "source": [
    "# Split the dataset into Training set and Testing Set\n",
    "from sklearn.model_selection import train_test_split\n",
    "X_train,X_test,y_train,y_test = train_test_split(X, y, test_size=0.20, random_state=0)"
   ]
  },
  {
   "cell_type": "code",
   "execution_count": 18,
   "metadata": {
    "collapsed": true
   },
   "outputs": [],
   "source": [
    "# We need to apply Feature scaling\n",
    "\n",
    "from sklearn.preprocessing import StandardScaler\n",
    "sc = StandardScaler()\n",
    "X_train = sc.fit_transform(X_train)\n",
    "X_test = sc.transform(X_test)"
   ]
  },
  {
   "cell_type": "code",
   "execution_count": 19,
   "metadata": {},
   "outputs": [
    {
     "data": {
      "text/plain": [
       "array([[-0.5698444 ,  1.74309049,  0.16958176, ...,  0.64259497,\n",
       "        -1.03227043,  1.10643166],\n",
       "       [ 1.75486502, -0.57369368, -2.30455945, ...,  0.64259497,\n",
       "         0.9687384 , -0.74866447],\n",
       "       [-0.5698444 , -0.57369368, -1.19119591, ...,  0.64259497,\n",
       "        -1.03227043,  1.48533467],\n",
       "       ..., \n",
       "       [-0.5698444 , -0.57369368,  0.9015152 , ...,  0.64259497,\n",
       "        -1.03227043,  1.41231994],\n",
       "       [-0.5698444 ,  1.74309049, -0.62420521, ...,  0.64259497,\n",
       "         0.9687384 ,  0.84432121],\n",
       "       [ 1.75486502, -0.57369368, -0.28401079, ...,  0.64259497,\n",
       "        -1.03227043,  0.32472465]])"
      ]
     },
     "execution_count": 19,
     "metadata": {},
     "output_type": "execute_result"
    }
   ],
   "source": [
    "X_train"
   ]
  },
  {
   "cell_type": "code",
   "execution_count": 20,
   "metadata": {},
   "outputs": [
    {
     "data": {
      "text/plain": [
       "array([ 1.75486502, -0.57369368, -0.55204276, -1.09168714, -0.36890377,\n",
       "        1.04473698,  0.8793029 , -0.92159124,  0.64259497,  0.9687384 ,\n",
       "        1.61085707])"
      ]
     },
     "execution_count": 20,
     "metadata": {},
     "output_type": "execute_result"
    }
   ],
   "source": [
    "X_test[0]"
   ]
  },
  {
   "cell_type": "code",
   "execution_count": 22,
   "metadata": {},
   "outputs": [
    {
     "name": "stderr",
     "output_type": "stream",
     "text": [
      "Using TensorFlow backend.\n"
     ]
    }
   ],
   "source": [
    "# Part 2 - Letz do the ANN\n",
    "\n",
    "# Import the keras libraries and packages\n",
    "import keras"
   ]
  },
  {
   "cell_type": "code",
   "execution_count": 23,
   "metadata": {
    "collapsed": true
   },
   "outputs": [],
   "source": [
    "# Import the models\n",
    "#Module to Sequencial Model - Intialize the Neural netwoek\n",
    "from keras.models import Sequential\n",
    "\n",
    "#Module to Dense - Build the Layer of ANN\n",
    "from keras.layers import Dense"
   ]
  },
  {
   "cell_type": "code",
   "execution_count": 33,
   "metadata": {
    "collapsed": true
   },
   "outputs": [],
   "source": [
    "# Intializing the ANN\n",
    "classifier = Sequential()"
   ]
  },
  {
   "cell_type": "code",
   "execution_count": 34,
   "metadata": {},
   "outputs": [
    {
     "name": "stdout",
     "output_type": "stream",
     "text": [
      "The number of independed Variable (Column)(input_dim) in X_test is : -------> 11\n",
      "Output Dim is half of input variable in X_test is : -------> 5.5\n"
     ]
    }
   ],
   "source": [
    "#len(X_test[0])\n",
    "\n",
    "print (\"The number of independed Variable (Column)(input_dim) in X_test is : -------> {}\".format(len(X_test[0])))\n",
    "print (\"Output Dim is half of input variable in X_test is : -------> {}\".format(len(X_test[0])/2))"
   ]
  },
  {
   "cell_type": "code",
   "execution_count": 35,
   "metadata": {},
   "outputs": [
    {
     "name": "stderr",
     "output_type": "stream",
     "text": [
      "C:\\Users\\jayyanar\\Anaconda3\\lib\\site-packages\\ipykernel\\__main__.py:3: UserWarning: Update your `Dense` call to the Keras 2 API: `Dense(input_dim=11, activation=\"relu\", units=6, kernel_initializer=\"uniform\")`\n",
      "  app.launch_new_instance()\n"
     ]
    }
   ],
   "source": [
    "# Build the Input layer and first Hidden layer\n",
    "#https://keras.io/getting-started/sequential-model-guide/\n",
    "classifier.add(Dense(input_dim = 11, output_dim = 6, init = 'uniform', activation='relu'))"
   ]
  },
  {
   "cell_type": "code",
   "execution_count": 36,
   "metadata": {},
   "outputs": [
    {
     "name": "stderr",
     "output_type": "stream",
     "text": [
      "C:\\Users\\jayyanar\\Anaconda3\\lib\\site-packages\\ipykernel\\__main__.py:2: UserWarning: Update your `Dense` call to the Keras 2 API: `Dense(activation=\"relu\", units=6, kernel_initializer=\"uniform\")`\n",
      "  from ipykernel import kernelapp as app\n"
     ]
    }
   ],
   "source": [
    "# Add another hidden layer\n",
    "classifier.add(Dense(output_dim = 6, init = 'uniform', activation='relu'))"
   ]
  },
  {
   "cell_type": "code",
   "execution_count": 37,
   "metadata": {},
   "outputs": [
    {
     "name": "stderr",
     "output_type": "stream",
     "text": [
      "C:\\Users\\jayyanar\\Anaconda3\\lib\\site-packages\\ipykernel\\__main__.py:3: UserWarning: Update your `Dense` call to the Keras 2 API: `Dense(activation=\"sigmoid\", units=1, kernel_initializer=\"uniform\")`\n",
      "  app.launch_new_instance()\n"
     ]
    }
   ],
   "source": [
    "# Add  final and output layer - Since the output is binary outcome , so we have only on enode to give a result 1 or 0\n",
    "# If you need probabilty - Use Sigmoid function\n",
    "classifier.add(Dense(output_dim = 1, init = 'uniform', activation='sigmoid'))"
   ]
  },
  {
   "cell_type": "code",
   "execution_count": 39,
   "metadata": {
    "collapsed": true
   },
   "outputs": [],
   "source": [
    "# Compile the ANN\n",
    "# https://keras.io/getting-started/sequential-model-guide/#compilation\n",
    "# https://keras.io/optimizers/#adam for \n",
    "#https://keras.io/losses/#binary_crossentropy\n",
    "classifier.compile(optimizer='adam', loss = 'binary_crossentropy', metrics = ['accuracy'])"
   ]
  },
  {
   "cell_type": "code",
   "execution_count": 40,
   "metadata": {},
   "outputs": [
    {
     "name": "stderr",
     "output_type": "stream",
     "text": [
      "C:\\Users\\jayyanar\\Anaconda3\\lib\\site-packages\\keras\\models.py:942: UserWarning: The `nb_epoch` argument in `fit` has been renamed `epochs`.\n",
      "  warnings.warn('The `nb_epoch` argument in `fit` '\n"
     ]
    },
    {
     "name": "stdout",
     "output_type": "stream",
     "text": [
      "Epoch 1/100\n",
      "8000/8000 [==============================] - 4s 543us/step - loss: 0.4879 - acc: 0.8014\n",
      "Epoch 2/100\n",
      "8000/8000 [==============================] - 3s 388us/step - loss: 0.4059 - acc: 0.8239\n",
      "Epoch 3/100\n",
      "8000/8000 [==============================] - 3s 391us/step - loss: 0.3922 - acc: 0.8284\n",
      "Epoch 4/100\n",
      "8000/8000 [==============================] - 3s 432us/step - loss: 0.3839 - acc: 0.8289\n",
      "Epoch 5/100\n",
      "8000/8000 [==============================] - 3s 378us/step - loss: 0.3779 - acc: 0.8331\n",
      "Epoch 6/100\n",
      "8000/8000 [==============================] - 3s 372us/step - loss: 0.3730 - acc: 0.8421\n",
      "Epoch 7/100\n",
      "8000/8000 [==============================] - 3s 372us/step - loss: 0.3700 - acc: 0.8456\n",
      "Epoch 8/100\n",
      "8000/8000 [==============================] - 3s 369us/step - loss: 0.3669 - acc: 0.8476\n",
      "Epoch 9/100\n",
      "8000/8000 [==============================] - 3s 381us/step - loss: 0.3638 - acc: 0.8477\n",
      "Epoch 10/100\n",
      "8000/8000 [==============================] - 3s 369us/step - loss: 0.3616 - acc: 0.8511\n",
      "Epoch 11/100\n",
      "8000/8000 [==============================] - 3s 374us/step - loss: 0.3597 - acc: 0.8515\n",
      "Epoch 12/100\n",
      "8000/8000 [==============================] - 3s 370us/step - loss: 0.3569 - acc: 0.8520\n",
      "Epoch 13/100\n",
      "8000/8000 [==============================] - 3s 412us/step - loss: 0.3558 - acc: 0.8540\n",
      "Epoch 14/100\n",
      "8000/8000 [==============================] - 3s 401us/step - loss: 0.3542 - acc: 0.8550\n",
      "Epoch 15/100\n",
      "8000/8000 [==============================] - 2s 251us/step - loss: 0.3515 - acc: 0.8547\n",
      "Epoch 16/100\n",
      "8000/8000 [==============================] - 2s 208us/step - loss: 0.3498 - acc: 0.8552\n",
      "Epoch 17/100\n",
      "8000/8000 [==============================] - 2s 222us/step - loss: 0.3489 - acc: 0.8564\n",
      "Epoch 18/100\n",
      "8000/8000 [==============================] - 2s 222us/step - loss: 0.3491 - acc: 0.8580\n",
      "Epoch 19/100\n",
      "8000/8000 [==============================] - 2s 188us/step - loss: 0.3485 - acc: 0.8569\n",
      "Epoch 20/100\n",
      "8000/8000 [==============================] - 2s 200us/step - loss: 0.3478 - acc: 0.8586\n",
      "Epoch 21/100\n",
      "8000/8000 [==============================] - 2s 192us/step - loss: 0.3473 - acc: 0.8595\n",
      "Epoch 22/100\n",
      "8000/8000 [==============================] - 2s 192us/step - loss: 0.3454 - acc: 0.8587\n",
      "Epoch 23/100\n",
      "8000/8000 [==============================] - 2s 188us/step - loss: 0.3457 - acc: 0.8580\n",
      "Epoch 24/100\n",
      "8000/8000 [==============================] - 1s 185us/step - loss: 0.3447 - acc: 0.8586\n",
      "Epoch 25/100\n",
      "8000/8000 [==============================] - 1s 180us/step - loss: 0.3448 - acc: 0.8599\n",
      "Epoch 26/100\n",
      "8000/8000 [==============================] - 1s 181us/step - loss: 0.3437 - acc: 0.8590\n",
      "Epoch 27/100\n",
      "8000/8000 [==============================] - 2s 197us/step - loss: 0.3438 - acc: 0.8570\n",
      "Epoch 28/100\n",
      "8000/8000 [==============================] - 2s 202us/step - loss: 0.3430 - acc: 0.8590\n",
      "Epoch 29/100\n",
      "8000/8000 [==============================] - 2s 218us/step - loss: 0.3431 - acc: 0.8607\n",
      "Epoch 30/100\n",
      "8000/8000 [==============================] - 2s 221us/step - loss: 0.3433 - acc: 0.8594\n",
      "Epoch 31/100\n",
      "8000/8000 [==============================] - 2s 213us/step - loss: 0.3428 - acc: 0.8606\n",
      "Epoch 32/100\n",
      "8000/8000 [==============================] - 2s 205us/step - loss: 0.3420 - acc: 0.8595\n",
      "Epoch 33/100\n",
      "8000/8000 [==============================] - 2s 217us/step - loss: 0.3411 - acc: 0.8585\n",
      "Epoch 34/100\n",
      "8000/8000 [==============================] - 2s 273us/step - loss: 0.3414 - acc: 0.8601\n",
      "Epoch 35/100\n",
      "8000/8000 [==============================] - 2s 231us/step - loss: 0.3412 - acc: 0.8595\n",
      "Epoch 36/100\n",
      "8000/8000 [==============================] - 2s 225us/step - loss: 0.3395 - acc: 0.8614\n",
      "Epoch 37/100\n",
      "8000/8000 [==============================] - 2s 224us/step - loss: 0.3402 - acc: 0.8595\n",
      "Epoch 38/100\n",
      "8000/8000 [==============================] - 2s 266us/step - loss: 0.3407 - acc: 0.8581\n",
      "Epoch 39/100\n",
      "8000/8000 [==============================] - 2s 268us/step - loss: 0.3399 - acc: 0.8594\n",
      "Epoch 40/100\n",
      "8000/8000 [==============================] - 2s 202us/step - loss: 0.3406 - acc: 0.8617\n",
      "Epoch 41/100\n",
      "8000/8000 [==============================] - 2s 206us/step - loss: 0.3399 - acc: 0.8599\n",
      "Epoch 42/100\n",
      "8000/8000 [==============================] - 2s 204us/step - loss: 0.3395 - acc: 0.8592\n",
      "Epoch 43/100\n",
      "8000/8000 [==============================] - 2s 203us/step - loss: 0.3390 - acc: 0.8611\n",
      "Epoch 44/100\n",
      "8000/8000 [==============================] - 2s 202us/step - loss: 0.3390 - acc: 0.8626\n",
      "Epoch 45/100\n",
      "8000/8000 [==============================] - 2s 201us/step - loss: 0.3387 - acc: 0.8609 1s - los\n",
      "Epoch 46/100\n",
      "8000/8000 [==============================] - 2s 217us/step - loss: 0.3393 - acc: 0.8617\n",
      "Epoch 47/100\n",
      "8000/8000 [==============================] - 2s 217us/step - loss: 0.3390 - acc: 0.8619\n",
      "Epoch 48/100\n",
      "8000/8000 [==============================] - 2s 202us/step - loss: 0.3380 - acc: 0.8605\n",
      "Epoch 49/100\n",
      "8000/8000 [==============================] - 2s 205us/step - loss: 0.3379 - acc: 0.8615\n",
      "Epoch 50/100\n",
      "8000/8000 [==============================] - 2s 208us/step - loss: 0.3381 - acc: 0.8625\n",
      "Epoch 51/100\n",
      "8000/8000 [==============================] - 2s 205us/step - loss: 0.3377 - acc: 0.8616\n",
      "Epoch 52/100\n",
      "8000/8000 [==============================] - 2s 210us/step - loss: 0.3370 - acc: 0.8612\n",
      "Epoch 53/100\n",
      "8000/8000 [==============================] - 2s 215us/step - loss: 0.3378 - acc: 0.8622\n",
      "Epoch 54/100\n",
      "8000/8000 [==============================] - 2s 223us/step - loss: 0.3378 - acc: 0.8622\n",
      "Epoch 55/100\n",
      "8000/8000 [==============================] - 2s 230us/step - loss: 0.3369 - acc: 0.8616\n",
      "Epoch 56/100\n",
      "8000/8000 [==============================] - 2s 216us/step - loss: 0.3375 - acc: 0.8602\n",
      "Epoch 57/100\n",
      "8000/8000 [==============================] - 2s 211us/step - loss: 0.3362 - acc: 0.8621\n",
      "Epoch 58/100\n",
      "8000/8000 [==============================] - 2s 219us/step - loss: 0.3364 - acc: 0.8642\n",
      "Epoch 59/100\n",
      "8000/8000 [==============================] - 2s 212us/step - loss: 0.3369 - acc: 0.8611\n",
      "Epoch 60/100\n",
      "8000/8000 [==============================] - 2s 218us/step - loss: 0.3367 - acc: 0.8627\n",
      "Epoch 61/100\n",
      "8000/8000 [==============================] - 2s 210us/step - loss: 0.3363 - acc: 0.8620\n",
      "Epoch 62/100\n",
      "8000/8000 [==============================] - 2s 310us/step - loss: 0.3369 - acc: 0.8616\n",
      "Epoch 63/100\n",
      "8000/8000 [==============================] - 5s 563us/step - loss: 0.3357 - acc: 0.8611\n",
      "Epoch 64/100\n",
      "8000/8000 [==============================] - 5s 580us/step - loss: 0.3354 - acc: 0.8626\n",
      "Epoch 65/100\n",
      "8000/8000 [==============================] - 5s 573us/step - loss: 0.3361 - acc: 0.8636\n",
      "Epoch 66/100\n",
      "8000/8000 [==============================] - 5s 575us/step - loss: 0.3357 - acc: 0.8636\n",
      "Epoch 67/100\n",
      "8000/8000 [==============================] - 5s 570us/step - loss: 0.3358 - acc: 0.8621\n",
      "Epoch 68/100\n",
      "8000/8000 [==============================] - 5s 575us/step - loss: 0.3363 - acc: 0.8616\n",
      "Epoch 69/100\n",
      "8000/8000 [==============================] - 3s 398us/step - loss: 0.3358 - acc: 0.8621\n",
      "Epoch 70/100\n",
      "8000/8000 [==============================] - 3s 395us/step - loss: 0.3352 - acc: 0.8642\n",
      "Epoch 71/100\n",
      "8000/8000 [==============================] - 3s 405us/step - loss: 0.3359 - acc: 0.8640\n",
      "Epoch 72/100\n",
      "8000/8000 [==============================] - 3s 396us/step - loss: 0.3354 - acc: 0.8622\n",
      "Epoch 73/100\n",
      "8000/8000 [==============================] - 4s 494us/step - loss: 0.3354 - acc: 0.8635\n",
      "Epoch 74/100\n",
      "8000/8000 [==============================] - 3s 404us/step - loss: 0.3358 - acc: 0.8639\n",
      "Epoch 75/100\n",
      "8000/8000 [==============================] - 3s 394us/step - loss: 0.3344 - acc: 0.8635\n",
      "Epoch 76/100\n",
      "8000/8000 [==============================] - 3s 409us/step - loss: 0.3347 - acc: 0.8641\n",
      "Epoch 77/100\n",
      "8000/8000 [==============================] - 3s 399us/step - loss: 0.3352 - acc: 0.8616\n",
      "Epoch 78/100\n",
      "8000/8000 [==============================] - 3s 397us/step - loss: 0.3347 - acc: 0.8641\n",
      "Epoch 79/100\n",
      "8000/8000 [==============================] - 3s 399us/step - loss: 0.3352 - acc: 0.8655\n",
      "Epoch 80/100\n",
      "8000/8000 [==============================] - 3s 397us/step - loss: 0.3344 - acc: 0.8636\n",
      "Epoch 81/100\n",
      "8000/8000 [==============================] - 3s 397us/step - loss: 0.3340 - acc: 0.8645\n",
      "Epoch 82/100\n"
     ]
    },
    {
     "name": "stdout",
     "output_type": "stream",
     "text": [
      "8000/8000 [==============================] - 5s 642us/step - loss: 0.3330 - acc: 0.8655\n",
      "Epoch 83/100\n",
      "8000/8000 [==============================] - 4s 553us/step - loss: 0.3338 - acc: 0.8632\n",
      "Epoch 84/100\n",
      "8000/8000 [==============================] - 4s 516us/step - loss: 0.3332 - acc: 0.8621\n",
      "Epoch 85/100\n",
      "8000/8000 [==============================] - 4s 557us/step - loss: 0.3346 - acc: 0.8630\n",
      "Epoch 86/100\n",
      "8000/8000 [==============================] - 4s 511us/step - loss: 0.3345 - acc: 0.8644\n",
      "Epoch 87/100\n",
      "8000/8000 [==============================] - 4s 498us/step - loss: 0.3334 - acc: 0.8650\n",
      "Epoch 88/100\n",
      "8000/8000 [==============================] - 5s 667us/step - loss: 0.3346 - acc: 0.8631\n",
      "Epoch 89/100\n",
      "8000/8000 [==============================] - 4s 511us/step - loss: 0.3345 - acc: 0.8620\n",
      "Epoch 90/100\n",
      "8000/8000 [==============================] - 5s 567us/step - loss: 0.3338 - acc: 0.8649\n",
      "Epoch 91/100\n",
      "8000/8000 [==============================] - 4s 544us/step - loss: 0.3341 - acc: 0.8645\n",
      "Epoch 92/100\n",
      "8000/8000 [==============================] - 4s 504us/step - loss: 0.3353 - acc: 0.8602\n",
      "Epoch 93/100\n",
      "8000/8000 [==============================] - 4s 528us/step - loss: 0.3338 - acc: 0.8637\n",
      "Epoch 94/100\n",
      "8000/8000 [==============================] - 6s 718us/step - loss: 0.3339 - acc: 0.8614\n",
      "Epoch 95/100\n",
      "8000/8000 [==============================] - 4s 554us/step - loss: 0.3340 - acc: 0.8607\n",
      "Epoch 96/100\n",
      "8000/8000 [==============================] - 3s 394us/step - loss: 0.3338 - acc: 0.8630\n",
      "Epoch 97/100\n",
      "8000/8000 [==============================] - 5s 587us/step - loss: 0.3324 - acc: 0.8649\n",
      "Epoch 98/100\n",
      "8000/8000 [==============================] - 5s 659us/step - loss: 0.3341 - acc: 0.8635\n",
      "Epoch 99/100\n",
      "8000/8000 [==============================] - 5s 640us/step - loss: 0.3331 - acc: 0.8659\n",
      "Epoch 100/100\n",
      "8000/8000 [==============================] - 4s 543us/step - loss: 0.3331 - acc: 0.8621\n"
     ]
    },
    {
     "data": {
      "text/plain": [
       "<keras.callbacks.History at 0x29d26b3b5f8>"
      ]
     },
     "execution_count": 40,
     "metadata": {},
     "output_type": "execute_result"
    }
   ],
   "source": [
    "# Fit the ANN to the training set\n",
    "classifier.fit(X_train, y_train, batch_size = 10, nb_epoch = 100)"
   ]
  },
  {
   "cell_type": "code",
   "execution_count": 43,
   "metadata": {
    "collapsed": true
   },
   "outputs": [],
   "source": [
    "y_pred = classifier.predict(X_test)"
   ]
  },
  {
   "cell_type": "code",
   "execution_count": 44,
   "metadata": {
    "collapsed": true
   },
   "outputs": [],
   "source": [
    "y_pred = (y_pred > 0.5)"
   ]
  },
  {
   "cell_type": "code",
   "execution_count": 51,
   "metadata": {},
   "outputs": [
    {
     "data": {
      "text/plain": [
       "245"
      ]
     },
     "execution_count": 51,
     "metadata": {},
     "output_type": "execute_result"
    }
   ],
   "source": [
    "y_pred.sum()"
   ]
  },
  {
   "cell_type": "code",
   "execution_count": 45,
   "metadata": {},
   "outputs": [
    {
     "data": {
      "text/plain": [
       "array([[False],\n",
       "       [False],\n",
       "       [False],\n",
       "       ..., \n",
       "       [False],\n",
       "       [False],\n",
       "       [False]], dtype=bool)"
      ]
     },
     "execution_count": 45,
     "metadata": {},
     "output_type": "execute_result"
    }
   ],
   "source": [
    "y_pred"
   ]
  },
  {
   "cell_type": "code",
   "execution_count": 46,
   "metadata": {
    "collapsed": true
   },
   "outputs": [],
   "source": [
    "from sklearn.metrics import confusion_matrix\n",
    "cm_results = confusion_matrix(y_test, y_pred)"
   ]
  },
  {
   "cell_type": "code",
   "execution_count": 47,
   "metadata": {
    "collapsed": true
   },
   "outputs": [],
   "source": [
    "#https://www.kaggle.com/grfiv4/plot-a-confusion-matrix\n",
    "import itertools\n",
    "def plot_confusion_matrix(cm,\n",
    "                          target_names,\n",
    "                          title='Confusion matrix',\n",
    "                          cmap=None,\n",
    "                          normalize=True):\n",
    "\n",
    "    accuracy = np.trace(cm) / float(np.sum(cm))\n",
    "    misclass = 1 - accuracy\n",
    "\n",
    "    if cmap is None:\n",
    "        cmap = plt.get_cmap('Blues')\n",
    "\n",
    "    plt.figure(figsize=(8, 6))\n",
    "    plt.imshow(cm, interpolation='nearest', cmap=cmap)\n",
    "    plt.title(title)\n",
    "    plt.colorbar()\n",
    "\n",
    "    if target_names is not None:\n",
    "        tick_marks = np.arange(len(target_names))\n",
    "        plt.xticks(tick_marks, target_names, rotation=45)\n",
    "        plt.yticks(tick_marks, target_names)\n",
    "\n",
    "    if normalize:\n",
    "        cm = cm.astype('float') / cm.sum(axis=1)[:, np.newaxis]\n",
    "\n",
    "\n",
    "    thresh = cm.max() / 1.5 if normalize else cm.max() / 2\n",
    "    for i, j in itertools.product(range(cm.shape[0]), range(cm.shape[1])):\n",
    "        if normalize:\n",
    "            plt.text(j, i, \"{:0.4f}\".format(cm[i, j]),\n",
    "                     horizontalalignment=\"center\",\n",
    "                     color=\"white\" if cm[i, j] > thresh else \"black\")\n",
    "        else:\n",
    "            plt.text(j, i, \"{:,}\".format(cm[i, j]),\n",
    "                     horizontalalignment=\"center\",\n",
    "                     color=\"white\" if cm[i, j] > thresh else \"black\")\n",
    "\n",
    "\n",
    "    plt.tight_layout()\n",
    "    plt.ylabel('True label')\n",
    "    plt.xlabel('Predicted label\\naccuracy={:0.4f}; misclass={:0.4f}'.format(accuracy, misclass))\n",
    "    plt.show()"
   ]
  },
  {
   "cell_type": "code",
   "execution_count": 52,
   "metadata": {},
   "outputs": [
    {
     "data": {
      "image/png": "[encoded data removed]",
      "text/plain": [
       "<matplotlib.figure.Figure at 0x29d1b23eef0>"
      ]
     },
     "metadata": {},
     "output_type": "display_data"
    }
   ],
   "source": [
    "plot_confusion_matrix(cm           = cm_results, \n",
    "                      normalize    = False,\n",
    "                      target_names = ['Stay in the bank', 'Leave the Bank'],\n",
    "                      title        = \"Confusion Matrix\")"
   ]
  },
  {
   "cell_type": "code",
   "execution_count": null,
   "metadata": {
    "collapsed": true
   },
   "outputs": [],
   "source": []
  }
 ],
 "metadata": {
  "kernelspec": {
   "display_name": "Python [conda env:Anaconda3]",
   "language": "python",
   "name": "conda-env-Anaconda3-py"
  },
  "language_info": {
   "codemirror_mode": {
    "name": "ipython",
    "version": 3
   },
   "file_extension": ".py",
   "mimetype": "text/x-python",
   "name": "python",
   "nbconvert_exporter": "python",
   "pygments_lexer": "ipython3",
   "version": "3.6.3"
  }
 },
 "nbformat": 4,
 "nbformat_minor": 2
}
