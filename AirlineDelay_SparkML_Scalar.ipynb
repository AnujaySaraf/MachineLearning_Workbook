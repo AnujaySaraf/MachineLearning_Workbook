{
    "nbformat_minor": 1, 
    "cells": [
        {
            "execution_count": 1, 
            "cell_type": "code", 
            "metadata": {}, 
            "outputs": [
                {
                    "output_type": "stream", 
                    "name": "stdout", 
                    "text": "total 6629208\r\n-rw-------  1 s7ed-a18f3badb92bc2-a9f6794a31ec users    569231 Mar 24  2013 joda-time-2.0.jar\r\n-rw-------  1 s7ed-a18f3badb92bc2-a9f6794a31ec users 121249243 Aug 22  2014 2007.csv.bz2.1\r\n-rw-------  1 s7ed-a18f3badb92bc2-a9f6794a31ec users 121249243 Aug 22  2014 2007.csv.bz2\r\n-rw-------  1 s7ed-a18f3badb92bc2-a9f6794a31ec users 702878193 Aug 22  2014 2007.csv\r\n-rw-------  1 s7ed-a18f3badb92bc2-a9f6794a31ec users 113753229 Dec  9  2014 2008.csv.bz2.1\r\n-rw-------  1 s7ed-a18f3badb92bc2-a9f6794a31ec users 113753229 Dec  9  2014 2008.csv.bz2\r\n-rw-------  1 s7ed-a18f3badb92bc2-a9f6794a31ec users 689413344 Dec  9  2014 2008.csv\r\ndrwx------ 11 s7ed-a18f3badb92bc2-a9f6794a31ec users      4096 Jul 20 06:55 ..\r\ndrwx------  2 s7ed-a18f3badb92bc2-a9f6794a31ec users      4096 Aug  2 03:08 joda\r\n-rw-------  1 s7ed-a18f3badb92bc2-a9f6794a31ec users      1553 Aug  2 04:00 preprocess1.pig\r\n-rw-------  1 s7ed-a18f3badb92bc2-a9f6794a31ec users     30139 Aug  3 05:45 2007-ord-weather-data.csv\r\n-rw-------  1 s7ed-a18f3badb92bc2-a9f6794a31ec users     30239 Aug  3 05:45 2008-ord-weather-data.csv\r\n-rw-------  1 s7ed-a18f3badb92bc2-a9f6794a31ec users 195112321 Aug  3 14:38 2007.csv.gz\r\ndrwx------  3 s7ed-a18f3badb92bc2-a9f6794a31ec users      4096 Aug  3 14:38 .\r\n-rw-------  1 s7ed-a18f3badb92bc2-a9f6794a31ec users 204704489 Aug  3 14:39 2008.csv.gz\r\n"
                }
            ], 
            "source": "! ls -rlta"
        }, 
        {
            "execution_count": 2, 
            "cell_type": "code", 
            "metadata": {}, 
            "outputs": [
                {
                    "output_type": "stream", 
                    "name": "stderr", 
                    "text": "/usr/local/src/conda3_runtime/home/envs/DSX-Python35-Spark/lib/python3.5/site-packages/IPython/html.py:14: ShimWarning: The `IPython.html` package has been deprecated since IPython 4.0. You should import from `notebook` instead. `IPython.html.widgets` has moved to `ipywidgets`.\n  \"`IPython.html.widgets` has moved to `ipywidgets`.\", ShimWarning)\n"
                }
            ], 
            "source": "# For SQL-type queries (Spark)\nfrom pyspark.sql import SQLContext\nfrom pyspark.sql.types import *\nfrom pyspark.sql import Row\nfrom pyspark.sql.functions import *\n\n# For regression and other possible ML tools (Spark)\nfrom pyspark.mllib.regression import LabeledPoint\nfrom pyspark.mllib.linalg import Vectors\nfrom pyspark.ml.classification import LogisticRegression\nfrom pyspark.ml.param import Param, Params\nfrom pyspark.mllib.classification import LogisticRegressionWithLBFGS, LogisticRegressionModel\nfrom pyspark.mllib.regression import LabeledPoint\nfrom pyspark.mllib.stat import Statistics\n\n\n# Important for managing features  (Spark)\nfrom pyspark.ml.feature import OneHotEncoder, StringIndexer\nfrom pyspark.ml.feature import VectorAssembler\n\n# For displaying and other related IPython tools...\nfrom IPython.display import display\nfrom IPython.html.widgets import interact\n\n# Typycal Python tools\nimport sys\nimport numpy as np\nimport pandas as pd\nimport time\nimport datetime\nimport matplotlib.pyplot as plt\nimport os.path"
        }, 
        {
            "execution_count": 3, 
            "cell_type": "code", 
            "metadata": {}, 
            "outputs": [], 
            "source": "# We now create a SQL DataFrame, this entity is a distributed collection of data organized into named columns. It is conceptually equivalent to a table in a relational database or a data frame in Python, but with richer optimizations under the hood. We will utilize the recently created Spark RDD and use the Spark SQL context to create the desired data frame,\n\n# We first create function that will allow to parse a record of our RDD into the desired format. As a reference we take a look at features_names and feature_example we just created above\n\ndef parse(r):\n    try:\n        x=Row(Month=int(r[1]),\\\n          DayofMonth=int(r[2]),\\\n          DayOfWeek=int(r[3]),\\\n          CRSDepTime=int(r[5]),\\\n          DepDelay=int(float(r[15])),\\\n          Origin=r[16],\\\n          Dest=r[17], \\\n          Distance=int(float(r[18]))) \n    except:\n        x=None  \n    return x\n\n# define hour function to obtain hour of day\ndef hour_ex(x): \n    h = int(str(int(x)).zfill(4)[:2])\n    return h\n# register as a UDF \nf = udf(hour_ex, IntegerType())"
        }, 
        {
            "execution_count": 4, 
            "cell_type": "code", 
            "metadata": {}, 
            "outputs": [], 
            "source": "def prepFlightDelay(airfile, orgn):\n    textFile = sc.textFile(airfile)\n    textFileRDD = textFile.map(lambda x: x.split(','))\n    header = textFileRDD.first()\n    textRDD = textFileRDD.filter(lambda r: r != header)\n    rowRDD = textRDD.map(lambda r: parse(r)).filter(lambda r:r != None)\n    airline_df = sqlContext.createDataFrame(rowRDD)\n    airline_df = airline_df.withColumn('hour', f(airline_df.CRSDepTime))\n    airline_df.registerTempTable(\"airlineDF\")\n    airline_df_orgn = airline_df.filter((col(\"Origin\") == orgn))\n    airline_df_orgn_15 = airline_df_orgn.withColumn('DepDelayed', (airline_df_orgn['DepDelay']>15).cast(DoubleType()))\n    return airline_df_orgn_15"
        }, 
        {
            "execution_count": 5, 
            "cell_type": "code", 
            "metadata": {}, 
            "outputs": [], 
            "source": "def prepWeather(wfile):\n    df = sqlContext.read.csv(wfile, header=True)\n    df_parse = df.drop('STATION', 'NAME')\n    df_parse1 = df_parse.withColumn(\"DATE\", regexp_replace('DATE', '/', '-'))\n    df_parse2 = df_parse1.withColumn(\"AWND\", df_parse1[\"AWND\"].cast(\"Int\"))\n    df_parse3 = df_parse2.withColumn(\"PRCP\", df_parse2[\"PRCP\"].cast(\"Int\"))\n    df_parse4 = df_parse3.withColumn(\"SNOW\", df_parse3[\"SNOW\"].cast(\"Int\"))\n    df_parse5 = df_parse4.withColumn(\"TMAX\", df_parse4[\"TMAX\"].cast(\"Int\"))\n    df_parse6 = df_parse5.withColumn(\"TMIN\", df_parse5[\"TMIN\"].cast(\"Int\"))\n    df_month = df_parse6.withColumn(\"Month\", split(df_parse6.DATE, \"-\")[0].cast(\"Int\"))\n    df_day = df_month.withColumn(\"DayofMonth\", split(df_month.DATE, \"-\")[1].cast(\"Int\"))\n    df_weather = df_day.drop('DATE')\n    return df_weather"
        }, 
        {
            "execution_count": 6, 
            "cell_type": "code", 
            "metadata": {}, 
            "outputs": [], 
            "source": "def preprocessing (airfile,wfile,org):\n    airline_delay_org = prepFlightDelay(airfile,org)\n    airlinedelay_pd_df = airline_delay_org.toPandas()\n    df_weather = prepWeather(wfile)\n    weather_pd_df = df_weather.toPandas()\n    airdelay_weather = pd.merge(airlinedelay_pd_df,weather_pd_df,how='right', left_on=['Month','DayofMonth'], right_on = ['Month','DayofMonth'])\n    airdelay_pred = sqlContext.createDataFrame(airdelay_weather)\n    return airdelay_pred"
        }, 
        {
            "execution_count": 7, 
            "cell_type": "code", 
            "metadata": {}, 
            "outputs": [], 
            "source": "flight_delay_2007 = preprocessing (\"2007.csv\",\"2007-ord-weather-data.csv\",\"ORD\")"
        }, 
        {
            "execution_count": 8, 
            "cell_type": "code", 
            "metadata": {}, 
            "outputs": [
                {
                    "output_type": "stream", 
                    "name": "stdout", 
                    "text": "root\n |-- CRSDepTime: long (nullable = true)\n |-- DayOfWeek: long (nullable = true)\n |-- DayofMonth: long (nullable = true)\n |-- DepDelay: long (nullable = true)\n |-- Dest: string (nullable = true)\n |-- Distance: long (nullable = true)\n |-- Month: long (nullable = true)\n |-- Origin: string (nullable = true)\n |-- hour: long (nullable = true)\n |-- DepDelayed: double (nullable = true)\n |-- AWND: long (nullable = true)\n |-- PRCP: long (nullable = true)\n |-- SNOW: long (nullable = true)\n |-- TMAX: long (nullable = true)\n |-- TMIN: long (nullable = true)\n\n"
                }
            ], 
            "source": "flight_delay_2007.printSchema()"
        }, 
        {
            "execution_count": 9, 
            "cell_type": "code", 
            "metadata": {}, 
            "outputs": [
                {
                    "execution_count": 9, 
                    "metadata": {}, 
                    "data": {
                        "text/plain": "[('CRSDepTime', 'bigint'),\n ('DayOfWeek', 'bigint'),\n ('DayofMonth', 'bigint'),\n ('DepDelay', 'bigint'),\n ('Dest', 'string'),\n ('Distance', 'bigint'),\n ('Month', 'bigint'),\n ('Origin', 'string'),\n ('hour', 'bigint'),\n ('DepDelayed', 'double'),\n ('AWND', 'bigint'),\n ('PRCP', 'bigint'),\n ('SNOW', 'bigint'),\n ('TMAX', 'bigint'),\n ('TMIN', 'bigint')]"
                    }, 
                    "output_type": "execute_result"
                }
            ], 
            "source": "flight_delay_2007.dtypes"
        }, 
        {
            "execution_count": 10, 
            "cell_type": "code", 
            "metadata": {}, 
            "outputs": [], 
            "source": "flight_delay_2008 = preprocessing (\"2008.csv\",\"2008-ord-weather-data.csv\",\"ORD\")"
        }, 
        {
            "execution_count": 11, 
            "cell_type": "code", 
            "metadata": {}, 
            "outputs": [], 
            "source": "from pyspark.ml.feature import StringIndexer, IndexToString, VectorAssembler, OneHotEncoder, StandardScaler, StandardScalerModel, VectorSlicer\nfrom pyspark.ml.classification import RandomForestClassifier\nfrom pyspark.ml.evaluation import MulticlassClassificationEvaluator\nfrom pyspark.ml.tuning import CrossValidator, ParamGridBuilder\nfrom pyspark.ml import Pipeline, Model"
        }, 
        {
            "execution_count": null, 
            "cell_type": "code", 
            "metadata": {}, 
            "outputs": [], 
            "source": ""
        }, 
        {
            "execution_count": 12, 
            "cell_type": "code", 
            "metadata": {}, 
            "outputs": [], 
            "source": "#predict_label = StringIndexer(inputCol=\"DepDelayed\", outputCol=\"label\").fit(flight_delay_2007)\n#predict_label_df = predict_label.transform(flight_delay_2007)\n#predict_label_df.show()"
        }, 
        {
            "execution_count": 13, 
            "cell_type": "code", 
            "metadata": {}, 
            "outputs": [], 
            "source": "#str_dest = StringIndexer(inputCol=\"Dest\", outputCol=\"Destination\").fit(flight_delay_2007)\n#str_dest_df = str_dest.transform(flight_delay_2007)\n#str_dest_df.show()"
        }, 
        {
            "execution_count": 14, 
            "cell_type": "code", 
            "metadata": {}, 
            "outputs": [], 
            "source": "#encoder = OneHotEncoder(inputCol=\"Destination\", outputCol=\"Dest_vector\")\n#encoded_df = encoder.transform(str_dest_df)\n#encoded_df.show()"
        }, 
        {
            "execution_count": 15, 
            "cell_type": "code", 
            "metadata": {}, 
            "outputs": [], 
            "source": "#inputColumns = [\"hour\",\"DayOfWeek\",\"DayofMonth\",\"DepDelay\",\"Distance\",\"Month\",\"AWND\",\"PRCP\",\"SNOW\",\"TMAX\",\"TMIN\",\"Dest_vector\"]\n#assembler = VectorAssembler(inputCols=inputColumns, outputCol=\"rawfeatures\")\n#encoded_df_with_indexed_bar = assembler.transform(encoded_df)\n#encoded_df_with_indexed_bar.show()"
        }, 
        {
            "execution_count": 16, 
            "cell_type": "code", 
            "metadata": {}, 
            "outputs": [], 
            "source": "#scaler = StandardScaler(inputCol=\"rawfeatures\", outputCol=\"features\", withStd=True, withMean=False)\n\n# Compute summary statistics by fitting the StandardScaler\n#scalerModel = scaler.fit(encoded_df_with_indexed_bar)\n# Normalize each feature to have unit standard deviation.\n#scaledData = scalerModel.transform(encoded_df_with_indexed_bar)\n#scaledData.select(\"features\").take(5)"
        }, 
        {
            "execution_count": 17, 
            "cell_type": "code", 
            "metadata": {}, 
            "outputs": [], 
            "source": "#predict_label = StringIndexer(inputCol=\"DepDelayed\", outputCol=\"label\").fit(scaledData)\n#predict_label_df = predict_label.transform(scaledData)\n#predict_label_df.show()"
        }, 
        {
            "execution_count": 18, 
            "cell_type": "code", 
            "metadata": {}, 
            "outputs": [], 
            "source": "def ml_preprocess(dataset):\n    pipeline_stages = [] # stages in our Pipeline\n    \n    #str_dest = StringIndexer(inputCol=\"Dest\", outputCol=\"Destination\").fit(dataset)\n    #pipeline_stages += [str_dest]\n                        \n    #encoder = OneHotEncoder(inputCol=\"Destination\", outputCol=\"Dest_vector\")\n    #pipeline_stages += [encoder]\n    \n    # Transform all features into a vector using VectorAssembler\n    #inputColumns = [\"hour\",\"DayOfWeek\",\"DayofMonth\",\"DepDelay\",\"Distance\",\"Month\",\"AWND\",\"PRCP\",\"SNOW\",\"TMAX\",\"TMIN\",\"Dest_vector\"]\n    \n    inputColumns = [\"hour\",\"DayOfWeek\",\"DayofMonth\",\"DepDelay\",\"Distance\",\"Month\",\"AWND\",\"PRCP\",\"SNOW\",\"TMAX\",\"TMIN\"]\n    assembler = VectorAssembler(inputCols=inputColumns, outputCol=\"rawfeatures\")\n    pipeline_stages += [assembler]\n    \n    # Compute summary statistics by fitting the StandardScaler\n    scaler = StandardScaler(inputCol=\"rawfeatures\", outputCol=\"features\", withStd=True, withMean=False)\n    pipeline_stages += [scaler]\n    \n    # Convert label into label indices using the StringIndexer\n    predict_label = StringIndexer(inputCol=\"DepDelayed\", outputCol=\"label\")\n    pipeline_stages += [predict_label]\n\n    \n    # Create a Pipeline.\n    pipeline = Pipeline(stages=pipeline_stages)\n\n    # Run the feature transformations.\n    #  - fit() computes feature statistics as needed.\n    #  - transform() actually transforms the features.\n    pipelineModel = pipeline.fit(dataset)\n    processed_dataset = pipelineModel.transform(dataset)\n    \n    return processed_dataset"
        }, 
        {
            "execution_count": 19, 
            "cell_type": "code", 
            "metadata": {}, 
            "outputs": [], 
            "source": "training_data_2007 = ml_preprocess(flight_delay_2007)\ntesting_data_2008 = ml_preprocess(flight_delay_2008)"
        }, 
        {
            "execution_count": 20, 
            "cell_type": "code", 
            "metadata": {}, 
            "outputs": [], 
            "source": "lr = LogisticRegression(labelCol=\"label\", featuresCol=\"features\", maxIter=10)\n# Train model with Training Data\nlrModel = lr.fit(training_data_2007)"
        }, 
        {
            "execution_count": 21, 
            "cell_type": "code", 
            "metadata": {}, 
            "outputs": [], 
            "source": "lrPredictions = lrModel.transform(testing_data_2008)"
        }, 
        {
            "execution_count": 22, 
            "cell_type": "code", 
            "metadata": {}, 
            "outputs": [
                {
                    "output_type": "stream", 
                    "name": "stdout", 
                    "text": "True Positives: 90894\nTrue Negatives: 241108\nFalse Positives: 1463\nFalse Negatives: 1975\nTotal 335440\nrecall 0.9787334848011715\nprecision 0.9841592949099689\nCoefficients: [-0.3678499133512859,-0.09437739814238613,-0.09935150115794421,14.935835185306226,-0.067094064160487,-0.18106322132157182,-0.40356500187582595,-0.03257932452584976,-0.16653294800058627,-0.6997083468438263,0.4704541369660158]\nIntercept: -1.8298029174121397\n"
                }
            ], 
            "source": "# Build a Confusion Matrix\nlp = lrPredictions.select( \"label\", \"prediction\")\ncounttotal = lrPredictions.count()\n\n\ntp = lp[(lp.label == 1) & (lp.prediction == 1)].count()\ntn = lp[(lp.label == 0) & (lp.prediction == 0)].count()\nfp = lp[(lp.label == 0) & (lp.prediction == 1)].count()\nfn = lp[(lp.label == 1) & (lp.prediction == 0)].count()\nprint (\"True Positives:\", tp)\nprint (\"True Negatives:\", tn)\nprint (\"False Positives:\", fp)\nprint (\"False Negatives:\", fn)\nprint (\"Total\", lp.count())\n\nr = float(tp)/(tp + fn)\nprint (\"recall\", r)\n\np = float(tp) / (tp + fp)\nprint (\"precision\", p)\n\n\nprint(\"Coefficients: \" + str(lrModel.coefficients))\nprint(\"Intercept: \" + str(lrModel.intercept))"
        }, 
        {
            "execution_count": 23, 
            "cell_type": "code", 
            "metadata": {}, 
            "outputs": [
                {
                    "execution_count": 23, 
                    "metadata": {}, 
                    "data": {
                        "text/plain": "array([[ 90894,   1975],\n       [  1463, 241108]])"
                    }, 
                    "output_type": "execute_result"
                }
            ], 
            "source": "import numpy as np\ncm_results = np.array([[tp,fn],[fp,tn]])\ncm_results"
        }, 
        {
            "execution_count": 24, 
            "cell_type": "code", 
            "metadata": {}, 
            "outputs": [], 
            "source": "import itertools\ndef plot_confusion_matrix(cm,\n                          target_names,\n                          title='Confusion matrix',\n                          cmap=None,\n                          normalize=True):\n\n    accuracy = np.trace(cm) / float(np.sum(cm))\n    misclass = 1 - accuracy\n\n    if cmap is None:\n        cmap = plt.get_cmap('Blues')\n\n    plt.figure(figsize=(8, 6))\n    plt.imshow(cm, interpolation='nearest', cmap=cmap)\n    plt.title(title)\n    plt.colorbar()\n\n    if target_names is not None:\n        tick_marks = np.arange(len(target_names))\n        plt.xticks(tick_marks, target_names, rotation=45)\n        plt.yticks(tick_marks, target_names)\n\n    if normalize:\n        cm = cm.astype('float') / cm.sum(axis=1)[:, np.newaxis]\n\n\n    thresh = cm.max() / 1.5 if normalize else cm.max() / 2\n    for i, j in itertools.product(range(cm.shape[0]), range(cm.shape[1])):\n        if normalize:\n            plt.text(j, i, \"{:0.4f}\".format(cm[i, j]),\n                     horizontalalignment=\"center\",\n                     color=\"white\" if cm[i, j] > thresh else \"black\")\n        else:\n            plt.text(j, i, \"{:,}\".format(cm[i, j]),\n                     horizontalalignment=\"center\",\n                     color=\"white\" if cm[i, j] > thresh else \"black\")\n\n\n    plt.tight_layout()\n    plt.ylabel('True label')\n    plt.xlabel('Predicted label\\naccuracy={:0.4f}; misclass={:0.4f}'.format(accuracy, misclass))\n    plt.show()"
        }, 
        {
            "execution_count": 25, 
            "cell_type": "code", 
            "metadata": {}, 
            "outputs": [
                {
                    "output_type": "display_data", 
                    "data": {
                        "image/png": "[encoded data removed]", 
                        "text/plain": "<matplotlib.figure.Figure at 0x7f58ae143400>"
                    }, 
                    "metadata": {}
                }
            ], 
            "source": "plot_confusion_matrix(cm           = cm_results, \n                      normalize    = False,\n                      target_names = ['Delayed', 'Not_Delayed'],\n                      title        = \"Confusion Matrix\")"
        }, 
        {
            "execution_count": 26, 
            "cell_type": "code", 
            "metadata": {}, 
            "outputs": [
                {
                    "output_type": "display_data", 
                    "data": {
                        "image/png": "[encoded data removed]", 
                        "text/plain": "<matplotlib.figure.Figure at 0x7f58a94436d8>"
                    }, 
                    "metadata": {}
                }
            ], 
            "source": "#%spark2.pyspark\n##### We can obtain the coefficients by using LogisticRegressionModel\u2019s attributes.\nimport matplotlib.pyplot as plt\nimport numpy as np\n\nbeta = np.sort(lrModel.coefficients)\n\nplt.plot(beta)\nplt.ylabel('Training Data Coefficients')\nplt.show()"
        }, 
        {
            "execution_count": null, 
            "cell_type": "code", 
            "metadata": {}, 
            "outputs": [], 
            "source": "trainingSummary = lrModel.summary\n\nroc = trainingSummary.roc.toPandas()\nplt.plot(roc['FPR'],roc['TPR'])\nplt.ylabel('False Positive Rate')\nplt.xlabel('True Positive Rate')\nplt.title('ROC Curve')\nplt.show()\n\nprint('Training set areaUnderROC: ' + str(trainingSummary.areaUnderROC))"
        }, 
        {
            "execution_count": null, 
            "cell_type": "code", 
            "metadata": {}, 
            "outputs": [], 
            "source": "lrModel.summary"
        }, 
        {
            "execution_count": null, 
            "cell_type": "code", 
            "metadata": {}, 
            "outputs": [], 
            "source": "# Precision and Recall\n\npr = trainingSummary.pr.toPandas()\nplt.plot(pr['recall'],pr['precision'])\nplt.ylabel('Precision')\nplt.xlabel('Recall')\nplt.show()"
        }, 
        {
            "execution_count": null, 
            "cell_type": "code", 
            "metadata": {}, 
            "outputs": [], 
            "source": "lrPredictions.printSchema()\nlr_prediction_df = lrPredictions.toPandas()"
        }, 
        {
            "execution_count": null, 
            "cell_type": "code", 
            "metadata": {}, 
            "outputs": [], 
            "source": ""
        }
    ], 
    "metadata": {
        "kernelspec": {
            "display_name": "Python 3.5 with Spark 2.1", 
            "name": "python3-spark21", 
            "language": "python"
        }, 
        "language_info": {
            "mimetype": "text/x-python", 
            "nbconvert_exporter": "python", 
            "version": "3.5.4", 
            "name": "python", 
            "file_extension": ".py", 
            "pygments_lexer": "ipython3", 
            "codemirror_mode": {
                "version": 3, 
                "name": "ipython"
            }
        }
    }, 
    "nbformat": 4
}